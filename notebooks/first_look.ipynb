{
 "cells": [
  {
   "cell_type": "code",
   "execution_count": null,
   "outputs": [],
   "source": [
    "import pandas as pd\n",
    "import seaborn as sns"
   ],
   "metadata": {
    "collapsed": false,
    "pycharm": {
     "name": "#%%\n",
     "is_executing": true
    }
   }
  },
  {
   "cell_type": "code",
   "execution_count": 3,
   "outputs": [],
   "source": [
    "df_trips = pd.read_csv(\"../../data/philadelphia_2016.csv\")"
   ],
   "metadata": {
    "collapsed": false,
    "pycharm": {
     "name": "#%%\n"
    }
   }
  },
  {
   "cell_type": "code",
   "execution_count": 4,
   "outputs": [
    {
     "data": {
      "text/plain": "              start_time          end_time  start_station_id  end_station_id  \\\n0          1/1/2016 0:04     1/1/2016 0:14            3046.0            3041   \n1          1/1/2016 0:07     1/1/2016 0:29            3028.0            3019   \n2          1/1/2016 0:14     1/1/2016 0:27            3007.0            3066   \n3          1/1/2016 0:20     1/1/2016 0:42            3005.0            3064   \n4          1/1/2016 0:20     1/1/2016 0:30            3045.0            3028   \n...                  ...               ...               ...             ...   \n655053  12/31/2016 23:35  12/31/2016 23:39            3010.0            3007   \n655054  12/31/2016 23:40  12/31/2016 23:46            3040.0            3115   \n655055  12/31/2016 23:45  12/31/2016 23:50            3069.0            3007   \n655056  12/31/2016 23:47     1/1/2017 0:12            3007.0            3007   \n655057  12/31/2016 23:55     1/1/2017 0:20            3069.0            3069   \n\n        bike_id user_type                    end_station_name  \\\n0          3564  Indego30                 Girard Station, MFL   \n1          2629  Indego30                          6th & Race   \n2          3430  Indego30                      19th & Lombard   \n3          3351   Walk-up  18th & Washington, Chew Playground   \n4          3715  Indego30                    4th & Bainbridge   \n...         ...       ...                                 ...   \n655053     3535  Indego30              11th & Pine, Kahn Park   \n655054     5395  Indego30                 19th & Girard, PTTI   \n655055    11040  Indego30              11th & Pine, Kahn Park   \n655056     3535  Indego30              11th & Pine, Kahn Park   \n655057     3372  Indego30                     4th & Christian   \n\n            start_station_name  \n0                 2nd & Market  \n1             4th & Bainbridge  \n2       11th & Pine, Kahn Park  \n3            Welcome Park, NPS  \n4                13th & Locust  \n...                        ...  \n655053           15th & Spruce  \n655054    17th & Spring Garden  \n655055         4th & Christian  \n655056  11th & Pine, Kahn Park  \n655057         4th & Christian  \n\n[655058 rows x 8 columns]",
      "text/html": "<div>\n<style scoped>\n    .dataframe tbody tr th:only-of-type {\n        vertical-align: middle;\n    }\n\n    .dataframe tbody tr th {\n        vertical-align: top;\n    }\n\n    .dataframe thead th {\n        text-align: right;\n    }\n</style>\n<table border=\"1\" class=\"dataframe\">\n  <thead>\n    <tr style=\"text-align: right;\">\n      <th></th>\n      <th>start_time</th>\n      <th>end_time</th>\n      <th>start_station_id</th>\n      <th>end_station_id</th>\n      <th>bike_id</th>\n      <th>user_type</th>\n      <th>end_station_name</th>\n      <th>start_station_name</th>\n    </tr>\n  </thead>\n  <tbody>\n    <tr>\n      <th>0</th>\n      <td>1/1/2016 0:04</td>\n      <td>1/1/2016 0:14</td>\n      <td>3046.0</td>\n      <td>3041</td>\n      <td>3564</td>\n      <td>Indego30</td>\n      <td>Girard Station, MFL</td>\n      <td>2nd &amp; Market</td>\n    </tr>\n    <tr>\n      <th>1</th>\n      <td>1/1/2016 0:07</td>\n      <td>1/1/2016 0:29</td>\n      <td>3028.0</td>\n      <td>3019</td>\n      <td>2629</td>\n      <td>Indego30</td>\n      <td>6th &amp; Race</td>\n      <td>4th &amp; Bainbridge</td>\n    </tr>\n    <tr>\n      <th>2</th>\n      <td>1/1/2016 0:14</td>\n      <td>1/1/2016 0:27</td>\n      <td>3007.0</td>\n      <td>3066</td>\n      <td>3430</td>\n      <td>Indego30</td>\n      <td>19th &amp; Lombard</td>\n      <td>11th &amp; Pine, Kahn Park</td>\n    </tr>\n    <tr>\n      <th>3</th>\n      <td>1/1/2016 0:20</td>\n      <td>1/1/2016 0:42</td>\n      <td>3005.0</td>\n      <td>3064</td>\n      <td>3351</td>\n      <td>Walk-up</td>\n      <td>18th &amp; Washington, Chew Playground</td>\n      <td>Welcome Park, NPS</td>\n    </tr>\n    <tr>\n      <th>4</th>\n      <td>1/1/2016 0:20</td>\n      <td>1/1/2016 0:30</td>\n      <td>3045.0</td>\n      <td>3028</td>\n      <td>3715</td>\n      <td>Indego30</td>\n      <td>4th &amp; Bainbridge</td>\n      <td>13th &amp; Locust</td>\n    </tr>\n    <tr>\n      <th>...</th>\n      <td>...</td>\n      <td>...</td>\n      <td>...</td>\n      <td>...</td>\n      <td>...</td>\n      <td>...</td>\n      <td>...</td>\n      <td>...</td>\n    </tr>\n    <tr>\n      <th>655053</th>\n      <td>12/31/2016 23:35</td>\n      <td>12/31/2016 23:39</td>\n      <td>3010.0</td>\n      <td>3007</td>\n      <td>3535</td>\n      <td>Indego30</td>\n      <td>11th &amp; Pine, Kahn Park</td>\n      <td>15th &amp; Spruce</td>\n    </tr>\n    <tr>\n      <th>655054</th>\n      <td>12/31/2016 23:40</td>\n      <td>12/31/2016 23:46</td>\n      <td>3040.0</td>\n      <td>3115</td>\n      <td>5395</td>\n      <td>Indego30</td>\n      <td>19th &amp; Girard, PTTI</td>\n      <td>17th &amp; Spring Garden</td>\n    </tr>\n    <tr>\n      <th>655055</th>\n      <td>12/31/2016 23:45</td>\n      <td>12/31/2016 23:50</td>\n      <td>3069.0</td>\n      <td>3007</td>\n      <td>11040</td>\n      <td>Indego30</td>\n      <td>11th &amp; Pine, Kahn Park</td>\n      <td>4th &amp; Christian</td>\n    </tr>\n    <tr>\n      <th>655056</th>\n      <td>12/31/2016 23:47</td>\n      <td>1/1/2017 0:12</td>\n      <td>3007.0</td>\n      <td>3007</td>\n      <td>3535</td>\n      <td>Indego30</td>\n      <td>11th &amp; Pine, Kahn Park</td>\n      <td>11th &amp; Pine, Kahn Park</td>\n    </tr>\n    <tr>\n      <th>655057</th>\n      <td>12/31/2016 23:55</td>\n      <td>1/1/2017 0:20</td>\n      <td>3069.0</td>\n      <td>3069</td>\n      <td>3372</td>\n      <td>Indego30</td>\n      <td>4th &amp; Christian</td>\n      <td>4th &amp; Christian</td>\n    </tr>\n  </tbody>\n</table>\n<p>655058 rows × 8 columns</p>\n</div>"
     },
     "execution_count": 4,
     "metadata": {},
     "output_type": "execute_result"
    }
   ],
   "source": [
    "df_trips"
   ],
   "metadata": {
    "collapsed": false,
    "pycharm": {
     "name": "#%%\n"
    }
   }
  },
  {
   "cell_type": "code",
   "execution_count": null,
   "outputs": [],
   "source": [],
   "metadata": {
    "collapsed": false,
    "pycharm": {
     "name": "#%%\n"
    }
   }
  }
 ],
 "metadata": {
  "kernelspec": {
   "display_name": "Python 3",
   "language": "python",
   "name": "python3"
  },
  "language_info": {
   "codemirror_mode": {
    "name": "ipython",
    "version": 2
   },
   "file_extension": ".py",
   "mimetype": "text/x-python",
   "name": "python",
   "nbconvert_exporter": "python",
   "pygments_lexer": "ipython2",
   "version": "2.7.6"
  }
 },
 "nbformat": 4,
 "nbformat_minor": 0
}