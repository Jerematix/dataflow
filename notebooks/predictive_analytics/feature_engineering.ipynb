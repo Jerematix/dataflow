{
 "cells": [
  {
   "cell_type": "markdown",
   "id": "941fed93",
   "metadata": {},
   "source": [
    "# Feature Engineering"
   ]
  },
  {
   "cell_type": "markdown",
   "id": "2c2b5073",
   "metadata": {},
   "source": [
    "In this notebook, the data that we are using will be aggregated on an hourly basis so that we can use it for predictive analysis. In the next step we will engineer new features from the given data as well as other sources. Lastly, we select features that we want to keep in our predictive analysis and features we want to drop using lasso regression and feature correlation."
   ]
  },
  {
   "cell_type": "code",
   "execution_count": 141,
   "id": "047bbe85",
   "metadata": {},
   "outputs": [],
   "source": [
    "# First we import all needed libraries\n",
    "import pandas as pd\n",
    "import matplotlib.pyplot as plt\n",
    "import json\n",
    "from datetime import datetime\n",
    "import seaborn as sns\n",
    "from sklearn.preprocessing import StandardScaler\n",
    "from sklearn.linear_model import Lasso, LassoCV\n",
    "from sklearn.metrics import mean_squared_error\n",
    "import requests\n",
    "import concurrent.futures\n",
    "import geopandas as gpd\n",
    "from shapely.geometry import Point\n",
    "import numpy as np"
   ]
  },
  {
   "cell_type": "markdown",
   "id": "11495f97",
   "metadata": {},
   "source": [
    "## Data aggregation"
   ]
  },
  {
   "cell_type": "markdown",
   "id": "780b75fc",
   "metadata": {},
   "source": [
    "In order to predict the data on an hourly basis we need to aggregate the data first. To do this, we add the columns \"start_time_floored and \"end_time_floored\" to our table. Their purpose is to match every trip with a specific hour of the day (0-23), based on the floored start or end time of the trip."
   ]
  },
  {
   "cell_type": "code",
   "execution_count": 142,
   "id": "df516224",
   "metadata": {},
   "outputs": [
    {
     "data": {
      "text/html": [
       "<div>\n",
       "<style scoped>\n",
       "    .dataframe tbody tr th:only-of-type {\n",
       "        vertical-align: middle;\n",
       "    }\n",
       "\n",
       "    .dataframe tbody tr th {\n",
       "        vertical-align: top;\n",
       "    }\n",
       "\n",
       "    .dataframe thead th {\n",
       "        text-align: right;\n",
       "    }\n",
       "</style>\n",
       "<table border=\"1\" class=\"dataframe\">\n",
       "  <thead>\n",
       "    <tr style=\"text-align: right;\">\n",
       "      <th></th>\n",
       "      <th>start_time</th>\n",
       "      <th>end_time</th>\n",
       "      <th>start_station_id</th>\n",
       "      <th>end_station_id</th>\n",
       "      <th>bike_id</th>\n",
       "      <th>user_type</th>\n",
       "      <th>end_station_name</th>\n",
       "      <th>start_station_name</th>\n",
       "      <th>duration</th>\n",
       "      <th>start_lat</th>\n",
       "      <th>start_lon</th>\n",
       "      <th>end_lat</th>\n",
       "      <th>end_lon</th>\n",
       "      <th>distance</th>\n",
       "      <th>speed</th>\n",
       "      <th>average_time</th>\n",
       "      <th>date_time</th>\n",
       "      <th>max_temp</th>\n",
       "      <th>min_temp</th>\n",
       "      <th>precip</th>\n",
       "    </tr>\n",
       "    <tr>\n",
       "      <th>index</th>\n",
       "      <th></th>\n",
       "      <th></th>\n",
       "      <th></th>\n",
       "      <th></th>\n",
       "      <th></th>\n",
       "      <th></th>\n",
       "      <th></th>\n",
       "      <th></th>\n",
       "      <th></th>\n",
       "      <th></th>\n",
       "      <th></th>\n",
       "      <th></th>\n",
       "      <th></th>\n",
       "      <th></th>\n",
       "      <th></th>\n",
       "      <th></th>\n",
       "      <th></th>\n",
       "      <th></th>\n",
       "      <th></th>\n",
       "      <th></th>\n",
       "    </tr>\n",
       "  </thead>\n",
       "  <tbody>\n",
       "    <tr>\n",
       "      <th>0</th>\n",
       "      <td>2016-01-01 00:04:00</td>\n",
       "      <td>2016-01-01 00:14:00</td>\n",
       "      <td>3046</td>\n",
       "      <td>3041</td>\n",
       "      <td>3564</td>\n",
       "      <td>Indego30</td>\n",
       "      <td>Girard Station, MFL</td>\n",
       "      <td>2nd &amp; Market</td>\n",
       "      <td>0 days 00:10:00</td>\n",
       "      <td>39.949895</td>\n",
       "      <td>-75.143749</td>\n",
       "      <td>39.969241</td>\n",
       "      <td>-75.136180</td>\n",
       "      <td>1.005648</td>\n",
       "      <td>6.033888</td>\n",
       "      <td>2016-01-01 00:09:00</td>\n",
       "      <td>2016-01-01</td>\n",
       "      <td>6.7</td>\n",
       "      <td>6.7</td>\n",
       "      <td>0.0</td>\n",
       "    </tr>\n",
       "    <tr>\n",
       "      <th>1</th>\n",
       "      <td>2016-01-01 00:07:00</td>\n",
       "      <td>2016-01-01 00:29:00</td>\n",
       "      <td>3028</td>\n",
       "      <td>3019</td>\n",
       "      <td>2629</td>\n",
       "      <td>Indego30</td>\n",
       "      <td>6th &amp; Race</td>\n",
       "      <td>4th &amp; Bainbridge</td>\n",
       "      <td>0 days 00:22:00</td>\n",
       "      <td>39.940735</td>\n",
       "      <td>-75.149370</td>\n",
       "      <td>39.954694</td>\n",
       "      <td>-75.149496</td>\n",
       "      <td>0.397798</td>\n",
       "      <td>1.084905</td>\n",
       "      <td>2016-01-01 00:18:00</td>\n",
       "      <td>2016-01-01</td>\n",
       "      <td>6.7</td>\n",
       "      <td>6.7</td>\n",
       "      <td>0.0</td>\n",
       "    </tr>\n",
       "    <tr>\n",
       "      <th>2</th>\n",
       "      <td>2016-01-01 00:14:00</td>\n",
       "      <td>2016-01-01 00:27:00</td>\n",
       "      <td>3007</td>\n",
       "      <td>3066</td>\n",
       "      <td>3430</td>\n",
       "      <td>Indego30</td>\n",
       "      <td>19th &amp; Lombard</td>\n",
       "      <td>11th &amp; Pine, Kahn Park</td>\n",
       "      <td>0 days 00:13:00</td>\n",
       "      <td>39.945123</td>\n",
       "      <td>-75.159952</td>\n",
       "      <td>39.945664</td>\n",
       "      <td>-75.173272</td>\n",
       "      <td>1.480278</td>\n",
       "      <td>6.832050</td>\n",
       "      <td>2016-01-01 00:20:30</td>\n",
       "      <td>2016-01-01</td>\n",
       "      <td>6.7</td>\n",
       "      <td>6.7</td>\n",
       "      <td>0.0</td>\n",
       "    </tr>\n",
       "  </tbody>\n",
       "</table>\n",
       "</div>"
      ],
      "text/plain": [
       "               start_time            end_time  start_station_id  \\\n",
       "index                                                             \n",
       "0     2016-01-01 00:04:00 2016-01-01 00:14:00              3046   \n",
       "1     2016-01-01 00:07:00 2016-01-01 00:29:00              3028   \n",
       "2     2016-01-01 00:14:00 2016-01-01 00:27:00              3007   \n",
       "\n",
       "       end_station_id  bike_id user_type     end_station_name  \\\n",
       "index                                                           \n",
       "0                3041     3564  Indego30  Girard Station, MFL   \n",
       "1                3019     2629  Indego30           6th & Race   \n",
       "2                3066     3430  Indego30       19th & Lombard   \n",
       "\n",
       "           start_station_name        duration  start_lat  start_lon  \\\n",
       "index                                                                 \n",
       "0                2nd & Market 0 days 00:10:00  39.949895 -75.143749   \n",
       "1            4th & Bainbridge 0 days 00:22:00  39.940735 -75.149370   \n",
       "2      11th & Pine, Kahn Park 0 days 00:13:00  39.945123 -75.159952   \n",
       "\n",
       "         end_lat    end_lon  distance     speed        average_time  \\\n",
       "index                                                                 \n",
       "0      39.969241 -75.136180  1.005648  6.033888 2016-01-01 00:09:00   \n",
       "1      39.954694 -75.149496  0.397798  1.084905 2016-01-01 00:18:00   \n",
       "2      39.945664 -75.173272  1.480278  6.832050 2016-01-01 00:20:30   \n",
       "\n",
       "       date_time  max_temp  min_temp  precip  \n",
       "index                                         \n",
       "0     2016-01-01       6.7       6.7     0.0  \n",
       "1     2016-01-01       6.7       6.7     0.0  \n",
       "2     2016-01-01       6.7       6.7     0.0  "
      ]
     },
     "execution_count": 142,
     "metadata": {},
     "output_type": "execute_result"
    }
   ],
   "source": [
    "# Saving the prepared data to work with it\n",
    "df_bike_trips = pd.read_parquet('../../data/bike_trips_cleaned.parquet')\n",
    "df_bike_trips.head(3)"
   ]
  },
  {
   "cell_type": "code",
   "execution_count": 143,
   "id": "3a1e4047",
   "metadata": {},
   "outputs": [
    {
     "data": {
      "text/html": [
       "<div>\n",
       "<style scoped>\n",
       "    .dataframe tbody tr th:only-of-type {\n",
       "        vertical-align: middle;\n",
       "    }\n",
       "\n",
       "    .dataframe tbody tr th {\n",
       "        vertical-align: top;\n",
       "    }\n",
       "\n",
       "    .dataframe thead th {\n",
       "        text-align: right;\n",
       "    }\n",
       "</style>\n",
       "<table border=\"1\" class=\"dataframe\">\n",
       "  <thead>\n",
       "    <tr style=\"text-align: right;\">\n",
       "      <th></th>\n",
       "      <th>start_time</th>\n",
       "      <th>end_time</th>\n",
       "      <th>start_station_id</th>\n",
       "      <th>end_station_id</th>\n",
       "      <th>bike_id</th>\n",
       "      <th>user_type</th>\n",
       "      <th>end_station_name</th>\n",
       "      <th>start_station_name</th>\n",
       "      <th>duration</th>\n",
       "      <th>start_lat</th>\n",
       "      <th>...</th>\n",
       "      <th>end_lon</th>\n",
       "      <th>distance</th>\n",
       "      <th>speed</th>\n",
       "      <th>average_time</th>\n",
       "      <th>date_time</th>\n",
       "      <th>max_temp</th>\n",
       "      <th>min_temp</th>\n",
       "      <th>precip</th>\n",
       "      <th>start_time_floored</th>\n",
       "      <th>end_time_floored</th>\n",
       "    </tr>\n",
       "    <tr>\n",
       "      <th>index</th>\n",
       "      <th></th>\n",
       "      <th></th>\n",
       "      <th></th>\n",
       "      <th></th>\n",
       "      <th></th>\n",
       "      <th></th>\n",
       "      <th></th>\n",
       "      <th></th>\n",
       "      <th></th>\n",
       "      <th></th>\n",
       "      <th></th>\n",
       "      <th></th>\n",
       "      <th></th>\n",
       "      <th></th>\n",
       "      <th></th>\n",
       "      <th></th>\n",
       "      <th></th>\n",
       "      <th></th>\n",
       "      <th></th>\n",
       "      <th></th>\n",
       "      <th></th>\n",
       "    </tr>\n",
       "  </thead>\n",
       "  <tbody>\n",
       "    <tr>\n",
       "      <th>0</th>\n",
       "      <td>2016-01-01 00:04:00</td>\n",
       "      <td>2016-01-01 00:14:00</td>\n",
       "      <td>3046</td>\n",
       "      <td>3041</td>\n",
       "      <td>3564</td>\n",
       "      <td>Indego30</td>\n",
       "      <td>Girard Station, MFL</td>\n",
       "      <td>2nd &amp; Market</td>\n",
       "      <td>0 days 00:10:00</td>\n",
       "      <td>39.949895</td>\n",
       "      <td>...</td>\n",
       "      <td>-75.136180</td>\n",
       "      <td>1.005648</td>\n",
       "      <td>6.033888</td>\n",
       "      <td>2016-01-01 00:09:00</td>\n",
       "      <td>2016-01-01</td>\n",
       "      <td>6.7</td>\n",
       "      <td>6.7</td>\n",
       "      <td>0.0</td>\n",
       "      <td>2016-01-01</td>\n",
       "      <td>2016-01-01</td>\n",
       "    </tr>\n",
       "    <tr>\n",
       "      <th>1</th>\n",
       "      <td>2016-01-01 00:07:00</td>\n",
       "      <td>2016-01-01 00:29:00</td>\n",
       "      <td>3028</td>\n",
       "      <td>3019</td>\n",
       "      <td>2629</td>\n",
       "      <td>Indego30</td>\n",
       "      <td>6th &amp; Race</td>\n",
       "      <td>4th &amp; Bainbridge</td>\n",
       "      <td>0 days 00:22:00</td>\n",
       "      <td>39.940735</td>\n",
       "      <td>...</td>\n",
       "      <td>-75.149496</td>\n",
       "      <td>0.397798</td>\n",
       "      <td>1.084905</td>\n",
       "      <td>2016-01-01 00:18:00</td>\n",
       "      <td>2016-01-01</td>\n",
       "      <td>6.7</td>\n",
       "      <td>6.7</td>\n",
       "      <td>0.0</td>\n",
       "      <td>2016-01-01</td>\n",
       "      <td>2016-01-01</td>\n",
       "    </tr>\n",
       "    <tr>\n",
       "      <th>2</th>\n",
       "      <td>2016-01-01 00:14:00</td>\n",
       "      <td>2016-01-01 00:27:00</td>\n",
       "      <td>3007</td>\n",
       "      <td>3066</td>\n",
       "      <td>3430</td>\n",
       "      <td>Indego30</td>\n",
       "      <td>19th &amp; Lombard</td>\n",
       "      <td>11th &amp; Pine, Kahn Park</td>\n",
       "      <td>0 days 00:13:00</td>\n",
       "      <td>39.945123</td>\n",
       "      <td>...</td>\n",
       "      <td>-75.173272</td>\n",
       "      <td>1.480278</td>\n",
       "      <td>6.832050</td>\n",
       "      <td>2016-01-01 00:20:30</td>\n",
       "      <td>2016-01-01</td>\n",
       "      <td>6.7</td>\n",
       "      <td>6.7</td>\n",
       "      <td>0.0</td>\n",
       "      <td>2016-01-01</td>\n",
       "      <td>2016-01-01</td>\n",
       "    </tr>\n",
       "  </tbody>\n",
       "</table>\n",
       "<p>3 rows × 22 columns</p>\n",
       "</div>"
      ],
      "text/plain": [
       "               start_time            end_time  start_station_id  \\\n",
       "index                                                             \n",
       "0     2016-01-01 00:04:00 2016-01-01 00:14:00              3046   \n",
       "1     2016-01-01 00:07:00 2016-01-01 00:29:00              3028   \n",
       "2     2016-01-01 00:14:00 2016-01-01 00:27:00              3007   \n",
       "\n",
       "       end_station_id  bike_id user_type     end_station_name  \\\n",
       "index                                                           \n",
       "0                3041     3564  Indego30  Girard Station, MFL   \n",
       "1                3019     2629  Indego30           6th & Race   \n",
       "2                3066     3430  Indego30       19th & Lombard   \n",
       "\n",
       "           start_station_name        duration  start_lat  ...    end_lon  \\\n",
       "index                                                     ...              \n",
       "0                2nd & Market 0 days 00:10:00  39.949895  ... -75.136180   \n",
       "1            4th & Bainbridge 0 days 00:22:00  39.940735  ... -75.149496   \n",
       "2      11th & Pine, Kahn Park 0 days 00:13:00  39.945123  ... -75.173272   \n",
       "\n",
       "       distance     speed        average_time  date_time max_temp min_temp  \\\n",
       "index                                                                        \n",
       "0      1.005648  6.033888 2016-01-01 00:09:00 2016-01-01      6.7      6.7   \n",
       "1      0.397798  1.084905 2016-01-01 00:18:00 2016-01-01      6.7      6.7   \n",
       "2      1.480278  6.832050 2016-01-01 00:20:30 2016-01-01      6.7      6.7   \n",
       "\n",
       "       precip  start_time_floored  end_time_floored  \n",
       "index                                                \n",
       "0         0.0          2016-01-01        2016-01-01  \n",
       "1         0.0          2016-01-01        2016-01-01  \n",
       "2         0.0          2016-01-01        2016-01-01  \n",
       "\n",
       "[3 rows x 22 columns]"
      ]
     },
     "execution_count": 143,
     "metadata": {},
     "output_type": "execute_result"
    }
   ],
   "source": [
    "# creation of floored start and end time columns\n",
    "df_bike_trips['start_time_floored'] = df_bike_trips['start_time'].dt.floor('H')\n",
    "df_bike_trips['end_time_floored'] = df_bike_trips['end_time'].dt.floor('H')\n",
    "\n",
    "df_bike_trips.head(3)"
   ]
  },
  {
   "cell_type": "code",
   "execution_count": 144,
   "id": "3260a84a",
   "metadata": {},
   "outputs": [],
   "source": [
    "# calculate the number of starting and ending trips for each hour\n",
    "starting_trips_grouped = (\n",
    "    df_bike_trips.groupby([\"start_time_floored\"])\n",
    "    .size()\n",
    "    .to_frame(\"starting_trips\")\n",
    ")\n",
    "ending_trips_grouped = (\n",
    "    df_bike_trips.groupby([\"end_time_floored\"])\n",
    "    .size()\n",
    "    .to_frame(\"ending_trips\")\n",
    ")"
   ]
  },
  {
   "cell_type": "code",
   "execution_count": 145,
   "id": "99cc56cb",
   "metadata": {},
   "outputs": [
    {
     "data": {
      "text/html": [
       "<div>\n",
       "<style scoped>\n",
       "    .dataframe tbody tr th:only-of-type {\n",
       "        vertical-align: middle;\n",
       "    }\n",
       "\n",
       "    .dataframe tbody tr th {\n",
       "        vertical-align: top;\n",
       "    }\n",
       "\n",
       "    .dataframe thead th {\n",
       "        text-align: right;\n",
       "    }\n",
       "</style>\n",
       "<table border=\"1\" class=\"dataframe\">\n",
       "  <thead>\n",
       "    <tr style=\"text-align: right;\">\n",
       "      <th></th>\n",
       "      <th>starting_trips</th>\n",
       "      <th>ending_trips</th>\n",
       "    </tr>\n",
       "  </thead>\n",
       "  <tbody>\n",
       "    <tr>\n",
       "      <th>2016-01-01 00:00:00</th>\n",
       "      <td>26.0</td>\n",
       "      <td>17.0</td>\n",
       "    </tr>\n",
       "    <tr>\n",
       "      <th>2016-01-01 01:00:00</th>\n",
       "      <td>39.0</td>\n",
       "      <td>32.0</td>\n",
       "    </tr>\n",
       "    <tr>\n",
       "      <th>2016-01-01 02:00:00</th>\n",
       "      <td>33.0</td>\n",
       "      <td>37.0</td>\n",
       "    </tr>\n",
       "  </tbody>\n",
       "</table>\n",
       "</div>"
      ],
      "text/plain": [
       "                     starting_trips  ending_trips\n",
       "2016-01-01 00:00:00            26.0          17.0\n",
       "2016-01-01 01:00:00            39.0          32.0\n",
       "2016-01-01 02:00:00            33.0          37.0"
      ]
     },
     "execution_count": 145,
     "metadata": {},
     "output_type": "execute_result"
    }
   ],
   "source": [
    "# concatenate the grouped start and ending trips into our new primary dataframe\n",
    "df_bike_trips_hourly = pd.concat([starting_trips_grouped, ending_trips_grouped], axis=1)\n",
    "\n",
    "#overview of our new dataframe\n",
    "df_bike_trips_hourly.head(3)"
   ]
  },
  {
   "cell_type": "markdown",
   "id": "0640bb21",
   "metadata": {},
   "source": [
    "## Adding Features"
   ]
  },
  {
   "cell_type": "markdown",
   "id": "64e11082",
   "metadata": {},
   "source": [
    "### Most Occuring Starting Neighborhood feature"
   ]
  },
  {
   "attachments": {},
   "cell_type": "markdown",
   "id": "166188a5",
   "metadata": {},
   "source": [
    "Now that the data has been aggregated onto an hourly basis, we want to add data for the most occuring starting neighborhood feature into our dataframe. Therefore, we save this data and merge it with our primary dataframe. \n",
    "We created this feature so it can give an idea of which areas are more popular for bike rentals. "
   ]
  },
  {
   "cell_type": "code",
   "execution_count": 146,
   "id": "0cf0a727",
   "metadata": {},
   "outputs": [],
   "source": [
    "most_common_listname = pd.read_parquet('../../data/most_common_starting_neighborhoods.parquet')"
   ]
  },
  {
   "cell_type": "code",
   "execution_count": 147,
   "id": "16944cda",
   "metadata": {},
   "outputs": [],
   "source": [
    "#merging new data into our primary dataframe\n",
    "df_bike_trips_hourly = df_bike_trips_hourly.merge(most_common_listname, left_index=True, right_index=True, how='outer', indicator=True)\n",
    "\n"
   ]
  },
  {
   "cell_type": "code",
   "execution_count": 148,
   "id": "8b3f9e75",
   "metadata": {},
   "outputs": [
    {
     "data": {
      "text/html": [
       "<div>\n",
       "<style scoped>\n",
       "    .dataframe tbody tr th:only-of-type {\n",
       "        vertical-align: middle;\n",
       "    }\n",
       "\n",
       "    .dataframe tbody tr th {\n",
       "        vertical-align: top;\n",
       "    }\n",
       "\n",
       "    .dataframe thead th {\n",
       "        text-align: right;\n",
       "    }\n",
       "</style>\n",
       "<table border=\"1\" class=\"dataframe\">\n",
       "  <thead>\n",
       "    <tr style=\"text-align: right;\">\n",
       "      <th></th>\n",
       "      <th>starting_trips</th>\n",
       "      <th>ending_trips</th>\n",
       "      <th>Most_Occuring_Starting_Neighborhood</th>\n",
       "    </tr>\n",
       "  </thead>\n",
       "  <tbody>\n",
       "    <tr>\n",
       "      <th>2016-01-01 00:00:00</th>\n",
       "      <td>26.0</td>\n",
       "      <td>17.0</td>\n",
       "      <td>Old City</td>\n",
       "    </tr>\n",
       "    <tr>\n",
       "      <th>2016-01-01 01:00:00</th>\n",
       "      <td>39.0</td>\n",
       "      <td>32.0</td>\n",
       "      <td>Washington Square West</td>\n",
       "    </tr>\n",
       "    <tr>\n",
       "      <th>2016-01-01 02:00:00</th>\n",
       "      <td>33.0</td>\n",
       "      <td>37.0</td>\n",
       "      <td>Kensington, Old</td>\n",
       "    </tr>\n",
       "  </tbody>\n",
       "</table>\n",
       "</div>"
      ],
      "text/plain": [
       "                     starting_trips  ending_trips  \\\n",
       "2016-01-01 00:00:00            26.0          17.0   \n",
       "2016-01-01 01:00:00            39.0          32.0   \n",
       "2016-01-01 02:00:00            33.0          37.0   \n",
       "\n",
       "                    Most_Occuring_Starting_Neighborhood  \n",
       "2016-01-01 00:00:00                            Old City  \n",
       "2016-01-01 01:00:00              Washington Square West  \n",
       "2016-01-01 02:00:00                     Kensington, Old  "
      ]
     },
     "execution_count": 148,
     "metadata": {},
     "output_type": "execute_result"
    }
   ],
   "source": [
    "#renaming the column for better understanding\n",
    "df_bike_trips_hourly = df_bike_trips_hourly.rename(columns={'listname': 'Most_Occuring_Starting_Neighborhood'})\n",
    "\n",
    "#dropping the _merge column as it is irrelevant for our work\n",
    "df_bike_trips_hourly =df_bike_trips_hourly.drop('_merge', axis=1)\n",
    "\n",
    "df_bike_trips_hourly.head(3)"
   ]
  },
  {
   "cell_type": "markdown",
   "id": "c590b569",
   "metadata": {},
   "source": [
    "Now we need check whether there are empty values stored in our dataframe that could distort our results later on."
   ]
  },
  {
   "cell_type": "code",
   "execution_count": 149,
   "id": "3dabac33",
   "metadata": {},
   "outputs": [
    {
     "data": {
      "text/plain": [
       "starting_trips                         54\n",
       "ending_trips                           43\n",
       "Most_Occuring_Starting_Neighborhood    54\n",
       "dtype: int64"
      ]
     },
     "execution_count": 149,
     "metadata": {},
     "output_type": "execute_result"
    }
   ],
   "source": [
    "#output amounts of missing values\n",
    "df_bike_trips_hourly.isna().sum()"
   ]
  },
  {
   "cell_type": "markdown",
   "id": "8a727c85",
   "metadata": {},
   "source": [
    "As we can see, there are some values missing because e.g. trips that have started but don't have a matching ending, so we have to deal with them.\n",
    "We decided to fill the missing values with 0 or None when it's in the Most_Occuring_Starting_Neighborhood column. "
   ]
  },
  {
   "cell_type": "code",
   "execution_count": 150,
   "id": "a02daae7",
   "metadata": {},
   "outputs": [],
   "source": [
    "#replace missing values with 0 or None\n",
    "df_bike_trips_hourly['starting_trips'] = df_bike_trips_hourly['starting_trips'].fillna(0)\n",
    "df_bike_trips_hourly['ending_trips'] = df_bike_trips_hourly['ending_trips'].fillna(0)\n",
    "df_bike_trips_hourly['Most_Occuring_Starting_Neighborhood'] = df_bike_trips_hourly['Most_Occuring_Starting_Neighborhood'].fillna(\"None\") \n"
   ]
  },
  {
   "cell_type": "code",
   "execution_count": 151,
   "id": "33c909b7",
   "metadata": {},
   "outputs": [
    {
     "data": {
      "text/plain": [
       "starting_trips                         0\n",
       "ending_trips                           0\n",
       "Most_Occuring_Starting_Neighborhood    0\n",
       "dtype: int64"
      ]
     },
     "execution_count": 151,
     "metadata": {},
     "output_type": "execute_result"
    }
   ],
   "source": [
    "#output amounts of missing values\n",
    "df_bike_trips_hourly.isna().sum()"
   ]
  },
  {
   "cell_type": "markdown",
   "id": "3a163780",
   "metadata": {},
   "source": [
    "We want the values of the Most_Occuring_Starting_Neighborhood column to be numerical rather than strings, so the feature can be used in the feature correlation later on. For this purpose we mapped every neighborhood of the city of Philadelphia with a unique number in the bike_trips notebook. This mapping is used in the following lines to replace the strings with numerical values. Strings that represent missing values (None) are given the number 158 according to our mapping."
   ]
  },
  {
   "cell_type": "code",
   "execution_count": 152,
   "id": "ec19a5e8",
   "metadata": {},
   "outputs": [],
   "source": [
    "%store -r neighborhood_map\n",
    "df_bike_trips_hourly['Most_Occuring_Starting_Neighborhood'] = df_bike_trips_hourly['Most_Occuring_Starting_Neighborhood'].map(neighborhood_map)"
   ]
  },
  {
   "cell_type": "code",
   "execution_count": 153,
   "id": "9fe96a7a",
   "metadata": {},
   "outputs": [
    {
     "data": {
      "text/html": [
       "<div>\n",
       "<style scoped>\n",
       "    .dataframe tbody tr th:only-of-type {\n",
       "        vertical-align: middle;\n",
       "    }\n",
       "\n",
       "    .dataframe tbody tr th {\n",
       "        vertical-align: top;\n",
       "    }\n",
       "\n",
       "    .dataframe thead th {\n",
       "        text-align: right;\n",
       "    }\n",
       "</style>\n",
       "<table border=\"1\" class=\"dataframe\">\n",
       "  <thead>\n",
       "    <tr style=\"text-align: right;\">\n",
       "      <th></th>\n",
       "      <th>starting_trips</th>\n",
       "      <th>ending_trips</th>\n",
       "      <th>Most_Occuring_Starting_Neighborhood</th>\n",
       "    </tr>\n",
       "  </thead>\n",
       "  <tbody>\n",
       "    <tr>\n",
       "      <th>2016-01-01 00:00:00</th>\n",
       "      <td>26.0</td>\n",
       "      <td>17.0</td>\n",
       "      <td>109</td>\n",
       "    </tr>\n",
       "    <tr>\n",
       "      <th>2016-01-01 01:00:00</th>\n",
       "      <td>39.0</td>\n",
       "      <td>32.0</td>\n",
       "      <td>112</td>\n",
       "    </tr>\n",
       "    <tr>\n",
       "      <th>2016-01-01 02:00:00</th>\n",
       "      <td>33.0</td>\n",
       "      <td>37.0</td>\n",
       "      <td>87</td>\n",
       "    </tr>\n",
       "  </tbody>\n",
       "</table>\n",
       "</div>"
      ],
      "text/plain": [
       "                     starting_trips  ending_trips  \\\n",
       "2016-01-01 00:00:00            26.0          17.0   \n",
       "2016-01-01 01:00:00            39.0          32.0   \n",
       "2016-01-01 02:00:00            33.0          37.0   \n",
       "\n",
       "                     Most_Occuring_Starting_Neighborhood  \n",
       "2016-01-01 00:00:00                                  109  \n",
       "2016-01-01 01:00:00                                  112  \n",
       "2016-01-01 02:00:00                                   87  "
      ]
     },
     "execution_count": 153,
     "metadata": {},
     "output_type": "execute_result"
    }
   ],
   "source": [
    "#overview\n",
    "df_bike_trips_hourly.head(3)"
   ]
  },
  {
   "cell_type": "code",
   "execution_count": 154,
   "id": "f3fe3a25",
   "metadata": {},
   "outputs": [],
   "source": [
    "df_bike_trips_hourly.to_parquet('../../data/bike_trips_hourly.parquet')"
   ]
  },
  {
   "cell_type": "markdown",
   "id": "88845550",
   "metadata": {},
   "source": [
    "### Weather features"
   ]
  },
  {
   "attachments": {},
   "cell_type": "markdown",
   "id": "34758eac",
   "metadata": {},
   "source": [
    "We will be using the maximum temperature, minimum temperature and precipation values from the weather dataset and use it for our predictions. We added these features because precipation and temperatures can impact how many bikes are rented. As seen in our `temporal demand patterns and seasonality` notebook people tend to rent fewer bikes from December until February due to lower temperatures. "
   ]
  },
  {
   "cell_type": "code",
   "execution_count": 155,
   "id": "3310e18b",
   "metadata": {},
   "outputs": [],
   "source": [
    "df_weather = pd.read_parquet('../../data/weather_hourly_philadelphia_cleaned.parquet')"
   ]
  },
  {
   "cell_type": "code",
   "execution_count": 156,
   "id": "ec947f5e",
   "metadata": {},
   "outputs": [],
   "source": [
    "# add new columns containing the weather data\n",
    "df_bike_trips_hourly['max_temp'] = df_weather['max_temp']\n",
    "df_bike_trips_hourly['min_temp'] = df_weather['min_temp']\n",
    "df_bike_trips_hourly['precip'] = df_weather['precip']"
   ]
  },
  {
   "cell_type": "markdown",
   "id": "1d3c9ae4",
   "metadata": {},
   "source": [
    "Again, we have to deal with missing values. In this case we drop them entirely."
   ]
  },
  {
   "cell_type": "code",
   "execution_count": 157,
   "id": "a1344a40",
   "metadata": {},
   "outputs": [
    {
     "data": {
      "text/plain": [
       "starting_trips                           0\n",
       "ending_trips                             0\n",
       "Most_Occuring_Starting_Neighborhood      0\n",
       "max_temp                               464\n",
       "min_temp                               464\n",
       "precip                                 464\n",
       "dtype: int64"
      ]
     },
     "execution_count": 157,
     "metadata": {},
     "output_type": "execute_result"
    }
   ],
   "source": [
    "df_bike_trips_hourly.isna().sum()"
   ]
  },
  {
   "cell_type": "code",
   "execution_count": 158,
   "id": "ae0ddbcd",
   "metadata": {},
   "outputs": [],
   "source": [
    "#drop null values\n",
    "df_bike_trips_hourly = df_bike_trips_hourly.dropna()"
   ]
  },
  {
   "cell_type": "code",
   "execution_count": 159,
   "id": "d69a9f60",
   "metadata": {},
   "outputs": [
    {
     "data": {
      "text/html": [
       "<div>\n",
       "<style scoped>\n",
       "    .dataframe tbody tr th:only-of-type {\n",
       "        vertical-align: middle;\n",
       "    }\n",
       "\n",
       "    .dataframe tbody tr th {\n",
       "        vertical-align: top;\n",
       "    }\n",
       "\n",
       "    .dataframe thead th {\n",
       "        text-align: right;\n",
       "    }\n",
       "</style>\n",
       "<table border=\"1\" class=\"dataframe\">\n",
       "  <thead>\n",
       "    <tr style=\"text-align: right;\">\n",
       "      <th></th>\n",
       "      <th>starting_trips</th>\n",
       "      <th>ending_trips</th>\n",
       "      <th>Most_Occuring_Starting_Neighborhood</th>\n",
       "      <th>max_temp</th>\n",
       "      <th>min_temp</th>\n",
       "      <th>precip</th>\n",
       "    </tr>\n",
       "  </thead>\n",
       "  <tbody>\n",
       "    <tr>\n",
       "      <th>2016-01-01 00:00:00</th>\n",
       "      <td>26.0</td>\n",
       "      <td>17.0</td>\n",
       "      <td>109</td>\n",
       "      <td>6.7</td>\n",
       "      <td>6.7</td>\n",
       "      <td>0.0</td>\n",
       "    </tr>\n",
       "    <tr>\n",
       "      <th>2016-01-01 01:00:00</th>\n",
       "      <td>39.0</td>\n",
       "      <td>32.0</td>\n",
       "      <td>112</td>\n",
       "      <td>7.2</td>\n",
       "      <td>7.2</td>\n",
       "      <td>0.0</td>\n",
       "    </tr>\n",
       "    <tr>\n",
       "      <th>2016-01-01 02:00:00</th>\n",
       "      <td>33.0</td>\n",
       "      <td>37.0</td>\n",
       "      <td>87</td>\n",
       "      <td>6.7</td>\n",
       "      <td>6.7</td>\n",
       "      <td>0.0</td>\n",
       "    </tr>\n",
       "  </tbody>\n",
       "</table>\n",
       "</div>"
      ],
      "text/plain": [
       "                     starting_trips  ending_trips  \\\n",
       "2016-01-01 00:00:00            26.0          17.0   \n",
       "2016-01-01 01:00:00            39.0          32.0   \n",
       "2016-01-01 02:00:00            33.0          37.0   \n",
       "\n",
       "                     Most_Occuring_Starting_Neighborhood  max_temp  min_temp  \\\n",
       "2016-01-01 00:00:00                                  109       6.7       6.7   \n",
       "2016-01-01 01:00:00                                  112       7.2       7.2   \n",
       "2016-01-01 02:00:00                                   87       6.7       6.7   \n",
       "\n",
       "                     precip  \n",
       "2016-01-01 00:00:00     0.0  \n",
       "2016-01-01 01:00:00     0.0  \n",
       "2016-01-01 02:00:00     0.0  "
      ]
     },
     "execution_count": 159,
     "metadata": {},
     "output_type": "execute_result"
    }
   ],
   "source": [
    "#overview\n",
    "df_bike_trips_hourly.head(3)"
   ]
  },
  {
   "cell_type": "markdown",
   "id": "36aa0102",
   "metadata": {},
   "source": [
    "### Time related features"
   ]
  },
  {
   "attachments": {},
   "cell_type": "markdown",
   "id": "276093d1",
   "metadata": {},
   "source": [
    "There are several time related features we were able to think of. These include the hour of the day, day of the week, month, day of the year, week, date, whether it is a weekday and what season it is. \n",
    "We added time related features to our data as they influence i.e. the number of bike rentals during certain hours in a day. We see this in our `temporal demand patterns and seasonality` notebook that fewer bikes are rented during nighttime (0-6am). \n",
    "We added the feature `is_weekday` because we observe in the same notebook that there is higher usage of bike rentals during the working days (Mon-Fri).\n",
    "\n",
    "For the season we first define a method to calculate the appropriate season based on the date. "
   ]
  },
  {
   "cell_type": "code",
   "execution_count": 160,
   "id": "b84dbf13",
   "metadata": {},
   "outputs": [],
   "source": [
    "def get_season(dates):\n",
    "    seasons = []\n",
    "    for date in dates:\n",
    "        # Extract the month and day from the datetime object\n",
    "        month = date.month\n",
    "        day = date.day\n",
    "\n",
    "        # Define the start and end dates for each season\n",
    "        spring_start = '03-20'\n",
    "        spring_end = '06-20'\n",
    "        summer_start = '06-21'\n",
    "        summer_end = '09-22'\n",
    "        fall_start = '09-23'\n",
    "        fall_end = '12-20'\n",
    "\n",
    "        # Check which season the input date belongs to\n",
    "        if (month == 3 and day >= 20) or (month > 3 and month < 6) or (month == 6 and day <= 20):\n",
    "            seasons.append('1') # Spring\n",
    "        elif (month == 6 and day >= 21) or (month > 6 and month < 9) or (month == 9 and day <= 22):\n",
    "            seasons.append('2') # Summer\n",
    "        elif (month == 9 and day >= 23) or (month > 9 and month < 12) or (month == 12 and day <= 20):\n",
    "            seasons.append('3') # Fall\n",
    "        else:\n",
    "            seasons.append('4') # Winter\n",
    "    return seasons"
   ]
  },
  {
   "cell_type": "code",
   "execution_count": 161,
   "id": "f70f6415",
   "metadata": {},
   "outputs": [
    {
     "data": {
      "text/html": [
       "<div>\n",
       "<style scoped>\n",
       "    .dataframe tbody tr th:only-of-type {\n",
       "        vertical-align: middle;\n",
       "    }\n",
       "\n",
       "    .dataframe tbody tr th {\n",
       "        vertical-align: top;\n",
       "    }\n",
       "\n",
       "    .dataframe thead th {\n",
       "        text-align: right;\n",
       "    }\n",
       "</style>\n",
       "<table border=\"1\" class=\"dataframe\">\n",
       "  <thead>\n",
       "    <tr style=\"text-align: right;\">\n",
       "      <th></th>\n",
       "      <th>starting_trips</th>\n",
       "      <th>ending_trips</th>\n",
       "      <th>Most_Occuring_Starting_Neighborhood</th>\n",
       "      <th>max_temp</th>\n",
       "      <th>min_temp</th>\n",
       "      <th>precip</th>\n",
       "      <th>hour</th>\n",
       "      <th>day_of_week</th>\n",
       "      <th>month</th>\n",
       "      <th>day_of_year</th>\n",
       "      <th>week</th>\n",
       "      <th>date</th>\n",
       "      <th>is_weekday</th>\n",
       "      <th>season</th>\n",
       "    </tr>\n",
       "  </thead>\n",
       "  <tbody>\n",
       "    <tr>\n",
       "      <th>2016-01-01 00:00:00</th>\n",
       "      <td>26.0</td>\n",
       "      <td>17.0</td>\n",
       "      <td>109</td>\n",
       "      <td>6.7</td>\n",
       "      <td>6.7</td>\n",
       "      <td>0.0</td>\n",
       "      <td>0</td>\n",
       "      <td>4</td>\n",
       "      <td>1</td>\n",
       "      <td>1</td>\n",
       "      <td>53</td>\n",
       "      <td>2016-01-01</td>\n",
       "      <td>1</td>\n",
       "      <td>4</td>\n",
       "    </tr>\n",
       "    <tr>\n",
       "      <th>2016-01-01 01:00:00</th>\n",
       "      <td>39.0</td>\n",
       "      <td>32.0</td>\n",
       "      <td>112</td>\n",
       "      <td>7.2</td>\n",
       "      <td>7.2</td>\n",
       "      <td>0.0</td>\n",
       "      <td>1</td>\n",
       "      <td>4</td>\n",
       "      <td>1</td>\n",
       "      <td>1</td>\n",
       "      <td>53</td>\n",
       "      <td>2016-01-01</td>\n",
       "      <td>1</td>\n",
       "      <td>4</td>\n",
       "    </tr>\n",
       "    <tr>\n",
       "      <th>2016-01-01 02:00:00</th>\n",
       "      <td>33.0</td>\n",
       "      <td>37.0</td>\n",
       "      <td>87</td>\n",
       "      <td>6.7</td>\n",
       "      <td>6.7</td>\n",
       "      <td>0.0</td>\n",
       "      <td>2</td>\n",
       "      <td>4</td>\n",
       "      <td>1</td>\n",
       "      <td>1</td>\n",
       "      <td>53</td>\n",
       "      <td>2016-01-01</td>\n",
       "      <td>1</td>\n",
       "      <td>4</td>\n",
       "    </tr>\n",
       "  </tbody>\n",
       "</table>\n",
       "</div>"
      ],
      "text/plain": [
       "                     starting_trips  ending_trips  \\\n",
       "2016-01-01 00:00:00            26.0          17.0   \n",
       "2016-01-01 01:00:00            39.0          32.0   \n",
       "2016-01-01 02:00:00            33.0          37.0   \n",
       "\n",
       "                     Most_Occuring_Starting_Neighborhood  max_temp  min_temp  \\\n",
       "2016-01-01 00:00:00                                  109       6.7       6.7   \n",
       "2016-01-01 01:00:00                                  112       7.2       7.2   \n",
       "2016-01-01 02:00:00                                   87       6.7       6.7   \n",
       "\n",
       "                     precip  hour  day_of_week  month  day_of_year  week  \\\n",
       "2016-01-01 00:00:00     0.0     0            4      1            1    53   \n",
       "2016-01-01 01:00:00     0.0     1            4      1            1    53   \n",
       "2016-01-01 02:00:00     0.0     2            4      1            1    53   \n",
       "\n",
       "                          date  is_weekday  season  \n",
       "2016-01-01 00:00:00 2016-01-01           1       4  \n",
       "2016-01-01 01:00:00 2016-01-01           1       4  \n",
       "2016-01-01 02:00:00 2016-01-01           1       4  "
      ]
     },
     "execution_count": 161,
     "metadata": {},
     "output_type": "execute_result"
    }
   ],
   "source": [
    "# add feature columns and populate them with the appropriate data\n",
    "df_bike_trips_hourly['hour'] = df_bike_trips_hourly.index.hour\n",
    "df_bike_trips_hourly['day_of_week'] = df_bike_trips_hourly.index.day_of_week\n",
    "df_bike_trips_hourly['month'] = df_bike_trips_hourly.index.month\n",
    "df_bike_trips_hourly['day_of_year'] = df_bike_trips_hourly.index.day_of_year\n",
    "df_bike_trips_hourly['week'] = df_bike_trips_hourly.index.isocalendar().week.astype('int64')\n",
    "df_bike_trips_hourly['date'] = df_bike_trips_hourly.index.date.astype('datetime64[ns]')\n",
    "\n",
    "#is_weekday as binary variable\n",
    "df_bike_trips_hourly['is_weekday'] = df_bike_trips_hourly['day_of_week'] < 5\n",
    "df_bike_trips_hourly['is_weekday'] = df_bike_trips_hourly['is_weekday'].astype(int)\n",
    "\n",
    "# get season and exchange it with numerical value\n",
    "df_bike_trips_hourly['season'] = get_season(df_bike_trips_hourly['date'])\n",
    "df_bike_trips_hourly['season'] = df_bike_trips_hourly['season'].astype(int)\n",
    "\n",
    "#overview\n",
    "df_bike_trips_hourly.head(3)"
   ]
  },
  {
   "cell_type": "markdown",
   "id": "e952631c",
   "metadata": {},
   "source": [
    "### Holiday feature "
   ]
  },
  {
   "attachments": {},
   "cell_type": "markdown",
   "id": "179625d4",
   "metadata": {},
   "source": [
    "In this feature we want to determine whether it was a holiday or not at the time at which the bike rides occured. To do this, we first save the federal holidays of the appropriate year listed in a seperate .json file. \n",
    "\n",
    "We are assuming that holidays have some impact on the amount of bike rentals, because on certain holidays people might be riding more or fewer bikes (e.g. christmas day).\n",
    "\n",
    "If we were looking at multiple years we would have to account for dynamic holidays, but luckily this is not necessary. Furthermore, it is noteworthy that in 2021 a new federal holiday was introduced, Juneteenth. However, this is only relevant if we are looking at data from after this holiday was introduced, which we are not."
   ]
  },
  {
   "cell_type": "code",
   "execution_count": 162,
   "id": "afd3913d",
   "metadata": {},
   "outputs": [],
   "source": [
    "holidays_file = open(\"../../data/holidays.json\")\n",
    "holidays_json = json.loads(holidays_file.read())"
   ]
  },
  {
   "cell_type": "code",
   "execution_count": 163,
   "id": "8f88034c",
   "metadata": {},
   "outputs": [
    {
     "data": {
      "text/html": [
       "<div>\n",
       "<style scoped>\n",
       "    .dataframe tbody tr th:only-of-type {\n",
       "        vertical-align: middle;\n",
       "    }\n",
       "\n",
       "    .dataframe tbody tr th {\n",
       "        vertical-align: top;\n",
       "    }\n",
       "\n",
       "    .dataframe thead th {\n",
       "        text-align: right;\n",
       "    }\n",
       "</style>\n",
       "<table border=\"1\" class=\"dataframe\">\n",
       "  <thead>\n",
       "    <tr style=\"text-align: right;\">\n",
       "      <th></th>\n",
       "      <th>date</th>\n",
       "      <th>holiday_name</th>\n",
       "    </tr>\n",
       "  </thead>\n",
       "  <tbody>\n",
       "    <tr>\n",
       "      <th>0</th>\n",
       "      <td>2016-01-01</td>\n",
       "      <td>New Year's Day</td>\n",
       "    </tr>\n",
       "    <tr>\n",
       "      <th>1</th>\n",
       "      <td>2016-01-18</td>\n",
       "      <td>Martin Luther King Jr. Day</td>\n",
       "    </tr>\n",
       "    <tr>\n",
       "      <th>2</th>\n",
       "      <td>2016-02-15</td>\n",
       "      <td>Presidents' Day</td>\n",
       "    </tr>\n",
       "  </tbody>\n",
       "</table>\n",
       "</div>"
      ],
      "text/plain": [
       "        date                holiday_name\n",
       "0 2016-01-01              New Year's Day\n",
       "1 2016-01-18  Martin Luther King Jr. Day\n",
       "2 2016-02-15             Presidents' Day"
      ]
     },
     "execution_count": 163,
     "metadata": {},
     "output_type": "execute_result"
    }
   ],
   "source": [
    "# create a dataframe from the dictionary, rename, save date in datetime format\n",
    "holidays_df = pd.DataFrame.from_dict(holidays_json, orient='index', columns=['date']).reset_index()\n",
    "holidays_df = holidays_df.rename(columns={'date': 'holiday_name'})\n",
    "holidays_df = holidays_df.rename(columns={'index': 'date'})\n",
    "holidays_df['date'] = pd.to_datetime(holidays_df['date'])\n",
    "\n",
    "#overview of holiday dataframe\n",
    "holidays_df.head(3)"
   ]
  },
  {
   "cell_type": "code",
   "execution_count": 164,
   "id": "68f8dc40",
   "metadata": {
    "scrolled": true
   },
   "outputs": [
    {
     "data": {
      "text/html": [
       "<div>\n",
       "<style scoped>\n",
       "    .dataframe tbody tr th:only-of-type {\n",
       "        vertical-align: middle;\n",
       "    }\n",
       "\n",
       "    .dataframe tbody tr th {\n",
       "        vertical-align: top;\n",
       "    }\n",
       "\n",
       "    .dataframe thead th {\n",
       "        text-align: right;\n",
       "    }\n",
       "</style>\n",
       "<table border=\"1\" class=\"dataframe\">\n",
       "  <thead>\n",
       "    <tr style=\"text-align: right;\">\n",
       "      <th></th>\n",
       "      <th>starting_trips</th>\n",
       "      <th>ending_trips</th>\n",
       "      <th>Most_Occuring_Starting_Neighborhood</th>\n",
       "      <th>max_temp</th>\n",
       "      <th>min_temp</th>\n",
       "      <th>precip</th>\n",
       "      <th>hour</th>\n",
       "      <th>day_of_week</th>\n",
       "      <th>month</th>\n",
       "      <th>day_of_year</th>\n",
       "      <th>week</th>\n",
       "      <th>date</th>\n",
       "      <th>is_weekday</th>\n",
       "      <th>season</th>\n",
       "      <th>holiday_name</th>\n",
       "    </tr>\n",
       "    <tr>\n",
       "      <th>index</th>\n",
       "      <th></th>\n",
       "      <th></th>\n",
       "      <th></th>\n",
       "      <th></th>\n",
       "      <th></th>\n",
       "      <th></th>\n",
       "      <th></th>\n",
       "      <th></th>\n",
       "      <th></th>\n",
       "      <th></th>\n",
       "      <th></th>\n",
       "      <th></th>\n",
       "      <th></th>\n",
       "      <th></th>\n",
       "      <th></th>\n",
       "    </tr>\n",
       "  </thead>\n",
       "  <tbody>\n",
       "    <tr>\n",
       "      <th>2016-01-01 00:00:00</th>\n",
       "      <td>26.0</td>\n",
       "      <td>17.0</td>\n",
       "      <td>109</td>\n",
       "      <td>6.7</td>\n",
       "      <td>6.7</td>\n",
       "      <td>0.0</td>\n",
       "      <td>0</td>\n",
       "      <td>4</td>\n",
       "      <td>1</td>\n",
       "      <td>1</td>\n",
       "      <td>53</td>\n",
       "      <td>2016-01-01</td>\n",
       "      <td>1</td>\n",
       "      <td>4</td>\n",
       "      <td>New Year's Day</td>\n",
       "    </tr>\n",
       "    <tr>\n",
       "      <th>2016-01-01 01:00:00</th>\n",
       "      <td>39.0</td>\n",
       "      <td>32.0</td>\n",
       "      <td>112</td>\n",
       "      <td>7.2</td>\n",
       "      <td>7.2</td>\n",
       "      <td>0.0</td>\n",
       "      <td>1</td>\n",
       "      <td>4</td>\n",
       "      <td>1</td>\n",
       "      <td>1</td>\n",
       "      <td>53</td>\n",
       "      <td>2016-01-01</td>\n",
       "      <td>1</td>\n",
       "      <td>4</td>\n",
       "      <td>New Year's Day</td>\n",
       "    </tr>\n",
       "    <tr>\n",
       "      <th>2016-01-01 02:00:00</th>\n",
       "      <td>33.0</td>\n",
       "      <td>37.0</td>\n",
       "      <td>87</td>\n",
       "      <td>6.7</td>\n",
       "      <td>6.7</td>\n",
       "      <td>0.0</td>\n",
       "      <td>2</td>\n",
       "      <td>4</td>\n",
       "      <td>1</td>\n",
       "      <td>1</td>\n",
       "      <td>53</td>\n",
       "      <td>2016-01-01</td>\n",
       "      <td>1</td>\n",
       "      <td>4</td>\n",
       "      <td>New Year's Day</td>\n",
       "    </tr>\n",
       "  </tbody>\n",
       "</table>\n",
       "</div>"
      ],
      "text/plain": [
       "                     starting_trips  ending_trips  \\\n",
       "index                                               \n",
       "2016-01-01 00:00:00            26.0          17.0   \n",
       "2016-01-01 01:00:00            39.0          32.0   \n",
       "2016-01-01 02:00:00            33.0          37.0   \n",
       "\n",
       "                     Most_Occuring_Starting_Neighborhood  max_temp  min_temp  \\\n",
       "index                                                                          \n",
       "2016-01-01 00:00:00                                  109       6.7       6.7   \n",
       "2016-01-01 01:00:00                                  112       7.2       7.2   \n",
       "2016-01-01 02:00:00                                   87       6.7       6.7   \n",
       "\n",
       "                     precip  hour  day_of_week  month  day_of_year  week  \\\n",
       "index                                                                      \n",
       "2016-01-01 00:00:00     0.0     0            4      1            1    53   \n",
       "2016-01-01 01:00:00     0.0     1            4      1            1    53   \n",
       "2016-01-01 02:00:00     0.0     2            4      1            1    53   \n",
       "\n",
       "                          date  is_weekday  season    holiday_name  \n",
       "index                                                               \n",
       "2016-01-01 00:00:00 2016-01-01           1       4  New Year's Day  \n",
       "2016-01-01 01:00:00 2016-01-01           1       4  New Year's Day  \n",
       "2016-01-01 02:00:00 2016-01-01           1       4  New Year's Day  "
      ]
     },
     "execution_count": 164,
     "metadata": {},
     "output_type": "execute_result"
    }
   ],
   "source": [
    "# reset index and merge the holidays into our primary dataframe\n",
    "df_bike_trips_hourly = df_bike_trips_hourly.reset_index().merge(holidays_df, on='date', how='left').set_index('index')\n",
    "\n",
    "#overview over newly merged dataframe\n",
    "df_bike_trips_hourly.head(3)"
   ]
  },
  {
   "cell_type": "code",
   "execution_count": 165,
   "id": "5708b767",
   "metadata": {},
   "outputs": [
    {
     "data": {
      "text/html": [
       "<div>\n",
       "<style scoped>\n",
       "    .dataframe tbody tr th:only-of-type {\n",
       "        vertical-align: middle;\n",
       "    }\n",
       "\n",
       "    .dataframe tbody tr th {\n",
       "        vertical-align: top;\n",
       "    }\n",
       "\n",
       "    .dataframe thead th {\n",
       "        text-align: right;\n",
       "    }\n",
       "</style>\n",
       "<table border=\"1\" class=\"dataframe\">\n",
       "  <thead>\n",
       "    <tr style=\"text-align: right;\">\n",
       "      <th></th>\n",
       "      <th>starting_trips</th>\n",
       "      <th>ending_trips</th>\n",
       "      <th>Most_Occuring_Starting_Neighborhood</th>\n",
       "      <th>max_temp</th>\n",
       "      <th>min_temp</th>\n",
       "      <th>precip</th>\n",
       "      <th>hour</th>\n",
       "      <th>day_of_week</th>\n",
       "      <th>month</th>\n",
       "      <th>day_of_year</th>\n",
       "      <th>week</th>\n",
       "      <th>date</th>\n",
       "      <th>is_weekday</th>\n",
       "      <th>season</th>\n",
       "      <th>is_holiday</th>\n",
       "    </tr>\n",
       "    <tr>\n",
       "      <th>index</th>\n",
       "      <th></th>\n",
       "      <th></th>\n",
       "      <th></th>\n",
       "      <th></th>\n",
       "      <th></th>\n",
       "      <th></th>\n",
       "      <th></th>\n",
       "      <th></th>\n",
       "      <th></th>\n",
       "      <th></th>\n",
       "      <th></th>\n",
       "      <th></th>\n",
       "      <th></th>\n",
       "      <th></th>\n",
       "      <th></th>\n",
       "    </tr>\n",
       "  </thead>\n",
       "  <tbody>\n",
       "    <tr>\n",
       "      <th>2016-01-01 00:00:00</th>\n",
       "      <td>26.0</td>\n",
       "      <td>17.0</td>\n",
       "      <td>109</td>\n",
       "      <td>6.7</td>\n",
       "      <td>6.7</td>\n",
       "      <td>0.0</td>\n",
       "      <td>0</td>\n",
       "      <td>4</td>\n",
       "      <td>1</td>\n",
       "      <td>1</td>\n",
       "      <td>53</td>\n",
       "      <td>2016-01-01</td>\n",
       "      <td>1</td>\n",
       "      <td>4</td>\n",
       "      <td>1</td>\n",
       "    </tr>\n",
       "    <tr>\n",
       "      <th>2016-01-01 01:00:00</th>\n",
       "      <td>39.0</td>\n",
       "      <td>32.0</td>\n",
       "      <td>112</td>\n",
       "      <td>7.2</td>\n",
       "      <td>7.2</td>\n",
       "      <td>0.0</td>\n",
       "      <td>1</td>\n",
       "      <td>4</td>\n",
       "      <td>1</td>\n",
       "      <td>1</td>\n",
       "      <td>53</td>\n",
       "      <td>2016-01-01</td>\n",
       "      <td>1</td>\n",
       "      <td>4</td>\n",
       "      <td>1</td>\n",
       "    </tr>\n",
       "    <tr>\n",
       "      <th>2016-01-01 02:00:00</th>\n",
       "      <td>33.0</td>\n",
       "      <td>37.0</td>\n",
       "      <td>87</td>\n",
       "      <td>6.7</td>\n",
       "      <td>6.7</td>\n",
       "      <td>0.0</td>\n",
       "      <td>2</td>\n",
       "      <td>4</td>\n",
       "      <td>1</td>\n",
       "      <td>1</td>\n",
       "      <td>53</td>\n",
       "      <td>2016-01-01</td>\n",
       "      <td>1</td>\n",
       "      <td>4</td>\n",
       "      <td>1</td>\n",
       "    </tr>\n",
       "  </tbody>\n",
       "</table>\n",
       "</div>"
      ],
      "text/plain": [
       "                     starting_trips  ending_trips  \\\n",
       "index                                               \n",
       "2016-01-01 00:00:00            26.0          17.0   \n",
       "2016-01-01 01:00:00            39.0          32.0   \n",
       "2016-01-01 02:00:00            33.0          37.0   \n",
       "\n",
       "                     Most_Occuring_Starting_Neighborhood  max_temp  min_temp  \\\n",
       "index                                                                          \n",
       "2016-01-01 00:00:00                                  109       6.7       6.7   \n",
       "2016-01-01 01:00:00                                  112       7.2       7.2   \n",
       "2016-01-01 02:00:00                                   87       6.7       6.7   \n",
       "\n",
       "                     precip  hour  day_of_week  month  day_of_year  week  \\\n",
       "index                                                                      \n",
       "2016-01-01 00:00:00     0.0     0            4      1            1    53   \n",
       "2016-01-01 01:00:00     0.0     1            4      1            1    53   \n",
       "2016-01-01 02:00:00     0.0     2            4      1            1    53   \n",
       "\n",
       "                          date  is_weekday  season  is_holiday  \n",
       "index                                                           \n",
       "2016-01-01 00:00:00 2016-01-01           1       4           1  \n",
       "2016-01-01 01:00:00 2016-01-01           1       4           1  \n",
       "2016-01-01 02:00:00 2016-01-01           1       4           1  "
      ]
     },
     "execution_count": 165,
     "metadata": {},
     "output_type": "execute_result"
    }
   ],
   "source": [
    "# create new column is_holiday and save information whether it was a holiday through numerical values. \n",
    "df_bike_trips_hourly['is_holiday'] = df_bike_trips_hourly['holiday_name'].notna()\n",
    "df_bike_trips_hourly['is_holiday'] = df_bike_trips_hourly['is_holiday'].astype(int)\n",
    "\n",
    "# drop column as it is not important for us anymore\n",
    "df_bike_trips_hourly = df_bike_trips_hourly.drop(columns=['holiday_name'])\n",
    "\n",
    "#new overview\n",
    "df_bike_trips_hourly.head(3)"
   ]
  },
  {
   "cell_type": "code",
   "execution_count": 166,
   "id": "c893943c",
   "metadata": {},
   "outputs": [],
   "source": [
    "df_bike_trips_hourly.to_parquet('../../data/bike_trips_hourly.parquet')"
   ]
  },
  {
   "cell_type": "markdown",
   "id": "c0dc081c",
   "metadata": {},
   "source": [
    "## Feature Correlation"
   ]
  },
  {
   "cell_type": "markdown",
   "id": "80368414",
   "metadata": {},
   "source": [
    "A way to find out if features can be dropped before we include them in our predictive analysis, is by using feature correlation.\n",
    "\n",
    "A high correlation means that the features are more linearly dependent and have almost the same effect on the dependent variable. When the correlation between two variables is high, meaning the value is bigger 0.7 or smaller than -0.7, one of the two correlated variables can be dropped. "
   ]
  },
  {
   "cell_type": "code",
   "execution_count": 167,
   "id": "9600c6ca",
   "metadata": {},
   "outputs": [],
   "source": [
    "#drop all the columns that are not numeric columns (The default value of numeric_only in DataFrame.corr will be deprecated in the future)\n",
    "columns_to_drop_corr = ['date']\n",
    "# copy df_bike_trips_hourly so we can drop columns that we do not want to drop in the original dataframe\n",
    "df_bike_trips_corr = df_bike_trips_hourly.copy()\n",
    "df_bike_trips_corr.drop(columns_to_drop_corr, axis=1, inplace=True)"
   ]
  },
  {
   "cell_type": "code",
   "execution_count": 168,
   "id": "740ed520",
   "metadata": {},
   "outputs": [
    {
     "data": {
      "text/html": [
       "<div>\n",
       "<style scoped>\n",
       "    .dataframe tbody tr th:only-of-type {\n",
       "        vertical-align: middle;\n",
       "    }\n",
       "\n",
       "    .dataframe tbody tr th {\n",
       "        vertical-align: top;\n",
       "    }\n",
       "\n",
       "    .dataframe thead th {\n",
       "        text-align: right;\n",
       "    }\n",
       "</style>\n",
       "<table border=\"1\" class=\"dataframe\">\n",
       "  <thead>\n",
       "    <tr style=\"text-align: right;\">\n",
       "      <th></th>\n",
       "      <th>starting_trips</th>\n",
       "      <th>ending_trips</th>\n",
       "      <th>Most_Occuring_Starting_Neighborhood</th>\n",
       "      <th>max_temp</th>\n",
       "      <th>min_temp</th>\n",
       "      <th>precip</th>\n",
       "      <th>hour</th>\n",
       "      <th>day_of_week</th>\n",
       "      <th>month</th>\n",
       "      <th>day_of_year</th>\n",
       "      <th>week</th>\n",
       "      <th>is_weekday</th>\n",
       "      <th>season</th>\n",
       "      <th>is_holiday</th>\n",
       "    </tr>\n",
       "  </thead>\n",
       "  <tbody>\n",
       "    <tr>\n",
       "      <th>starting_trips</th>\n",
       "      <td>1.000000</td>\n",
       "      <td>0.986824</td>\n",
       "      <td>0.230112</td>\n",
       "      <td>0.367385</td>\n",
       "      <td>0.367965</td>\n",
       "      <td>-0.112003</td>\n",
       "      <td>0.339070</td>\n",
       "      <td>-0.086754</td>\n",
       "      <td>0.225140</td>\n",
       "      <td>0.221598</td>\n",
       "      <td>0.202131</td>\n",
       "      <td>0.112407</td>\n",
       "      <td>-0.199497</td>\n",
       "      <td>-0.042340</td>\n",
       "    </tr>\n",
       "    <tr>\n",
       "      <th>ending_trips</th>\n",
       "      <td>0.986824</td>\n",
       "      <td>1.000000</td>\n",
       "      <td>0.228708</td>\n",
       "      <td>0.383563</td>\n",
       "      <td>0.384222</td>\n",
       "      <td>-0.116387</td>\n",
       "      <td>0.365555</td>\n",
       "      <td>-0.086422</td>\n",
       "      <td>0.227017</td>\n",
       "      <td>0.223475</td>\n",
       "      <td>0.203810</td>\n",
       "      <td>0.111463</td>\n",
       "      <td>-0.201071</td>\n",
       "      <td>-0.042724</td>\n",
       "    </tr>\n",
       "    <tr>\n",
       "      <th>Most_Occuring_Starting_Neighborhood</th>\n",
       "      <td>0.230112</td>\n",
       "      <td>0.228708</td>\n",
       "      <td>1.000000</td>\n",
       "      <td>0.059789</td>\n",
       "      <td>0.059755</td>\n",
       "      <td>0.008559</td>\n",
       "      <td>0.222418</td>\n",
       "      <td>-0.073092</td>\n",
       "      <td>0.006885</td>\n",
       "      <td>0.005177</td>\n",
       "      <td>-0.002580</td>\n",
       "      <td>0.101253</td>\n",
       "      <td>-0.003712</td>\n",
       "      <td>-0.038665</td>\n",
       "    </tr>\n",
       "    <tr>\n",
       "      <th>max_temp</th>\n",
       "      <td>0.367385</td>\n",
       "      <td>0.383563</td>\n",
       "      <td>0.059789</td>\n",
       "      <td>1.000000</td>\n",
       "      <td>0.999684</td>\n",
       "      <td>-0.072206</td>\n",
       "      <td>0.147838</td>\n",
       "      <td>-0.006414</td>\n",
       "      <td>0.211212</td>\n",
       "      <td>0.212795</td>\n",
       "      <td>0.179991</td>\n",
       "      <td>0.016651</td>\n",
       "      <td>-0.542297</td>\n",
       "      <td>-0.072361</td>\n",
       "    </tr>\n",
       "    <tr>\n",
       "      <th>min_temp</th>\n",
       "      <td>0.367965</td>\n",
       "      <td>0.384222</td>\n",
       "      <td>0.059755</td>\n",
       "      <td>0.999684</td>\n",
       "      <td>1.000000</td>\n",
       "      <td>-0.079202</td>\n",
       "      <td>0.146652</td>\n",
       "      <td>-0.006564</td>\n",
       "      <td>0.211436</td>\n",
       "      <td>0.213032</td>\n",
       "      <td>0.180394</td>\n",
       "      <td>0.016850</td>\n",
       "      <td>-0.542557</td>\n",
       "      <td>-0.072115</td>\n",
       "    </tr>\n",
       "    <tr>\n",
       "      <th>precip</th>\n",
       "      <td>-0.112003</td>\n",
       "      <td>-0.116387</td>\n",
       "      <td>0.008559</td>\n",
       "      <td>-0.072206</td>\n",
       "      <td>-0.079202</td>\n",
       "      <td>1.000000</td>\n",
       "      <td>0.013636</td>\n",
       "      <td>-0.009228</td>\n",
       "      <td>-0.051463</td>\n",
       "      <td>-0.052260</td>\n",
       "      <td>-0.060522</td>\n",
       "      <td>-0.002292</td>\n",
       "      <td>0.017371</td>\n",
       "      <td>0.005585</td>\n",
       "    </tr>\n",
       "    <tr>\n",
       "      <th>hour</th>\n",
       "      <td>0.339070</td>\n",
       "      <td>0.365555</td>\n",
       "      <td>0.222418</td>\n",
       "      <td>0.147838</td>\n",
       "      <td>0.146652</td>\n",
       "      <td>0.013636</td>\n",
       "      <td>1.000000</td>\n",
       "      <td>-0.003396</td>\n",
       "      <td>-0.014466</td>\n",
       "      <td>-0.014305</td>\n",
       "      <td>-0.013921</td>\n",
       "      <td>0.002290</td>\n",
       "      <td>0.008032</td>\n",
       "      <td>0.000495</td>\n",
       "    </tr>\n",
       "    <tr>\n",
       "      <th>day_of_week</th>\n",
       "      <td>-0.086754</td>\n",
       "      <td>-0.086422</td>\n",
       "      <td>-0.073092</td>\n",
       "      <td>-0.006414</td>\n",
       "      <td>-0.006564</td>\n",
       "      <td>-0.009228</td>\n",
       "      <td>-0.003396</td>\n",
       "      <td>1.000000</td>\n",
       "      <td>-0.008580</td>\n",
       "      <td>-0.008388</td>\n",
       "      <td>0.002763</td>\n",
       "      <td>-0.787167</td>\n",
       "      <td>0.019270</td>\n",
       "      <td>-0.109122</td>\n",
       "    </tr>\n",
       "    <tr>\n",
       "      <th>month</th>\n",
       "      <td>0.225140</td>\n",
       "      <td>0.227017</td>\n",
       "      <td>0.006885</td>\n",
       "      <td>0.211212</td>\n",
       "      <td>0.211436</td>\n",
       "      <td>-0.051463</td>\n",
       "      <td>-0.014466</td>\n",
       "      <td>-0.008580</td>\n",
       "      <td>1.000000</td>\n",
       "      <td>0.996513</td>\n",
       "      <td>0.946965</td>\n",
       "      <td>0.004658</td>\n",
       "      <td>-0.018119</td>\n",
       "      <td>0.019396</td>\n",
       "    </tr>\n",
       "    <tr>\n",
       "      <th>day_of_year</th>\n",
       "      <td>0.221598</td>\n",
       "      <td>0.223475</td>\n",
       "      <td>0.005177</td>\n",
       "      <td>0.212795</td>\n",
       "      <td>0.213032</td>\n",
       "      <td>-0.052260</td>\n",
       "      <td>-0.014305</td>\n",
       "      <td>-0.008388</td>\n",
       "      <td>0.996513</td>\n",
       "      <td>1.000000</td>\n",
       "      <td>0.946826</td>\n",
       "      <td>0.004154</td>\n",
       "      <td>-0.018615</td>\n",
       "      <td>0.016801</td>\n",
       "    </tr>\n",
       "    <tr>\n",
       "      <th>week</th>\n",
       "      <td>0.202131</td>\n",
       "      <td>0.203810</td>\n",
       "      <td>-0.002580</td>\n",
       "      <td>0.179991</td>\n",
       "      <td>0.180394</td>\n",
       "      <td>-0.060522</td>\n",
       "      <td>-0.013921</td>\n",
       "      <td>0.002763</td>\n",
       "      <td>0.946965</td>\n",
       "      <td>0.946826</td>\n",
       "      <td>1.000000</td>\n",
       "      <td>-0.005945</td>\n",
       "      <td>0.023521</td>\n",
       "      <td>0.077064</td>\n",
       "    </tr>\n",
       "    <tr>\n",
       "      <th>is_weekday</th>\n",
       "      <td>0.112407</td>\n",
       "      <td>0.111463</td>\n",
       "      <td>0.101253</td>\n",
       "      <td>0.016651</td>\n",
       "      <td>0.016850</td>\n",
       "      <td>-0.002292</td>\n",
       "      <td>0.002290</td>\n",
       "      <td>-0.787167</td>\n",
       "      <td>0.004658</td>\n",
       "      <td>0.004154</td>\n",
       "      <td>-0.005945</td>\n",
       "      <td>1.000000</td>\n",
       "      <td>-0.004297</td>\n",
       "      <td>0.071245</td>\n",
       "    </tr>\n",
       "    <tr>\n",
       "      <th>season</th>\n",
       "      <td>-0.199497</td>\n",
       "      <td>-0.201071</td>\n",
       "      <td>-0.003712</td>\n",
       "      <td>-0.542297</td>\n",
       "      <td>-0.542557</td>\n",
       "      <td>0.017371</td>\n",
       "      <td>0.008032</td>\n",
       "      <td>0.019270</td>\n",
       "      <td>-0.018119</td>\n",
       "      <td>-0.018615</td>\n",
       "      <td>0.023521</td>\n",
       "      <td>-0.004297</td>\n",
       "      <td>1.000000</td>\n",
       "      <td>0.082231</td>\n",
       "    </tr>\n",
       "    <tr>\n",
       "      <th>is_holiday</th>\n",
       "      <td>-0.042340</td>\n",
       "      <td>-0.042724</td>\n",
       "      <td>-0.038665</td>\n",
       "      <td>-0.072361</td>\n",
       "      <td>-0.072115</td>\n",
       "      <td>0.005585</td>\n",
       "      <td>0.000495</td>\n",
       "      <td>-0.109122</td>\n",
       "      <td>0.019396</td>\n",
       "      <td>0.016801</td>\n",
       "      <td>0.077064</td>\n",
       "      <td>0.071245</td>\n",
       "      <td>0.082231</td>\n",
       "      <td>1.000000</td>\n",
       "    </tr>\n",
       "  </tbody>\n",
       "</table>\n",
       "</div>"
      ],
      "text/plain": [
       "                                     starting_trips  ending_trips  \\\n",
       "starting_trips                             1.000000      0.986824   \n",
       "ending_trips                               0.986824      1.000000   \n",
       "Most_Occuring_Starting_Neighborhood        0.230112      0.228708   \n",
       "max_temp                                   0.367385      0.383563   \n",
       "min_temp                                   0.367965      0.384222   \n",
       "precip                                    -0.112003     -0.116387   \n",
       "hour                                       0.339070      0.365555   \n",
       "day_of_week                               -0.086754     -0.086422   \n",
       "month                                      0.225140      0.227017   \n",
       "day_of_year                                0.221598      0.223475   \n",
       "week                                       0.202131      0.203810   \n",
       "is_weekday                                 0.112407      0.111463   \n",
       "season                                    -0.199497     -0.201071   \n",
       "is_holiday                                -0.042340     -0.042724   \n",
       "\n",
       "                                     Most_Occuring_Starting_Neighborhood  \\\n",
       "starting_trips                                                  0.230112   \n",
       "ending_trips                                                    0.228708   \n",
       "Most_Occuring_Starting_Neighborhood                             1.000000   \n",
       "max_temp                                                        0.059789   \n",
       "min_temp                                                        0.059755   \n",
       "precip                                                          0.008559   \n",
       "hour                                                            0.222418   \n",
       "day_of_week                                                    -0.073092   \n",
       "month                                                           0.006885   \n",
       "day_of_year                                                     0.005177   \n",
       "week                                                           -0.002580   \n",
       "is_weekday                                                      0.101253   \n",
       "season                                                         -0.003712   \n",
       "is_holiday                                                     -0.038665   \n",
       "\n",
       "                                     max_temp  min_temp    precip      hour  \\\n",
       "starting_trips                       0.367385  0.367965 -0.112003  0.339070   \n",
       "ending_trips                         0.383563  0.384222 -0.116387  0.365555   \n",
       "Most_Occuring_Starting_Neighborhood  0.059789  0.059755  0.008559  0.222418   \n",
       "max_temp                             1.000000  0.999684 -0.072206  0.147838   \n",
       "min_temp                             0.999684  1.000000 -0.079202  0.146652   \n",
       "precip                              -0.072206 -0.079202  1.000000  0.013636   \n",
       "hour                                 0.147838  0.146652  0.013636  1.000000   \n",
       "day_of_week                         -0.006414 -0.006564 -0.009228 -0.003396   \n",
       "month                                0.211212  0.211436 -0.051463 -0.014466   \n",
       "day_of_year                          0.212795  0.213032 -0.052260 -0.014305   \n",
       "week                                 0.179991  0.180394 -0.060522 -0.013921   \n",
       "is_weekday                           0.016651  0.016850 -0.002292  0.002290   \n",
       "season                              -0.542297 -0.542557  0.017371  0.008032   \n",
       "is_holiday                          -0.072361 -0.072115  0.005585  0.000495   \n",
       "\n",
       "                                     day_of_week     month  day_of_year  \\\n",
       "starting_trips                         -0.086754  0.225140     0.221598   \n",
       "ending_trips                           -0.086422  0.227017     0.223475   \n",
       "Most_Occuring_Starting_Neighborhood    -0.073092  0.006885     0.005177   \n",
       "max_temp                               -0.006414  0.211212     0.212795   \n",
       "min_temp                               -0.006564  0.211436     0.213032   \n",
       "precip                                 -0.009228 -0.051463    -0.052260   \n",
       "hour                                   -0.003396 -0.014466    -0.014305   \n",
       "day_of_week                             1.000000 -0.008580    -0.008388   \n",
       "month                                  -0.008580  1.000000     0.996513   \n",
       "day_of_year                            -0.008388  0.996513     1.000000   \n",
       "week                                    0.002763  0.946965     0.946826   \n",
       "is_weekday                             -0.787167  0.004658     0.004154   \n",
       "season                                  0.019270 -0.018119    -0.018615   \n",
       "is_holiday                             -0.109122  0.019396     0.016801   \n",
       "\n",
       "                                         week  is_weekday    season  \\\n",
       "starting_trips                       0.202131    0.112407 -0.199497   \n",
       "ending_trips                         0.203810    0.111463 -0.201071   \n",
       "Most_Occuring_Starting_Neighborhood -0.002580    0.101253 -0.003712   \n",
       "max_temp                             0.179991    0.016651 -0.542297   \n",
       "min_temp                             0.180394    0.016850 -0.542557   \n",
       "precip                              -0.060522   -0.002292  0.017371   \n",
       "hour                                -0.013921    0.002290  0.008032   \n",
       "day_of_week                          0.002763   -0.787167  0.019270   \n",
       "month                                0.946965    0.004658 -0.018119   \n",
       "day_of_year                          0.946826    0.004154 -0.018615   \n",
       "week                                 1.000000   -0.005945  0.023521   \n",
       "is_weekday                          -0.005945    1.000000 -0.004297   \n",
       "season                               0.023521   -0.004297  1.000000   \n",
       "is_holiday                           0.077064    0.071245  0.082231   \n",
       "\n",
       "                                     is_holiday  \n",
       "starting_trips                        -0.042340  \n",
       "ending_trips                          -0.042724  \n",
       "Most_Occuring_Starting_Neighborhood   -0.038665  \n",
       "max_temp                              -0.072361  \n",
       "min_temp                              -0.072115  \n",
       "precip                                 0.005585  \n",
       "hour                                   0.000495  \n",
       "day_of_week                           -0.109122  \n",
       "month                                  0.019396  \n",
       "day_of_year                            0.016801  \n",
       "week                                   0.077064  \n",
       "is_weekday                             0.071245  \n",
       "season                                 0.082231  \n",
       "is_holiday                             1.000000  "
      ]
     },
     "execution_count": 168,
     "metadata": {},
     "output_type": "execute_result"
    }
   ],
   "source": [
    "# table that shows correlation between features\n",
    "df_bike_trips_corr.corr()"
   ]
  },
  {
   "cell_type": "markdown",
   "id": "80ba3766",
   "metadata": {},
   "source": [
    "In the next steps we see a visualization of the features with high correlation. We only marked the high correlated features (>0.7 && <-0.7) with different colors, based on the range of high correlation. The values are shown as rounded values. As the  The correlation value of features with itself is equal to 1, so we left them out.\n",
    "\n",
    "We also printed out the features that have a high correlation. "
   ]
  },
  {
   "cell_type": "code",
   "execution_count": 169,
   "id": "4cc96cd7",
   "metadata": {},
   "outputs": [
    {
     "data": {
      "text/plain": [
       "<AxesSubplot:>"
      ]
     },
     "execution_count": 169,
     "metadata": {},
     "output_type": "execute_result"
    },
    {
     "data": {
      "image/png": "[encoded data removed]",
      "text/plain": [
       "<Figure size 1500x1200 with 2 Axes>"
      ]
     },
     "metadata": {},
     "output_type": "display_data"
    }
   ],
   "source": [
    "# Visualization from: https://stackoverflow.com/questions/17778394/list-highest-correlation-pairs-from-a-large-correlation-matrix-in-pandas\n",
    "corr = df_bike_trips_corr.corr()\n",
    "kot = corr[((corr >= .7) | (corr <= -.7)) & (corr !=1.000)]\n",
    "plt.figure(figsize=(15,12))\n",
    "sns.heatmap(kot, annot=True, cmap=\"magma\")"
   ]
  },
  {
   "cell_type": "code",
   "execution_count": 170,
   "id": "89ae9056",
   "metadata": {},
   "outputs": [
    {
     "data": {
      "text/plain": [
       "day_of_week     is_weekday       -0.787167\n",
       "day_of_year     week              0.946826\n",
       "month           week              0.946965\n",
       "starting_trips  ending_trips      0.986824\n",
       "month           day_of_year       0.996513\n",
       "max_temp        min_temp          0.999684\n",
       "starting_trips  starting_trips         NaN\n",
       "dtype: float64"
      ]
     },
     "execution_count": 170,
     "metadata": {},
     "output_type": "execute_result"
    }
   ],
   "source": [
    "# method from: https://stackoverflow.com/questions/17778394/list-highest-correlation-pairs-from-a-large-correlation-matrix-in-pandas\n",
    "def corrFilter(x: pd.DataFrame, bound: float):\n",
    "    xCorr = x.corr()\n",
    "    xFiltered = xCorr[((xCorr >= bound) | (xCorr <= -bound)) & (xCorr !=1.000)]\n",
    "    xFlattened = xFiltered.unstack().sort_values().drop_duplicates()\n",
    "    return xFlattened\n",
    "\n",
    "corrFilter(df_bike_trips_corr, .7)"
   ]
  },
  {
   "cell_type": "code",
   "execution_count": 171,
   "id": "6bd56a09",
   "metadata": {},
   "outputs": [
    {
     "data": {
      "text/plain": [
       "starting_trips                         0\n",
       "ending_trips                           0\n",
       "Most_Occuring_Starting_Neighborhood    0\n",
       "max_temp                               0\n",
       "min_temp                               0\n",
       "precip                                 0\n",
       "hour                                   0\n",
       "day_of_week                            0\n",
       "month                                  0\n",
       "day_of_year                            0\n",
       "week                                   0\n",
       "date                                   0\n",
       "is_weekday                             0\n",
       "season                                 0\n",
       "is_holiday                             0\n",
       "dtype: int64"
      ]
     },
     "execution_count": 171,
     "metadata": {},
     "output_type": "execute_result"
    }
   ],
   "source": [
    "# checking again for null values because of the NaN value in corrFilter()\n",
    "df_bike_trips_hourly.isna().sum()"
   ]
  },
  {
   "cell_type": "markdown",
   "id": "3f9855ff",
   "metadata": {},
   "source": [
    "### Drop features"
   ]
  },
  {
   "cell_type": "markdown",
   "id": "0fc3acee",
   "metadata": {},
   "source": [
    "Looking at the *Feature Correlation* seven pairs have high correlation, while one pair is a correlation between itself. The relationship of the feature with itself can be ignored, so we will not drop the feature. Either of the high correlated features can be dropped, so we chose to drop:  \n",
    "`day_of_week`, `max_temp`. `day_of_year`, `ending_trips` and `week`.\n",
    "\n",
    "Additionally we drop the feature `date`, as it is already represented in our index. "
   ]
  },
  {
   "cell_type": "code",
   "execution_count": 172,
   "id": "5e2d3da0",
   "metadata": {},
   "outputs": [
    {
     "data": {
      "text/html": [
       "<div>\n",
       "<style scoped>\n",
       "    .dataframe tbody tr th:only-of-type {\n",
       "        vertical-align: middle;\n",
       "    }\n",
       "\n",
       "    .dataframe tbody tr th {\n",
       "        vertical-align: top;\n",
       "    }\n",
       "\n",
       "    .dataframe thead th {\n",
       "        text-align: right;\n",
       "    }\n",
       "</style>\n",
       "<table border=\"1\" class=\"dataframe\">\n",
       "  <thead>\n",
       "    <tr style=\"text-align: right;\">\n",
       "      <th></th>\n",
       "      <th>starting_trips</th>\n",
       "      <th>Most_Occuring_Starting_Neighborhood</th>\n",
       "      <th>min_temp</th>\n",
       "      <th>precip</th>\n",
       "      <th>hour</th>\n",
       "      <th>month</th>\n",
       "      <th>is_weekday</th>\n",
       "      <th>season</th>\n",
       "      <th>is_holiday</th>\n",
       "    </tr>\n",
       "    <tr>\n",
       "      <th>index</th>\n",
       "      <th></th>\n",
       "      <th></th>\n",
       "      <th></th>\n",
       "      <th></th>\n",
       "      <th></th>\n",
       "      <th></th>\n",
       "      <th></th>\n",
       "      <th></th>\n",
       "      <th></th>\n",
       "    </tr>\n",
       "  </thead>\n",
       "  <tbody>\n",
       "    <tr>\n",
       "      <th>2016-01-01 00:00:00</th>\n",
       "      <td>26.0</td>\n",
       "      <td>109</td>\n",
       "      <td>6.7</td>\n",
       "      <td>0.0</td>\n",
       "      <td>0</td>\n",
       "      <td>1</td>\n",
       "      <td>1</td>\n",
       "      <td>4</td>\n",
       "      <td>1</td>\n",
       "    </tr>\n",
       "    <tr>\n",
       "      <th>2016-01-01 01:00:00</th>\n",
       "      <td>39.0</td>\n",
       "      <td>112</td>\n",
       "      <td>7.2</td>\n",
       "      <td>0.0</td>\n",
       "      <td>1</td>\n",
       "      <td>1</td>\n",
       "      <td>1</td>\n",
       "      <td>4</td>\n",
       "      <td>1</td>\n",
       "    </tr>\n",
       "    <tr>\n",
       "      <th>2016-01-01 02:00:00</th>\n",
       "      <td>33.0</td>\n",
       "      <td>87</td>\n",
       "      <td>6.7</td>\n",
       "      <td>0.0</td>\n",
       "      <td>2</td>\n",
       "      <td>1</td>\n",
       "      <td>1</td>\n",
       "      <td>4</td>\n",
       "      <td>1</td>\n",
       "    </tr>\n",
       "  </tbody>\n",
       "</table>\n",
       "</div>"
      ],
      "text/plain": [
       "                     starting_trips  Most_Occuring_Starting_Neighborhood  \\\n",
       "index                                                                      \n",
       "2016-01-01 00:00:00            26.0                                  109   \n",
       "2016-01-01 01:00:00            39.0                                  112   \n",
       "2016-01-01 02:00:00            33.0                                   87   \n",
       "\n",
       "                     min_temp  precip  hour  month  is_weekday  season  \\\n",
       "index                                                                    \n",
       "2016-01-01 00:00:00       6.7     0.0     0      1           1       4   \n",
       "2016-01-01 01:00:00       7.2     0.0     1      1           1       4   \n",
       "2016-01-01 02:00:00       6.7     0.0     2      1           1       4   \n",
       "\n",
       "                     is_holiday  \n",
       "index                            \n",
       "2016-01-01 00:00:00           1  \n",
       "2016-01-01 01:00:00           1  \n",
       "2016-01-01 02:00:00           1  "
      ]
     },
     "execution_count": 172,
     "metadata": {},
     "output_type": "execute_result"
    }
   ],
   "source": [
    "columns_to_drop = ['ending_trips', 'max_temp', 'day_of_week', 'day_of_year', 'week', 'date']\n",
    "df_bike_trips_hourly.drop(columns_to_drop, axis=1, inplace=True)\n",
    "df_bike_trips_hourly.head(3)"
   ]
  },
  {
   "cell_type": "code",
   "execution_count": 173,
   "id": "f5e79c21",
   "metadata": {},
   "outputs": [],
   "source": [
    "# save dataframe into data\n",
    "df_bike_trips_hourly.to_parquet('../../data/bike_trips_hourly.parquet')"
   ]
  },
  {
   "cell_type": "markdown",
   "id": "32fb0569",
   "metadata": {},
   "source": [
    "## Lasso regression with alpha=1"
   ]
  },
  {
   "cell_type": "markdown",
   "id": "9d62b4b3",
   "metadata": {},
   "source": [
    "Another way to find out if features can be dropped is through the Lasso regression. When the feature value equals 0 the feature can be dropped.\n",
    "The `input_features` are here equivalet to our future X value and `predicted_variable` to our future Y value. "
   ]
  },
  {
   "cell_type": "code",
   "execution_count": 174,
   "id": "28e9b0a0",
   "metadata": {},
   "outputs": [],
   "source": [
    "input_features = df_bike_trips_hourly.drop(columns=[\"starting_trips\"])\n",
    "predicted_variable = df_bike_trips_hourly[\"starting_trips\"]"
   ]
  },
  {
   "cell_type": "code",
   "execution_count": 175,
   "id": "cdf400ce",
   "metadata": {},
   "outputs": [],
   "source": [
    "# scale input features\n",
    "scaler = StandardScaler()\n",
    "input_features_scaled = scaler.fit_transform(input_features.values)"
   ]
  },
  {
   "cell_type": "code",
   "execution_count": 176,
   "id": "b9185a52",
   "metadata": {
    "scrolled": true
   },
   "outputs": [
    {
     "data": {
      "text/html": [
       "<div>\n",
       "<style scoped>\n",
       "    .dataframe tbody tr th:only-of-type {\n",
       "        vertical-align: middle;\n",
       "    }\n",
       "\n",
       "    .dataframe tbody tr th {\n",
       "        vertical-align: top;\n",
       "    }\n",
       "\n",
       "    .dataframe thead th {\n",
       "        text-align: right;\n",
       "    }\n",
       "</style>\n",
       "<table border=\"1\" class=\"dataframe\">\n",
       "  <thead>\n",
       "    <tr style=\"text-align: right;\">\n",
       "      <th></th>\n",
       "      <th>Most_Occuring_Starting_Neighborhood</th>\n",
       "      <th>min_temp</th>\n",
       "      <th>precip</th>\n",
       "      <th>hour</th>\n",
       "      <th>month</th>\n",
       "      <th>is_weekday</th>\n",
       "      <th>season</th>\n",
       "      <th>is_holiday</th>\n",
       "    </tr>\n",
       "    <tr>\n",
       "      <th>index</th>\n",
       "      <th></th>\n",
       "      <th></th>\n",
       "      <th></th>\n",
       "      <th></th>\n",
       "      <th></th>\n",
       "      <th></th>\n",
       "      <th></th>\n",
       "      <th></th>\n",
       "    </tr>\n",
       "  </thead>\n",
       "  <tbody>\n",
       "    <tr>\n",
       "      <th>2016-01-01 00:00:00</th>\n",
       "      <td>109</td>\n",
       "      <td>6.7</td>\n",
       "      <td>0.0</td>\n",
       "      <td>0</td>\n",
       "      <td>1</td>\n",
       "      <td>1</td>\n",
       "      <td>4</td>\n",
       "      <td>1</td>\n",
       "    </tr>\n",
       "    <tr>\n",
       "      <th>2016-01-01 01:00:00</th>\n",
       "      <td>112</td>\n",
       "      <td>7.2</td>\n",
       "      <td>0.0</td>\n",
       "      <td>1</td>\n",
       "      <td>1</td>\n",
       "      <td>1</td>\n",
       "      <td>4</td>\n",
       "      <td>1</td>\n",
       "    </tr>\n",
       "    <tr>\n",
       "      <th>2016-01-01 02:00:00</th>\n",
       "      <td>87</td>\n",
       "      <td>6.7</td>\n",
       "      <td>0.0</td>\n",
       "      <td>2</td>\n",
       "      <td>1</td>\n",
       "      <td>1</td>\n",
       "      <td>4</td>\n",
       "      <td>1</td>\n",
       "    </tr>\n",
       "  </tbody>\n",
       "</table>\n",
       "</div>"
      ],
      "text/plain": [
       "                     Most_Occuring_Starting_Neighborhood  min_temp  precip  \\\n",
       "index                                                                        \n",
       "2016-01-01 00:00:00                                  109       6.7     0.0   \n",
       "2016-01-01 01:00:00                                  112       7.2     0.0   \n",
       "2016-01-01 02:00:00                                   87       6.7     0.0   \n",
       "\n",
       "                     hour  month  is_weekday  season  is_holiday  \n",
       "index                                                             \n",
       "2016-01-01 00:00:00     0      1           1       4           1  \n",
       "2016-01-01 01:00:00     1      1           1       4           1  \n",
       "2016-01-01 02:00:00     2      1           1       4           1  "
      ]
     },
     "execution_count": 176,
     "metadata": {},
     "output_type": "execute_result"
    }
   ],
   "source": [
    "input_features.head(3)"
   ]
  },
  {
   "cell_type": "code",
   "execution_count": 177,
   "id": "f2a1f29a",
   "metadata": {},
   "outputs": [
    {
     "name": "stdout",
     "output_type": "stream",
     "text": [
      "Coefficients  [ 9.97690254 17.56124583 -5.57705184 19.63320462 11.83755163  5.96184028\n",
      " -3.99450797 -0.79419651]\n"
     ]
    }
   ],
   "source": [
    "# fit data to the linear regression model\n",
    "model = Lasso(alpha=1)\n",
    "model.fit(input_features_scaled, predicted_variable)\n",
    "print(\"Coefficients \", model.coef_)\n"
   ]
  },
  {
   "cell_type": "markdown",
   "id": "dc904898",
   "metadata": {},
   "source": [
    "## Lasso with optimal alpha"
   ]
  },
  {
   "cell_type": "markdown",
   "id": "b13798ef",
   "metadata": {},
   "source": [
    "During our research phase we found that there is a way to find an optimized alpha value for better coefficients. This is what we implement below."
   ]
  },
  {
   "cell_type": "markdown",
   "id": "e69247ba",
   "metadata": {},
   "source": [
    "### K-fold cross validation\n",
    "From: https://www.kirenz.com/post/2019-08-12-python-lasso-regression-auto/"
   ]
  },
  {
   "cell_type": "code",
   "execution_count": 178,
   "id": "d48890b3",
   "metadata": {},
   "outputs": [
    {
     "data": {
      "text/plain": [
       "LassoCV(cv=5, max_iter=10000, random_state=0)"
      ]
     },
     "execution_count": 178,
     "metadata": {},
     "output_type": "execute_result"
    }
   ],
   "source": [
    "# Lasso with 5 fold cross-validation\n",
    "model = LassoCV(cv=5, random_state=0, max_iter=10000)\n",
    "\n",
    "# Fit model\n",
    "model.fit(input_features_scaled, predicted_variable)"
   ]
  },
  {
   "cell_type": "code",
   "execution_count": 179,
   "id": "f1fcb715",
   "metadata": {},
   "outputs": [
    {
     "data": {
      "text/plain": [
       "0.17965357291559964"
      ]
     },
     "execution_count": 179,
     "metadata": {},
     "output_type": "execute_result"
    }
   ],
   "source": [
    "model.alpha_"
   ]
  },
  {
   "cell_type": "markdown",
   "id": "770ee4f8",
   "metadata": {},
   "source": [
    "### Best model"
   ]
  },
  {
   "cell_type": "code",
   "execution_count": 180,
   "id": "1280704e",
   "metadata": {},
   "outputs": [
    {
     "data": {
      "text/plain": [
       "Lasso(alpha=0.17965357291559964)"
      ]
     },
     "execution_count": 180,
     "metadata": {},
     "output_type": "execute_result"
    }
   ],
   "source": [
    "# Set best alpha\n",
    "lasso_best = Lasso(alpha=model.alpha_)\n",
    "lasso_best.fit(input_features_scaled, predicted_variable)"
   ]
  },
  {
   "cell_type": "code",
   "execution_count": 181,
   "id": "e1423a8e",
   "metadata": {},
   "outputs": [
    {
     "name": "stdout",
     "output_type": "stream",
     "text": [
      "[(10.521217577901039, 'Most_Occuring_Starting_Neighborhood'), (17.541955481309994, 'min_temp'), (-6.3536943872008145, 'precip'), (20.3617855026273, 'hour'), (12.627363235043923, 'month'), (6.774768279202687, 'is_weekday'), (-4.731302092765362, 'season'), (-1.6035590903355703, 'is_holiday')]\n"
     ]
    }
   ],
   "source": [
    "print(list(zip(lasso_best.coef_, input_features)))"
   ]
  },
  {
   "cell_type": "markdown",
   "id": "6fa1730a",
   "metadata": {},
   "source": [
    "### Model evaluation"
   ]
  },
  {
   "cell_type": "code",
   "execution_count": 182,
   "id": "ec708e5d",
   "metadata": {},
   "outputs": [
    {
     "name": "stdout",
     "output_type": "stream",
     "text": [
      "R squared training set 28.71\n",
      "R squared test set 28.71\n"
     ]
    }
   ],
   "source": [
    "print('R squared training set', round(lasso_best.score(input_features_scaled, predicted_variable)*100, 2))\n",
    "print('R squared test set', round(lasso_best.score(input_features_scaled, predicted_variable)*100, 2))\n"
   ]
  },
  {
   "cell_type": "code",
   "execution_count": 183,
   "id": "96fdaa5a",
   "metadata": {},
   "outputs": [
    {
     "data": {
      "text/plain": [
       "3925.9249354938756"
      ]
     },
     "execution_count": 183,
     "metadata": {},
     "output_type": "execute_result"
    }
   ],
   "source": [
    "mean_squared_error(predicted_variable, lasso_best.predict(input_features_scaled))"
   ]
  },
  {
   "cell_type": "markdown",
   "id": "9d5a0a98",
   "metadata": {},
   "source": [
    "Here we repeat the lasso regression with the optimized alpha value we calculated before."
   ]
  },
  {
   "cell_type": "code",
   "execution_count": 184,
   "id": "88a29d11",
   "metadata": {},
   "outputs": [
    {
     "name": "stdout",
     "output_type": "stream",
     "text": [
      "Coefficients  [10.52121758 17.54195548 -6.35369439 20.3617855  12.62736324  6.77476828\n",
      " -4.73130209 -1.60355909]\n"
     ]
    }
   ],
   "source": [
    "model = Lasso(alpha=0.17965357291559964)\n",
    "model.fit(input_features_scaled, predicted_variable)\n",
    "print(\"Coefficients \", model.coef_)\n"
   ]
  },
  {
   "cell_type": "code",
   "execution_count": 185,
   "id": "e9cfe4ce",
   "metadata": {},
   "outputs": [],
   "source": [
    "df_bike_trips_hourly.to_parquet('../../data/bike_trips_hourly_FINAL.parquet')"
   ]
  }
 ],
 "metadata": {
  "kernelspec": {
   "display_name": "Python 3 (ipykernel)",
   "language": "python",
   "name": "python3"
  },
  "language_info": {
   "codemirror_mode": {
    "name": "ipython",
    "version": 3
   },
   "file_extension": ".py",
   "mimetype": "text/x-python",
   "name": "python",
   "nbconvert_exporter": "python",
   "pygments_lexer": "ipython3",
   "version": "3.9.12 (main, Apr  5 2022, 01:53:17) \n[Clang 12.0.0 ]"
  },
  "vscode": {
   "interpreter": {
    "hash": "5b69fa0ca125f7a75e8642045dca3cc5814dc978d434d8649da025a3b8baa816"
   }
  }
 },
 "nbformat": 4,
 "nbformat_minor": 5
}
