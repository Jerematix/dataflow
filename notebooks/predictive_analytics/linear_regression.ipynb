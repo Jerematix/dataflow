{
 "cells": [
  {
   "cell_type": "markdown",
   "id": "6d284e6c",
   "metadata": {},
   "source": [
    "# Linear Regression"
   ]
  },
  {
   "cell_type": "markdown",
   "id": "acb506f8",
   "metadata": {},
   "source": [
    "Given the data that we have, we know that Linear Regresion isn't a good fit for predicting the demand of hourly bikesharing rentals. We see it as an advantage to use the linear regression model as a prediction baseline that we can later compare other results to. \n",
    "We fit the model to use mean squared error, mean absolute error, mean absolute percentage error and root mean squared error as a reference to check how good the other models are performing. "
   ]
  },
  {
   "cell_type": "code",
   "execution_count": 1,
   "id": "599d545b",
   "metadata": {},
   "outputs": [],
   "source": [
    "import numpy as np\n",
    "import pandas as pd\n",
    "import matplotlib.pyplot as plt\n",
    "from sklearn.linear_model import LinearRegression\n",
    "from sklearn.preprocessing import StandardScaler\n",
    "from sklearn.model_selection import train_test_split\n",
    "from sklearn.metrics import mean_squared_error, mean_absolute_error, r2_score, mean_absolute_percentage_error"
   ]
  },
  {
   "cell_type": "markdown",
   "id": "94261b14",
   "metadata": {},
   "source": [
    "We use the data that we prepared in our feature engineering."
   ]
  },
  {
   "cell_type": "code",
   "execution_count": 2,
   "id": "260c5ef3",
   "metadata": {},
   "outputs": [
    {
     "data": {
      "text/html": [
       "<div>\n",
       "<style scoped>\n",
       "    .dataframe tbody tr th:only-of-type {\n",
       "        vertical-align: middle;\n",
       "    }\n",
       "\n",
       "    .dataframe tbody tr th {\n",
       "        vertical-align: top;\n",
       "    }\n",
       "\n",
       "    .dataframe thead th {\n",
       "        text-align: right;\n",
       "    }\n",
       "</style>\n",
       "<table border=\"1\" class=\"dataframe\">\n",
       "  <thead>\n",
       "    <tr style=\"text-align: right;\">\n",
       "      <th></th>\n",
       "      <th>starting_trips</th>\n",
       "      <th>Most_Occuring_Starting_Neighborhood</th>\n",
       "      <th>min_temp</th>\n",
       "      <th>precip</th>\n",
       "      <th>hour</th>\n",
       "      <th>month</th>\n",
       "      <th>is_weekday</th>\n",
       "      <th>season</th>\n",
       "      <th>is_holiday</th>\n",
       "    </tr>\n",
       "    <tr>\n",
       "      <th>index</th>\n",
       "      <th></th>\n",
       "      <th></th>\n",
       "      <th></th>\n",
       "      <th></th>\n",
       "      <th></th>\n",
       "      <th></th>\n",
       "      <th></th>\n",
       "      <th></th>\n",
       "      <th></th>\n",
       "    </tr>\n",
       "  </thead>\n",
       "  <tbody>\n",
       "    <tr>\n",
       "      <th>2016-01-01 00:00:00</th>\n",
       "      <td>26.0</td>\n",
       "      <td>109</td>\n",
       "      <td>6.7</td>\n",
       "      <td>0.0</td>\n",
       "      <td>0</td>\n",
       "      <td>1</td>\n",
       "      <td>1</td>\n",
       "      <td>4</td>\n",
       "      <td>1</td>\n",
       "    </tr>\n",
       "    <tr>\n",
       "      <th>2016-01-01 01:00:00</th>\n",
       "      <td>39.0</td>\n",
       "      <td>112</td>\n",
       "      <td>7.2</td>\n",
       "      <td>0.0</td>\n",
       "      <td>1</td>\n",
       "      <td>1</td>\n",
       "      <td>1</td>\n",
       "      <td>4</td>\n",
       "      <td>1</td>\n",
       "    </tr>\n",
       "    <tr>\n",
       "      <th>2016-01-01 02:00:00</th>\n",
       "      <td>33.0</td>\n",
       "      <td>87</td>\n",
       "      <td>6.7</td>\n",
       "      <td>0.0</td>\n",
       "      <td>2</td>\n",
       "      <td>1</td>\n",
       "      <td>1</td>\n",
       "      <td>4</td>\n",
       "      <td>1</td>\n",
       "    </tr>\n",
       "    <tr>\n",
       "      <th>2016-01-01 03:00:00</th>\n",
       "      <td>6.0</td>\n",
       "      <td>116</td>\n",
       "      <td>6.7</td>\n",
       "      <td>0.0</td>\n",
       "      <td>3</td>\n",
       "      <td>1</td>\n",
       "      <td>1</td>\n",
       "      <td>4</td>\n",
       "      <td>1</td>\n",
       "    </tr>\n",
       "    <tr>\n",
       "      <th>2016-01-01 04:00:00</th>\n",
       "      <td>1.0</td>\n",
       "      <td>104</td>\n",
       "      <td>6.1</td>\n",
       "      <td>0.0</td>\n",
       "      <td>4</td>\n",
       "      <td>1</td>\n",
       "      <td>1</td>\n",
       "      <td>4</td>\n",
       "      <td>1</td>\n",
       "    </tr>\n",
       "  </tbody>\n",
       "</table>\n",
       "</div>"
      ],
      "text/plain": [
       "                     starting_trips  Most_Occuring_Starting_Neighborhood  \\\n",
       "index                                                                      \n",
       "2016-01-01 00:00:00            26.0                                  109   \n",
       "2016-01-01 01:00:00            39.0                                  112   \n",
       "2016-01-01 02:00:00            33.0                                   87   \n",
       "2016-01-01 03:00:00             6.0                                  116   \n",
       "2016-01-01 04:00:00             1.0                                  104   \n",
       "\n",
       "                     min_temp  precip  hour  month  is_weekday  season  \\\n",
       "index                                                                    \n",
       "2016-01-01 00:00:00       6.7     0.0     0      1           1       4   \n",
       "2016-01-01 01:00:00       7.2     0.0     1      1           1       4   \n",
       "2016-01-01 02:00:00       6.7     0.0     2      1           1       4   \n",
       "2016-01-01 03:00:00       6.7     0.0     3      1           1       4   \n",
       "2016-01-01 04:00:00       6.1     0.0     4      1           1       4   \n",
       "\n",
       "                     is_holiday  \n",
       "index                            \n",
       "2016-01-01 00:00:00           1  \n",
       "2016-01-01 01:00:00           1  \n",
       "2016-01-01 02:00:00           1  \n",
       "2016-01-01 03:00:00           1  \n",
       "2016-01-01 04:00:00           1  "
      ]
     },
     "execution_count": 2,
     "metadata": {},
     "output_type": "execute_result"
    }
   ],
   "source": [
    "df_bike_trips_hourly = pd.read_parquet('../../data/bike_trips_hourly_FINAL.parquet')\n",
    "df_bike_trips_hourly.head()"
   ]
  },
  {
   "cell_type": "markdown",
   "id": "e4d5eec0",
   "metadata": {},
   "source": [
    "## Define X and Y"
   ]
  },
  {
   "cell_type": "markdown",
   "id": "308c147b",
   "metadata": {},
   "source": [
    "We split our data into X and Y as follows: We use 'starting_trips' as our Y value for the prediction. The other features (without starting_trips) are assigned to X. Further we standardize the data of X so the variables are centered and have the mean 0. "
   ]
  },
  {
   "cell_type": "code",
   "execution_count": 3,
   "id": "5fdf99d8",
   "metadata": {},
   "outputs": [],
   "source": [
    "X = df_bike_trips_hourly.drop(['starting_trips'], axis=1)\n",
    "X_sds = StandardScaler().fit_transform(X)\n",
    "Y = df_bike_trips_hourly['starting_trips']"
   ]
  },
  {
   "cell_type": "markdown",
   "id": "491f9b7e",
   "metadata": {},
   "source": [
    "## Train the model on the training set"
   ]
  },
  {
   "cell_type": "markdown",
   "id": "c3d864e3",
   "metadata": {},
   "source": [
    "We use a 30/70 split, so that 30% of the data is used for testing and 70% for training the model."
   ]
  },
  {
   "cell_type": "code",
   "execution_count": 4,
   "id": "480859db",
   "metadata": {},
   "outputs": [],
   "source": [
    "#random_state = 0, so we get the same train and test sets across different executions\n",
    "#30-70 split \n",
    "X_train, X_test, Y_train, Y_test = train_test_split(X_sds, Y, test_size = 0.3, random_state = 0)"
   ]
  },
  {
   "cell_type": "code",
   "execution_count": 5,
   "id": "f9455c2c",
   "metadata": {},
   "outputs": [],
   "source": [
    "regression = LinearRegression().fit(X_train, Y_train)\n"
   ]
  },
  {
   "cell_type": "markdown",
   "id": "be42c7a2",
   "metadata": {},
   "source": [
    "## Predict the test set results"
   ]
  },
  {
   "cell_type": "code",
   "execution_count": 6,
   "id": "107b3ba0",
   "metadata": {},
   "outputs": [
    {
     "name": "stdout",
     "output_type": "stream",
     "text": [
      "[-11.00237577  84.9843196   13.38297031 ...  47.32129401  50.36589186\n",
      " 101.59485097]\n"
     ]
    }
   ],
   "source": [
    "Y_pred = regression.predict(X_test)\n",
    "print(Y_pred)"
   ]
  },
  {
   "cell_type": "markdown",
   "id": "2317f1ed",
   "metadata": {},
   "source": [
    "Next we print the coefficient values. The values represent the change in the outcome when the input feature increases by one unit. \n",
    "For example, if the hour increases by one unit the demand will increase by 20.72883866. "
   ]
  },
  {
   "cell_type": "code",
   "execution_count": 7,
   "id": "dfc21259",
   "metadata": {},
   "outputs": [
    {
     "data": {
      "text/plain": [
       "array([10.67040083, 18.12598671, -6.18675961, 20.72883866, 12.95337395,\n",
       "        7.26997548, -4.49244524, -2.03954775])"
      ]
     },
     "execution_count": 7,
     "metadata": {},
     "output_type": "execute_result"
    }
   ],
   "source": [
    "regression.coef_"
   ]
  },
  {
   "cell_type": "markdown",
   "id": "299e6fa1",
   "metadata": {},
   "source": [
    "## Evaluate the model"
   ]
  },
  {
   "cell_type": "markdown",
   "id": "e2234b05",
   "metadata": {},
   "source": [
    "We print out the values of the chosen evaluation metrics for the linear regression, where it can be seen that the linear regression doesn't perform well, as we expected. E.g. R^2 indicates how well the independent variables are suited to explain the variance of the dependent ones. In our case a R-squared value of 0.28 means that 28% of the total variation in the target variable can be explained by the input features of the model. Looking at the other metrics it can be seen that they perform poorly too. "
   ]
  },
  {
   "cell_type": "code",
   "execution_count": 8,
   "id": "08de3e9a",
   "metadata": {},
   "outputs": [
    {
     "name": "stdout",
     "output_type": "stream",
     "text": [
      "MAE: 46.21\n",
      "MSE: 3846.86\n",
      "MAPE: 60.69%\n",
      "RMSE: 62.02\n",
      "R^2: 0.28\n"
     ]
    }
   ],
   "source": [
    "print(f\"MAE: {mean_absolute_error(Y_test, Y_pred):.2f}\")\n",
    "print(f\"MSE: {mean_squared_error(Y_test, Y_pred):.2f}\")\n",
    "print(f\"MAPE: {(mean_absolute_error(Y_test, Y_pred) / Y_test.mean()) * 100:.2f}%\")\n",
    "print(f\"RMSE: {mean_squared_error(Y_test, Y_pred, squared=False):.2f}\")\n",
    "print(f\"R^2: { r2_score(Y_test, Y_pred):.2f}\")"
   ]
  },
  {
   "cell_type": "markdown",
   "id": "aa9990d1",
   "metadata": {},
   "source": [
    "## Plot the results"
   ]
  },
  {
   "cell_type": "markdown",
   "id": "fa57e933",
   "metadata": {},
   "source": [
    "We wanted to show a visualization of the linear regression. Here we can see how i.e. the outliers are not portrayed well."
   ]
  },
  {
   "cell_type": "code",
   "execution_count": 15,
   "id": "efcf37ea",
   "metadata": {},
   "outputs": [
    {
     "data": {
      "text/plain": [
       "Text(0, 0.5, 'Predicted')"
      ]
     },
     "execution_count": 15,
     "metadata": {},
     "output_type": "execute_result"
    },
    {
     "data": {
      "image/png": "[encoded data removed]",
      "text/plain": [
       "<Figure size 640x480 with 1 Axes>"
      ]
     },
     "metadata": {},
     "output_type": "display_data"
    }
   ],
   "source": [
    "# Create a scatterplot of the actual and predicted values for the test data\n",
    "plt.scatter(Y_test, Y_pred)\n",
    "\n",
    "# Plot the line y=x as a reference\n",
    "min_val = 0\n",
    "max_val = 500\n",
    "plt.plot([min_val, max_val], [min_val, max_val], 'k--')\n",
    "\n",
    "plt.xlabel('Actual')\n",
    "plt.ylabel('Predicted')\n",
    "\n",
    "# One way to validate the predictions made by a machine learning model is to\n",
    "# compare the predicted values to the actual values on a plot.\n",
    "# If the model is performing well, the points on the\n",
    "# scatterplot should be close to the line y=x, which indicates a good fit. If the\n",
    "# points are widely scattered or form a non-linear pattern, this may indicate\n",
    "# that the model is not performing well and that the predictions may not be\n",
    "# accurate."
   ]
  },
  {
   "cell_type": "code",
   "execution_count": null,
   "id": "dc1fdd80",
   "metadata": {},
   "outputs": [],
   "source": []
  }
 ],
 "metadata": {
  "kernelspec": {
   "display_name": "Python 3 (ipykernel)",
   "language": "python",
   "name": "python3"
  },
  "language_info": {
   "codemirror_mode": {
    "name": "ipython",
    "version": 3
   },
   "file_extension": ".py",
   "mimetype": "text/x-python",
   "name": "python",
   "nbconvert_exporter": "python",
   "pygments_lexer": "ipython3",
   "version": "3.9.13"
  },
  "vscode": {
   "interpreter": {
    "hash": "5b69fa0ca125f7a75e8642045dca3cc5814dc978d434d8649da025a3b8baa816"
   }
  }
 },
 "nbformat": 4,
 "nbformat_minor": 5
}
