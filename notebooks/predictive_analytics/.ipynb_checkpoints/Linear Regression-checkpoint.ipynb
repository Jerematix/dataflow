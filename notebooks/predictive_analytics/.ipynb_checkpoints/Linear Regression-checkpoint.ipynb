{
 "cells": [
  {
   "cell_type": "markdown",
   "id": "6d284e6c",
   "metadata": {},
   "source": [
    "# Linear Regression"
   ]
  },
  {
   "cell_type": "markdown",
   "id": "acb506f8",
   "metadata": {},
   "source": [
    "Despite knowing that Linear Regresion wouldn't work in this case, a basic linear regression model is used in order to get some baseline predictions. We fit the model to use mean squared log error as a reference to check how good the other models are performing. "
   ]
  },
  {
   "cell_type": "code",
   "execution_count": 1,
   "id": "599d545b",
   "metadata": {},
   "outputs": [],
   "source": [
    "import numpy as np\n",
    "import pandas as pd\n",
    "import matplotlib.pyplot as plt\n",
    "from sklearn.linear_model import LinearRegression\n",
    "from sklearn.model_selection import train_test_split\n",
    "from sklearn.metrics import mean_squared_error, mean_absolute_error, r2_score"
   ]
  },
  {
   "cell_type": "code",
   "execution_count": 2,
   "id": "260c5ef3",
   "metadata": {},
   "outputs": [
    {
     "data": {
      "text/html": [
       "<div>\n",
       "<style scoped>\n",
       "    .dataframe tbody tr th:only-of-type {\n",
       "        vertical-align: middle;\n",
       "    }\n",
       "\n",
       "    .dataframe tbody tr th {\n",
       "        vertical-align: top;\n",
       "    }\n",
       "\n",
       "    .dataframe thead th {\n",
       "        text-align: right;\n",
       "    }\n",
       "</style>\n",
       "<table border=\"1\" class=\"dataframe\">\n",
       "  <thead>\n",
       "    <tr style=\"text-align: right;\">\n",
       "      <th></th>\n",
       "      <th>starting_trips</th>\n",
       "      <th>ending_trips</th>\n",
       "      <th>max_temp</th>\n",
       "      <th>min_temp</th>\n",
       "      <th>precip</th>\n",
       "      <th>hour</th>\n",
       "      <th>day_of_week</th>\n",
       "      <th>month</th>\n",
       "      <th>day_of_year</th>\n",
       "      <th>week</th>\n",
       "      <th>is_weekday</th>\n",
       "      <th>date</th>\n",
       "    </tr>\n",
       "    <tr>\n",
       "      <th>index</th>\n",
       "      <th></th>\n",
       "      <th></th>\n",
       "      <th></th>\n",
       "      <th></th>\n",
       "      <th></th>\n",
       "      <th></th>\n",
       "      <th></th>\n",
       "      <th></th>\n",
       "      <th></th>\n",
       "      <th></th>\n",
       "      <th></th>\n",
       "      <th></th>\n",
       "    </tr>\n",
       "  </thead>\n",
       "  <tbody>\n",
       "    <tr>\n",
       "      <th>2016-01-01 00:00:00</th>\n",
       "      <td>26.0</td>\n",
       "      <td>17.0</td>\n",
       "      <td>6.7</td>\n",
       "      <td>6.7</td>\n",
       "      <td>0.0</td>\n",
       "      <td>0</td>\n",
       "      <td>4</td>\n",
       "      <td>1</td>\n",
       "      <td>1</td>\n",
       "      <td>53</td>\n",
       "      <td>1</td>\n",
       "      <td>2016-01-01</td>\n",
       "    </tr>\n",
       "    <tr>\n",
       "      <th>2016-01-01 01:00:00</th>\n",
       "      <td>39.0</td>\n",
       "      <td>32.0</td>\n",
       "      <td>7.2</td>\n",
       "      <td>7.2</td>\n",
       "      <td>0.0</td>\n",
       "      <td>1</td>\n",
       "      <td>4</td>\n",
       "      <td>1</td>\n",
       "      <td>1</td>\n",
       "      <td>53</td>\n",
       "      <td>1</td>\n",
       "      <td>2016-01-01</td>\n",
       "    </tr>\n",
       "    <tr>\n",
       "      <th>2016-01-01 02:00:00</th>\n",
       "      <td>33.0</td>\n",
       "      <td>37.0</td>\n",
       "      <td>6.7</td>\n",
       "      <td>6.7</td>\n",
       "      <td>0.0</td>\n",
       "      <td>2</td>\n",
       "      <td>4</td>\n",
       "      <td>1</td>\n",
       "      <td>1</td>\n",
       "      <td>53</td>\n",
       "      <td>1</td>\n",
       "      <td>2016-01-01</td>\n",
       "    </tr>\n",
       "    <tr>\n",
       "      <th>2016-01-01 03:00:00</th>\n",
       "      <td>6.0</td>\n",
       "      <td>10.0</td>\n",
       "      <td>6.7</td>\n",
       "      <td>6.7</td>\n",
       "      <td>0.0</td>\n",
       "      <td>3</td>\n",
       "      <td>4</td>\n",
       "      <td>1</td>\n",
       "      <td>1</td>\n",
       "      <td>53</td>\n",
       "      <td>1</td>\n",
       "      <td>2016-01-01</td>\n",
       "    </tr>\n",
       "    <tr>\n",
       "      <th>2016-01-01 04:00:00</th>\n",
       "      <td>1.0</td>\n",
       "      <td>1.0</td>\n",
       "      <td>6.1</td>\n",
       "      <td>6.1</td>\n",
       "      <td>0.0</td>\n",
       "      <td>4</td>\n",
       "      <td>4</td>\n",
       "      <td>1</td>\n",
       "      <td>1</td>\n",
       "      <td>53</td>\n",
       "      <td>1</td>\n",
       "      <td>2016-01-01</td>\n",
       "    </tr>\n",
       "  </tbody>\n",
       "</table>\n",
       "</div>"
      ],
      "text/plain": [
       "                     starting_trips  ending_trips  max_temp  min_temp  precip  \\\n",
       "index                                                                           \n",
       "2016-01-01 00:00:00            26.0          17.0       6.7       6.7     0.0   \n",
       "2016-01-01 01:00:00            39.0          32.0       7.2       7.2     0.0   \n",
       "2016-01-01 02:00:00            33.0          37.0       6.7       6.7     0.0   \n",
       "2016-01-01 03:00:00             6.0          10.0       6.7       6.7     0.0   \n",
       "2016-01-01 04:00:00             1.0           1.0       6.1       6.1     0.0   \n",
       "\n",
       "                     hour  day_of_week  month  day_of_year  week  is_weekday  \\\n",
       "index                                                                          \n",
       "2016-01-01 00:00:00     0            4      1            1    53           1   \n",
       "2016-01-01 01:00:00     1            4      1            1    53           1   \n",
       "2016-01-01 02:00:00     2            4      1            1    53           1   \n",
       "2016-01-01 03:00:00     3            4      1            1    53           1   \n",
       "2016-01-01 04:00:00     4            4      1            1    53           1   \n",
       "\n",
       "                          date  \n",
       "index                           \n",
       "2016-01-01 00:00:00 2016-01-01  \n",
       "2016-01-01 01:00:00 2016-01-01  \n",
       "2016-01-01 02:00:00 2016-01-01  \n",
       "2016-01-01 03:00:00 2016-01-01  \n",
       "2016-01-01 04:00:00 2016-01-01  "
      ]
     },
     "execution_count": 2,
     "metadata": {},
     "output_type": "execute_result"
    }
   ],
   "source": [
    "df_bike_trips_hourly = pd.read_parquet('../../data/bike_trips_hourly.parquet')\n",
    "df_bike_trips_hourly.head()"
   ]
  },
  {
   "cell_type": "code",
   "execution_count": 17,
   "id": "87ba19cd",
   "metadata": {},
   "outputs": [
    {
     "data": {
      "text/html": [
       "<div>\n",
       "<style scoped>\n",
       "    .dataframe tbody tr th:only-of-type {\n",
       "        vertical-align: middle;\n",
       "    }\n",
       "\n",
       "    .dataframe tbody tr th {\n",
       "        vertical-align: top;\n",
       "    }\n",
       "\n",
       "    .dataframe thead th {\n",
       "        text-align: right;\n",
       "    }\n",
       "</style>\n",
       "<table border=\"1\" class=\"dataframe\">\n",
       "  <thead>\n",
       "    <tr style=\"text-align: right;\">\n",
       "      <th></th>\n",
       "      <th>starting_trips</th>\n",
       "      <th>min_temp</th>\n",
       "      <th>precip</th>\n",
       "      <th>hour</th>\n",
       "      <th>month</th>\n",
       "      <th>is_weekday</th>\n",
       "    </tr>\n",
       "    <tr>\n",
       "      <th>index</th>\n",
       "      <th></th>\n",
       "      <th></th>\n",
       "      <th></th>\n",
       "      <th></th>\n",
       "      <th></th>\n",
       "      <th></th>\n",
       "    </tr>\n",
       "  </thead>\n",
       "  <tbody>\n",
       "    <tr>\n",
       "      <th>2016-01-01 00:00:00</th>\n",
       "      <td>26.0</td>\n",
       "      <td>6.7</td>\n",
       "      <td>0.0</td>\n",
       "      <td>0</td>\n",
       "      <td>1</td>\n",
       "      <td>1</td>\n",
       "    </tr>\n",
       "    <tr>\n",
       "      <th>2016-01-01 01:00:00</th>\n",
       "      <td>39.0</td>\n",
       "      <td>7.2</td>\n",
       "      <td>0.0</td>\n",
       "      <td>1</td>\n",
       "      <td>1</td>\n",
       "      <td>1</td>\n",
       "    </tr>\n",
       "    <tr>\n",
       "      <th>2016-01-01 02:00:00</th>\n",
       "      <td>33.0</td>\n",
       "      <td>6.7</td>\n",
       "      <td>0.0</td>\n",
       "      <td>2</td>\n",
       "      <td>1</td>\n",
       "      <td>1</td>\n",
       "    </tr>\n",
       "    <tr>\n",
       "      <th>2016-01-01 03:00:00</th>\n",
       "      <td>6.0</td>\n",
       "      <td>6.7</td>\n",
       "      <td>0.0</td>\n",
       "      <td>3</td>\n",
       "      <td>1</td>\n",
       "      <td>1</td>\n",
       "    </tr>\n",
       "    <tr>\n",
       "      <th>2016-01-01 04:00:00</th>\n",
       "      <td>1.0</td>\n",
       "      <td>6.1</td>\n",
       "      <td>0.0</td>\n",
       "      <td>4</td>\n",
       "      <td>1</td>\n",
       "      <td>1</td>\n",
       "    </tr>\n",
       "  </tbody>\n",
       "</table>\n",
       "</div>"
      ],
      "text/plain": [
       "                     starting_trips  min_temp  precip  hour  month  is_weekday\n",
       "index                                                                         \n",
       "2016-01-01 00:00:00            26.0       6.7     0.0     0      1           1\n",
       "2016-01-01 01:00:00            39.0       7.2     0.0     1      1           1\n",
       "2016-01-01 02:00:00            33.0       6.7     0.0     2      1           1\n",
       "2016-01-01 03:00:00             6.0       6.7     0.0     3      1           1\n",
       "2016-01-01 04:00:00             1.0       6.1     0.0     4      1           1"
      ]
     },
     "execution_count": 17,
     "metadata": {},
     "output_type": "execute_result"
    }
   ],
   "source": [
    "#drop date, because it is already in the index\n",
    "df_bike_trips_hourly.drop(['date','ending_trips'] , axis=1, inplace=True)\n",
    "#drop ending trips.. would be confusing I suppose..? \n",
    "\n",
    "df_bike_trips_hourly.head()"
   ]
  },
  {
   "cell_type": "markdown",
   "id": "e4d5eec0",
   "metadata": {},
   "source": [
    "## Define X and Y"
   ]
  },
  {
   "cell_type": "code",
   "execution_count": 19,
   "id": "5fdf99d8",
   "metadata": {},
   "outputs": [],
   "source": [
    "X = df_bike_trips_hourly[['min_temp', 'precip', 'hour', 'month', 'is_weekday']]\n",
    "Y = df_bike_trips_hourly['starting_trips']\n",
    "# Try standardscaler or reshape function"
   ]
  },
  {
   "cell_type": "markdown",
   "id": "491f9b7e",
   "metadata": {},
   "source": [
    "## Train the model on the training set"
   ]
  },
  {
   "cell_type": "code",
   "execution_count": 21,
   "id": "480859db",
   "metadata": {},
   "outputs": [],
   "source": [
    "#random_state 0, so it stays the same verytime we run it\n",
    "#30-70 split \n",
    "X_train, X_test, Y_train, Y_test = train_test_split(X, Y, test_size = 0.3, random_state = 0)"
   ]
  },
  {
   "cell_type": "code",
   "execution_count": 23,
   "id": "f9455c2c",
   "metadata": {},
   "outputs": [
    {
     "data": {
      "text/plain": [
       "LinearRegression()"
      ]
     },
     "execution_count": 23,
     "metadata": {},
     "output_type": "execute_result"
    }
   ],
   "source": [
    "regression = LinearRegression()  \n",
    "regression.fit(X_train, Y_train)"
   ]
  },
  {
   "cell_type": "markdown",
   "id": "be42c7a2",
   "metadata": {},
   "source": [
    "## Predict the test set results"
   ]
  },
  {
   "cell_type": "code",
   "execution_count": 25,
   "id": "107b3ba0",
   "metadata": {},
   "outputs": [
    {
     "name": "stdout",
     "output_type": "stream",
     "text": [
      "[  4.59079572  79.80614427  15.05892726 ...  49.67378714  50.21285438\n",
      " 108.06568978]\n"
     ]
    }
   ],
   "source": [
    "Y_pred = regression.predict(X_test)\n",
    "print(Y_pred)"
   ]
  },
  {
   "cell_type": "markdown",
   "id": "299e6fa1",
   "metadata": {},
   "source": [
    "## Evaluate the model"
   ]
  },
  {
   "cell_type": "code",
   "execution_count": 27,
   "id": "08de3e9a",
   "metadata": {},
   "outputs": [
    {
     "data": {
      "text/plain": [
       "0.254229734787893"
      ]
     },
     "execution_count": 27,
     "metadata": {},
     "output_type": "execute_result"
    }
   ],
   "source": [
    "r2_score(Y_test, Y_pred)"
   ]
  },
  {
   "cell_type": "markdown",
   "id": "aa9990d1",
   "metadata": {},
   "source": [
    "## Plot the results"
   ]
  },
  {
   "cell_type": "code",
   "execution_count": 29,
   "id": "efcf37ea",
   "metadata": {},
   "outputs": [
    {
     "data": {
      "text/plain": [
       "Text(0, 0.5, 'Predicted')"
      ]
     },
     "execution_count": 29,
     "metadata": {},
     "output_type": "execute_result"
    },
    {
     "data": {
      "image/png": "[encoded data removed]",
      "text/plain": [
       "<Figure size 1080x720 with 1 Axes>"
      ]
     },
     "metadata": {
      "needs_background": "light"
     },
     "output_type": "display_data"
    }
   ],
   "source": [
    "plt.figure(figsize=(15,10))\n",
    "plt.scatter(Y_test, Y_pred)\n",
    "plt.xlabel('Actual')\n",
    "plt.ylabel('Predicted')\n",
    "#To Do the line as visualization"
   ]
  },
  {
   "cell_type": "code",
   "execution_count": null,
   "id": "c26efc7b",
   "metadata": {},
   "outputs": [],
   "source": []
  }
 ],
 "metadata": {
  "kernelspec": {
   "display_name": "Python 3 (ipykernel)",
   "language": "python",
   "name": "python3"
  },
  "language_info": {
   "codemirror_mode": {
    "name": "ipython",
    "version": 3
   },
   "file_extension": ".py",
   "mimetype": "text/x-python",
   "name": "python",
   "nbconvert_exporter": "python",
   "pygments_lexer": "ipython3",
   "version": "3.9.13"
  }
 },
 "nbformat": 4,
 "nbformat_minor": 5
}
