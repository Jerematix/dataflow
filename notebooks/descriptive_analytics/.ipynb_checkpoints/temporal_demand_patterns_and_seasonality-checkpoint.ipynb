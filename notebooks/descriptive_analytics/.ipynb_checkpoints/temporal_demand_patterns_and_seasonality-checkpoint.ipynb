{
 "cells": [
  {
   "cell_type": "markdown",
   "metadata": {},
   "source": [
    "# Temporal Demand Patterns and Seasonality\n",
    "\n",
    "To monitor the operational performance of the vehicle fleet in Philadelphia in the year 2016, this notebook will visualize how the fleet usage varies per weekday, per week and during the whole year.\n"
   ]
  },
  {
   "cell_type": "code",
   "execution_count": 1,
   "metadata": {},
   "outputs": [],
   "source": [
    "#Import necessary libraries\n",
    "\n",
    "import numpy as np\n",
    "import pandas as pd\n",
    "import matplotlib.pyplot as plt\n",
    "import seaborn as sns\n",
    "import datetime\n",
    "#from datetime import date\n",
    "import calendar\n",
    "#from calendar import day_name"
   ]
  },
  {
   "cell_type": "code",
   "execution_count": 2,
   "metadata": {},
   "outputs": [
    {
     "data": {
      "text/html": [
       "<div>\n",
       "<style scoped>\n",
       "    .dataframe tbody tr th:only-of-type {\n",
       "        vertical-align: middle;\n",
       "    }\n",
       "\n",
       "    .dataframe tbody tr th {\n",
       "        vertical-align: top;\n",
       "    }\n",
       "\n",
       "    .dataframe thead th {\n",
       "        text-align: right;\n",
       "    }\n",
       "</style>\n",
       "<table border=\"1\" class=\"dataframe\">\n",
       "  <thead>\n",
       "    <tr style=\"text-align: right;\">\n",
       "      <th></th>\n",
       "      <th>start_time</th>\n",
       "      <th>end_time</th>\n",
       "      <th>start_station_id</th>\n",
       "      <th>end_station_id</th>\n",
       "      <th>bike_id</th>\n",
       "      <th>user_type</th>\n",
       "      <th>end_station_name</th>\n",
       "      <th>start_station_name</th>\n",
       "      <th>duration</th>\n",
       "      <th>start_lat</th>\n",
       "      <th>start_lon</th>\n",
       "      <th>end_lat</th>\n",
       "      <th>end_lon</th>\n",
       "      <th>distance</th>\n",
       "      <th>speed</th>\n",
       "      <th>average_time</th>\n",
       "      <th>date_time</th>\n",
       "      <th>max_temp</th>\n",
       "      <th>min_temp</th>\n",
       "      <th>precip</th>\n",
       "    </tr>\n",
       "    <tr>\n",
       "      <th>index</th>\n",
       "      <th></th>\n",
       "      <th></th>\n",
       "      <th></th>\n",
       "      <th></th>\n",
       "      <th></th>\n",
       "      <th></th>\n",
       "      <th></th>\n",
       "      <th></th>\n",
       "      <th></th>\n",
       "      <th></th>\n",
       "      <th></th>\n",
       "      <th></th>\n",
       "      <th></th>\n",
       "      <th></th>\n",
       "      <th></th>\n",
       "      <th></th>\n",
       "      <th></th>\n",
       "      <th></th>\n",
       "      <th></th>\n",
       "      <th></th>\n",
       "    </tr>\n",
       "  </thead>\n",
       "  <tbody>\n",
       "    <tr>\n",
       "      <th>0</th>\n",
       "      <td>1451606640000000000</td>\n",
       "      <td>1451607240000000000</td>\n",
       "      <td>3046</td>\n",
       "      <td>3041</td>\n",
       "      <td>3564</td>\n",
       "      <td>Indego30</td>\n",
       "      <td>Girard Station, MFL</td>\n",
       "      <td>2nd &amp; Market</td>\n",
       "      <td>0 days 00:10:00</td>\n",
       "      <td>39.949895</td>\n",
       "      <td>-75.143749</td>\n",
       "      <td>39.969241</td>\n",
       "      <td>-75.136180</td>\n",
       "      <td>1.005648</td>\n",
       "      <td>6.033888</td>\n",
       "      <td>1451606940000000000</td>\n",
       "      <td>1451606400000000000</td>\n",
       "      <td>6.7</td>\n",
       "      <td>6.7</td>\n",
       "      <td>0.0</td>\n",
       "    </tr>\n",
       "    <tr>\n",
       "      <th>1</th>\n",
       "      <td>1451606820000000000</td>\n",
       "      <td>1451608140000000000</td>\n",
       "      <td>3028</td>\n",
       "      <td>3019</td>\n",
       "      <td>2629</td>\n",
       "      <td>Indego30</td>\n",
       "      <td>6th &amp; Race</td>\n",
       "      <td>4th &amp; Bainbridge</td>\n",
       "      <td>0 days 00:22:00</td>\n",
       "      <td>39.940735</td>\n",
       "      <td>-75.149370</td>\n",
       "      <td>39.954694</td>\n",
       "      <td>-75.149496</td>\n",
       "      <td>0.397798</td>\n",
       "      <td>1.084905</td>\n",
       "      <td>1451607480000000000</td>\n",
       "      <td>1451606400000000000</td>\n",
       "      <td>6.7</td>\n",
       "      <td>6.7</td>\n",
       "      <td>0.0</td>\n",
       "    </tr>\n",
       "    <tr>\n",
       "      <th>2</th>\n",
       "      <td>1451607240000000000</td>\n",
       "      <td>1451608020000000000</td>\n",
       "      <td>3007</td>\n",
       "      <td>3066</td>\n",
       "      <td>3430</td>\n",
       "      <td>Indego30</td>\n",
       "      <td>19th &amp; Lombard</td>\n",
       "      <td>11th &amp; Pine, Kahn Park</td>\n",
       "      <td>0 days 00:13:00</td>\n",
       "      <td>39.945123</td>\n",
       "      <td>-75.159952</td>\n",
       "      <td>39.945664</td>\n",
       "      <td>-75.173272</td>\n",
       "      <td>1.480278</td>\n",
       "      <td>6.832050</td>\n",
       "      <td>1451607630000000000</td>\n",
       "      <td>1451606400000000000</td>\n",
       "      <td>6.7</td>\n",
       "      <td>6.7</td>\n",
       "      <td>0.0</td>\n",
       "    </tr>\n",
       "  </tbody>\n",
       "</table>\n",
       "</div>"
      ],
      "text/plain": [
       "                start_time             end_time  start_station_id  \\\n",
       "index                                                               \n",
       "0      1451606640000000000  1451607240000000000              3046   \n",
       "1      1451606820000000000  1451608140000000000              3028   \n",
       "2      1451607240000000000  1451608020000000000              3007   \n",
       "\n",
       "       end_station_id  bike_id user_type     end_station_name  \\\n",
       "index                                                           \n",
       "0                3041     3564  Indego30  Girard Station, MFL   \n",
       "1                3019     2629  Indego30           6th & Race   \n",
       "2                3066     3430  Indego30       19th & Lombard   \n",
       "\n",
       "           start_station_name        duration  start_lat  start_lon  \\\n",
       "index                                                                 \n",
       "0                2nd & Market 0 days 00:10:00  39.949895 -75.143749   \n",
       "1            4th & Bainbridge 0 days 00:22:00  39.940735 -75.149370   \n",
       "2      11th & Pine, Kahn Park 0 days 00:13:00  39.945123 -75.159952   \n",
       "\n",
       "         end_lat    end_lon  distance     speed         average_time  \\\n",
       "index                                                                  \n",
       "0      39.969241 -75.136180  1.005648  6.033888  1451606940000000000   \n",
       "1      39.954694 -75.149496  0.397798  1.084905  1451607480000000000   \n",
       "2      39.945664 -75.173272  1.480278  6.832050  1451607630000000000   \n",
       "\n",
       "                 date_time  max_temp  min_temp  precip  \n",
       "index                                                   \n",
       "0      1451606400000000000       6.7       6.7     0.0  \n",
       "1      1451606400000000000       6.7       6.7     0.0  \n",
       "2      1451606400000000000       6.7       6.7     0.0  "
      ]
     },
     "execution_count": 2,
     "metadata": {},
     "output_type": "execute_result"
    }
   ],
   "source": [
    "#Import cleaned dataset\n",
    "\n",
    "trips_df = pd.read_parquet(\"../../data/bike_trips_cleaned.parquet\")\n",
    "\n",
    "trips_df.head(3)\n",
    "\n"
   ]
  },
  {
   "cell_type": "markdown",
   "metadata": {},
   "source": [
    "## Yearly usage per hour"
   ]
  },
  {
   "cell_type": "code",
   "execution_count": 3,
   "metadata": {},
   "outputs": [
    {
     "data": {
      "text/plain": [
       "index\n",
       "0        2016-01-01 00:00:00\n",
       "1        2016-01-01 00:00:00\n",
       "2        2016-01-01 00:00:00\n",
       "3        2016-01-01 00:00:00\n",
       "4        2016-01-01 01:00:00\n",
       "                 ...        \n",
       "647052   2016-12-31 23:00:00\n",
       "647053   2016-12-31 23:00:00\n",
       "647054   2016-12-31 23:00:00\n",
       "647055   2016-12-31 23:00:00\n",
       "647056   2016-12-31 23:00:00\n",
       "Name: date_time, Length: 647057, dtype: datetime64[ns]"
      ]
     },
     "execution_count": 3,
     "metadata": {},
     "output_type": "execute_result"
    }
   ],
   "source": [
    "# Convert date_time into a datetime format\n",
    "\n",
    "trips_df[\"date_time\"]= pd.to_datetime(trips_df[\"date_time\"],  format=\"%Y-%m-%d %H:%M:%S\")\n",
    "\n",
    "trips_df[\"date_time\"]\n"
   ]
  },
  {
   "cell_type": "code",
   "execution_count": 6,
   "metadata": {},
   "outputs": [
    {
     "data": {
      "text/plain": [
       "index\n",
       "0          0\n",
       "1          0\n",
       "2          0\n",
       "3          0\n",
       "4          1\n",
       "          ..\n",
       "647052    23\n",
       "647053    23\n",
       "647054    23\n",
       "647055    23\n",
       "647056    23\n",
       "Name: hour_trip, Length: 647057, dtype: int64"
      ]
     },
     "execution_count": 6,
     "metadata": {},
     "output_type": "execute_result"
    }
   ],
   "source": [
    "# Copy the dataset and add column with hour of the trip to the copied dataset\n",
    "\n",
    "trips_df_copy = trips_df\n",
    "trips_df_copy['hour_trip'] = trips_df['date_time'].dt.hour\n",
    "\n",
    "trips_df_copy['hour_trip']"
   ]
  },
  {
   "cell_type": "code",
   "execution_count": 8,
   "metadata": {},
   "outputs": [
    {
     "data": {
      "text/plain": [
       "18    63606\n",
       "17    61987\n",
       "19    47448\n",
       "9     47236\n",
       "8     44387\n",
       "16    42334\n",
       "20    37069\n",
       "15    35920\n",
       "14    34887\n",
       "12    33242\n",
       "13    32151\n",
       "10    30207\n",
       "21    25758\n",
       "11    23701\n",
       "22    19484\n",
       "7     18598\n",
       "23    14253\n",
       "0      9229\n",
       "6      8633\n",
       "1      6155\n",
       "2      4059\n",
       "5      2594\n",
       "3      2546\n",
       "4      1573\n",
       "Name: hour_trip, dtype: int64"
      ]
     },
     "execution_count": 8,
     "metadata": {},
     "output_type": "execute_result"
    }
   ],
   "source": [
    "# Calculate the absolute number of trips for every hour of the year for reference\n",
    "\n",
    "freq_hour = trips_df['hour_trip'].value_counts()\n",
    "freq_hour"
   ]
  },
  {
   "cell_type": "code",
   "execution_count": 9,
   "metadata": {},
   "outputs": [
    {
     "data": {
      "image/png": "[encoded data removed]",
      "text/plain": [
       "<Figure size 720x288 with 1 Axes>"
      ]
     },
     "metadata": {
      "needs_background": "light"
     },
     "output_type": "display_data"
    }
   ],
   "source": [
    "fig,ax = plt.subplots(figsize=(10,4)) \n",
    "\n",
    "sns.countplot(x=trips_df_copy[\"hour_trip\"], data= trips_df, palette=\"magma\")\n",
    "ax.set_title(\"Fleet usage depending on the hour\", fontsize=18, fontname=\"Arial\")\n",
    "ax.set_xlabel(\"Hour of the day\")\n",
    "ax.set_ylabel(\"Usage\")\n",
    "plt.show()"
   ]
  },
  {
   "cell_type": "markdown",
   "metadata": {},
   "source": [
    "As seen in the graph, the fleet usage during the night and early hours of the day (0-6am) is relatively low and increases strongly after 7am. During the day, the demand is fairly stable (around 30000 trips) and once again increases strongly after 4pm. After the evening rush hour, the demand slowly falls again towards the end of the day.<p>\n",
    "One can observe usage peaks from 8-9am and 5-7pm which could point to workers renting bikes to get to work and especially to get back home. "
   ]
  },
  {
   "cell_type": "markdown",
   "metadata": {},
   "source": [
    "## Yearly usage per weekday"
   ]
  },
  {
   "cell_type": "code",
   "execution_count": 19,
   "metadata": {},
   "outputs": [
    {
     "data": {
      "text/plain": [
       "index\n",
       "0           Friday\n",
       "1           Friday\n",
       "2           Friday\n",
       "3           Friday\n",
       "4           Friday\n",
       "            ...   \n",
       "647052    Saturday\n",
       "647053    Saturday\n",
       "647054    Saturday\n",
       "647055    Saturday\n",
       "647056    Saturday\n",
       "Name: weekday, Length: 647057, dtype: object"
      ]
     },
     "execution_count": 19,
     "metadata": {},
     "output_type": "execute_result"
    }
   ],
   "source": [
    "# Add column with weekdays to dataset\n",
    "\n",
    "trips_df['weekday'] = trips_df['date_time'].dt.day_name()\n",
    "trips_df['weekday']\n"
   ]
  },
  {
   "cell_type": "code",
   "execution_count": 12,
   "metadata": {},
   "outputs": [
    {
     "data": {
      "text/plain": [
       "Wednesday    101871\n",
       "Friday        99687\n",
       "Tuesday       99599\n",
       "Thursday      99039\n",
       "Monday        92384\n",
       "Saturday      80689\n",
       "Sunday        73788\n",
       "Name: weekday, dtype: int64"
      ]
     },
     "execution_count": 12,
     "metadata": {},
     "output_type": "execute_result"
    }
   ],
   "source": [
    "# Calculate absolute number of trips per weekday for reference\n",
    "\n",
    "freq_days = trips_df['weekday'].value_counts()\n",
    "freq_days"
   ]
  },
  {
   "cell_type": "code",
   "execution_count": 13,
   "metadata": {},
   "outputs": [],
   "source": [
    "# Sort dataset by weekday to simplify the plotting\n",
    "\n",
    "trips_df_copy= trips_df\n",
    "\n",
    "weekdays = ['Monday', 'Tuesday', 'Wednesday', 'Thursday', 'Friday', 'Saturday', 'Sunday']\n",
    "\n",
    "trips_df_copy['weekday'] = pd.Categorical(trips_df_copy['weekday'], categories=weekdays, ordered=True)\n",
    "trips_df_copy = trips_df_copy.sort_values('weekday')\n"
   ]
  },
  {
   "cell_type": "code",
   "execution_count": 16,
   "metadata": {},
   "outputs": [
    {
     "data": {
      "image/png": "[encoded data removed]",
      "text/plain": [
       "<Figure size 720x288 with 1 Axes>"
      ]
     },
     "metadata": {
      "needs_background": "light"
     },
     "output_type": "display_data"
    }
   ],
   "source": [
    "fig,ax = plt.subplots(figsize=(10,4)) \n",
    "\n",
    "sns.countplot(x=trips_df_copy[\"weekday\"], data= trips_df, palette=\"magma\")\n",
    "ax.set_title(\"Fleet usage depending on the weekday\", fontsize=18, fontname=\"Arial\")\n",
    "ax.set_xlabel(\"Weekday\")\n",
    "ax.set_ylabel(\"Usage\")\n",
    "plt.show()"
   ]
  },
  {
   "cell_type": "markdown",
   "metadata": {},
   "source": [
    "Derived from the plot, one can say that the fleet usage during business days is higher than the usage during the weekends. The day with the most bike rentals was Wednesday with 101871 rented bikes, while sundays generally have the lowest number of rentals with 73788 rented bikes in 2016."
   ]
  },
  {
   "cell_type": "markdown",
   "metadata": {},
   "source": [
    "## Yearly usage overall"
   ]
  },
  {
   "cell_type": "code",
   "execution_count": 20,
   "metadata": {},
   "outputs": [
    {
     "data": {
      "text/plain": [
       "index\n",
       "0          January\n",
       "1          January\n",
       "2          January\n",
       "3          January\n",
       "4          January\n",
       "            ...   \n",
       "647052    December\n",
       "647053    December\n",
       "647054    December\n",
       "647055    December\n",
       "647056    December\n",
       "Name: month, Length: 647057, dtype: object"
      ]
     },
     "execution_count": 20,
     "metadata": {},
     "output_type": "execute_result"
    }
   ],
   "source": [
    "# Add column with months to dataset\n",
    "\n",
    "trips_df['month'] = trips_df['date_time'].dt.month_name()\n",
    "trips_df['month']\n"
   ]
  },
  {
   "cell_type": "code",
   "execution_count": 21,
   "metadata": {},
   "outputs": [
    {
     "data": {
      "text/plain": [
       "September    79086\n",
       "August       77225\n",
       "July         75791\n",
       "October      71943\n",
       "June         71763\n",
       "November     67996\n",
       "May          55116\n",
       "April        42038\n",
       "March        35779\n",
       "December     33662\n",
       "February     19077\n",
       "January      17581\n",
       "Name: month, dtype: int64"
      ]
     },
     "execution_count": 21,
     "metadata": {},
     "output_type": "execute_result"
    }
   ],
   "source": [
    "# Calculate absolute number of trips per month for reference\n",
    "\n",
    "freq_month = trips_df['month'].value_counts()\n",
    "freq_month"
   ]
  },
  {
   "cell_type": "code",
   "execution_count": 18,
   "metadata": {},
   "outputs": [
    {
     "data": {
      "image/png": "[encoded data removed]",
      "text/plain": [
       "<Figure size 864x288 with 1 Axes>"
      ]
     },
     "metadata": {
      "needs_background": "light"
     },
     "output_type": "display_data"
    }
   ],
   "source": [
    "fig,ax = plt.subplots(figsize=(12,4)) \n",
    "\n",
    "sns.countplot(x=trips_df[\"month\"], data= trips_df, palette=\"magma\")\n",
    "ax.set_title(\"Fleet usage depending on the month\", fontsize=18, fontname=\"Arial\")\n",
    "ax.set_xlabel(\"Month\")\n",
    "ax.set_ylabel(\"Usage\")\n",
    "plt.show()"
   ]
  },
  {
   "cell_type": "code",
   "execution_count": 61,
   "metadata": {},
   "outputs": [
    {
     "data": {
      "image/png": "[encoded data removed]",
      "text/plain": [
       "<Figure size 864x288 with 1 Axes>"
      ]
     },
     "metadata": {
      "needs_background": "light"
     },
     "output_type": "display_data"
    }
   ],
   "source": [
    "# Plotting the weather in Philadelphia in 2016\n",
    "\n",
    "plt.subplots(figsize=(12, 4))\n",
    "plt.grid(True)\n",
    "plt.plot(trips_df[\"date_time\"],trips_df[\"max_temp\"])\n",
    "plt.xlabel(\"Month\")\n",
    "plt.ylabel(\"Maximal temperature of the day in °C\")\n",
    "plt.title(\"Weather in Philadelphia 2016\", fontsize=18, fontname=\"Arial\")\n",
    "\n",
    "plt.show()"
   ]
  },
  {
   "cell_type": "markdown",
   "metadata": {},
   "source": [
    "Looking at the plots showing the fleet usage and the weather in Philadelphia in 2016, one can infer that the demand rises with the temperature and peaks from July to September when the temperature ranges between 20 and 30°C. <p>\n",
    "June, as well as October and November, also show high bike rental numbers and warm temperatures. March to April shows a rising demand in bike rentals, beginning when the temperature starts to rise over 0°C permanently. <p> Meanwhile, the demand during the winter months (December-February) is lower when the temperature starts falling under 0°C.\n"
   ]
  }
 ],
 "metadata": {
  "kernelspec": {
   "display_name": "Python 3",
   "language": "python",
   "name": "python3"
  },
  "language_info": {
   "codemirror_mode": {
    "name": "ipython",
    "version": 3
   },
   "file_extension": ".py",
   "mimetype": "text/x-python",
   "name": "python",
   "nbconvert_exporter": "python",
   "pygments_lexer": "ipython3",
   "version": "3.8.8"
  },
  "vscode": {
   "interpreter": {
    "hash": "369f2c481f4da34e4445cda3fffd2e751bd1c4d706f27375911949ba6bb62e1c"
   }
  }
 },
 "nbformat": 4,
 "nbformat_minor": 2
}
