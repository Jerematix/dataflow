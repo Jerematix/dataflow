{
 "cells": [
  {
   "cell_type": "code",
   "execution_count": 47,
   "outputs": [],
   "source": [
    "import pandas as pd\n",
    "import googlemaps\n",
    "import csv\n",
    "\n",
    "## Bike Data\n",
    "df_bikes = pd.read_csv('../../data/philadelphia_2016_raw.csv')\n",
    "\n",
    "#Get Station id's Mapped to Name\n",
    "unique_station_ids = df_bikes['start_station_id'].fillna(0).unique()"
   ],
   "metadata": {
    "collapsed": false,
    "pycharm": {
     "name": "#%%\n"
    }
   }
  },
  {
   "cell_type": "markdown",
   "source": [],
   "metadata": {
    "collapsed": false,
    "pycharm": {
     "name": "#%% md\n"
    }
   }
  },
  {
   "cell_type": "code",
   "execution_count": 44,
   "outputs": [
    {
     "data": {
      "text/plain": "True"
     },
     "execution_count": 44,
     "metadata": {},
     "output_type": "execute_result"
    }
   ],
   "source": [
    "#To check if there are no multiple names for start and End (Has to be true, so every Station ID Corresponds to a Unique Name\n",
    "all([all(df_bikes.groupby(df_bikes['start_station_id']).nunique()['start_station_name']),\n",
    "all(df_bikes.groupby(df_bikes['end_station_id']).nunique()['end_station_name'])])"
   ],
   "metadata": {
    "collapsed": false,
    "pycharm": {
     "name": "#%%\n"
    }
   }
  },
  {
   "cell_type": "markdown",
   "source": [
    "Extract all Start and End functions from the Data"
   ],
   "metadata": {
    "collapsed": false,
    "pycharm": {
     "name": "#%% md\n"
    }
   }
  },
  {
   "cell_type": "code",
   "execution_count": 45,
   "outputs": [
    {
     "name": "stderr",
     "output_type": "stream",
     "text": [
      "C:\\Users\\jerem\\AppData\\Local\\Temp\\ipykernel_3568\\241897395.py:2: FutureWarning: Dropping invalid columns in DataFrameGroupBy.max is deprecated. In a future version, a TypeError will be raised. Before calling .max, select only columns which should be valid for the function.\n",
      "  end_station_tuples = df_bikes.groupby(['end_station_id','end_station_name']).max().index\n"
     ]
    }
   ],
   "source": [
    "start_station_tuples = df_bikes.groupby(['start_station_id','start_station_name']).max().index\n",
    "end_station_tuples = df_bikes.groupby(['end_station_id','end_station_name']).max().index\n",
    "\n",
    "both_station_tuples = set(list(start_station_tuples) + list(end_station_tuples))"
   ],
   "metadata": {
    "collapsed": false,
    "pycharm": {
     "name": "#%%\n"
    }
   }
  },
  {
   "cell_type": "markdown",
   "source": [
    "Add Philadelphia to the list to make it more specific for Google"
   ],
   "metadata": {
    "collapsed": false,
    "pycharm": {
     "name": "#%% md\n"
    }
   }
  },
  {
   "cell_type": "code",
   "execution_count": null,
   "outputs": [],
   "source": [
    "#Add Philadelphia to make it easier for Google\n",
    "stations = []\n",
    "\n",
    "for station in both_station_tuples:\n",
    "    station_as_list = list(station)\n",
    "    station_as_list[1] += \", Philadelphia, PA\"\n",
    "    station_as_list[0] = int(station_as_list[0])\n",
    "    stations.append(station_as_list)"
   ],
   "metadata": {
    "collapsed": false,
    "pycharm": {
     "name": "#%%\n"
    }
   }
  },
  {
   "cell_type": "markdown",
   "source": [
    "Works with API Key, but is paid with limited free tries, so I have not pushed it to GIT\n",
    "Call the GMaps API and save the datapoints to a List"
   ],
   "metadata": {
    "collapsed": false,
    "pycharm": {
     "name": "#%% md\n"
    }
   }
  },
  {
   "cell_type": "code",
   "execution_count": 64,
   "outputs": [],
   "source": [
    "fetched_stations = []\n",
    "\n",
    "gmaps = googlemaps.Client(key='api_key')\n",
    "\"\"\"\n",
    "This for loop makes an API Request for every Name, and fetches the lat and lng, and then writes it to a CSV\n",
    "\"\"\"\n",
    "for station in stations:\n",
    "    row = gmaps.geocode(station[1])\n",
    "    lat = row[0][\"geometry\"][\"location\"][\"lat\"]\n",
    "    lng = row[0][\"geometry\"][\"location\"][\"lng\"]\n",
    "    fetched_stations.append({\"lat\": lat, \"lon\": lng, \"name\": station[1], \"id\": station[0]})"
   ],
   "metadata": {
    "collapsed": false,
    "pycharm": {
     "name": "#%%\n"
    }
   }
  },
  {
   "cell_type": "markdown",
   "source": [
    "Write everything to it's own CSV"
   ],
   "metadata": {
    "collapsed": false,
    "pycharm": {
     "name": "#%% md\n"
    }
   }
  },
  {
   "cell_type": "code",
   "execution_count": 68,
   "outputs": [],
   "source": [
    "with open('../../data/stations.csv', 'w', newline=\"\") as myfile:\n",
    "    writer = csv.DictWriter(myfile, fetched_stations[0].keys())\n",
    "    writer.writeheader()\n",
    "    writer.writerows(fetched_stations)"
   ],
   "metadata": {
    "collapsed": false,
    "pycharm": {
     "name": "#%%\n"
    }
   }
  }
 ],
 "metadata": {
  "kernelspec": {
   "display_name": "Python 3",
   "language": "python",
   "name": "python3"
  },
  "language_info": {
   "codemirror_mode": {
    "name": "ipython",
    "version": 2
   },
   "file_extension": ".py",
   "mimetype": "text/x-python",
   "name": "python",
   "nbconvert_exporter": "python",
   "pygments_lexer": "ipython2",
   "version": "2.7.6"
  }
 },
 "nbformat": 4,
 "nbformat_minor": 0
}