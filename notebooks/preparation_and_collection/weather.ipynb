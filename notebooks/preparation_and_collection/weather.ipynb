{
 "cells": [
  {
   "cell_type": "code",
   "execution_count": 43,
   "outputs": [],
   "source": [
    "import pandas as pd\n",
    "import fastparquet"
   ],
   "metadata": {
    "collapsed": false,
    "pycharm": {
     "name": "#%%\n"
    }
   }
  },
  {
   "cell_type": "code",
   "execution_count": 44,
   "outputs": [],
   "source": [
    "df_weather = pd.read_csv('../../data/weather_hourly_philadelphia.csv')"
   ],
   "metadata": {
    "collapsed": false,
    "pycharm": {
     "name": "#%%\n"
    }
   }
  },
  {
   "cell_type": "code",
   "execution_count": 45,
   "outputs": [
    {
     "data": {
      "text/plain": "date_time    63\nmax_temp     63\nmin_temp     63\nprecip       63\ndtype: int64"
     },
     "execution_count": 45,
     "metadata": {},
     "output_type": "execute_result"
    }
   ],
   "source": [
    "df_weather.isna().sum()"
   ],
   "metadata": {
    "collapsed": false,
    "pycharm": {
     "name": "#%%\n"
    }
   }
  },
  {
   "cell_type": "code",
   "execution_count": 46,
   "outputs": [],
   "source": [
    "df_weather = df_weather[df_weather['date_time'].notna()]"
   ],
   "metadata": {
    "collapsed": false,
    "pycharm": {
     "name": "#%%\n"
    }
   }
  },
  {
   "cell_type": "code",
   "execution_count": 47,
   "outputs": [
    {
     "data": {
      "text/plain": "date_time    0\nmax_temp     0\nmin_temp     0\nprecip       0\ndtype: int64"
     },
     "execution_count": 47,
     "metadata": {},
     "output_type": "execute_result"
    }
   ],
   "source": [
    "df_weather.isna().sum()"
   ],
   "metadata": {
    "collapsed": false,
    "pycharm": {
     "name": "#%%\n"
    }
   }
  },
  {
   "cell_type": "code",
   "execution_count": 48,
   "outputs": [],
   "source": [
    "df_weather['date_time'] = pd.to_datetime(df_weather['date_time'])"
   ],
   "metadata": {
    "collapsed": false,
    "pycharm": {
     "name": "#%%\n"
    }
   }
  },
  {
   "cell_type": "code",
   "execution_count": 49,
   "outputs": [
    {
     "name": "stdout",
     "output_type": "stream",
     "text": [
      "Earliest observation: 01.01.2015 06:00:00\n",
      "Latest observation: 02.01.2020 05:00:00\n"
     ]
    }
   ],
   "source": [
    "datetime_format = '%d.%m.%Y %H:%M:%S'\n",
    "print(f\"Earliest observation: {format(df_weather['date_time'].min(), datetime_format)}\")\n",
    "print(f\"Latest observation: {format(df_weather['date_time'].max(), datetime_format)}\")"
   ],
   "metadata": {
    "collapsed": false,
    "pycharm": {
     "name": "#%%\n"
    }
   }
  },
  {
   "cell_type": "code",
   "execution_count": 50,
   "outputs": [],
   "source": [
    "df_weather = df_weather[\n",
    "    (df_weather[\"date_time\"] >= \"2016-01-01 00:00:00\")\n",
    "    & (df_weather[\"date_time\"] <= \"2016-12-31 23:59:59\")\n",
    "    ]"
   ],
   "metadata": {
    "collapsed": false,
    "pycharm": {
     "name": "#%%\n"
    }
   }
  },
  {
   "cell_type": "code",
   "execution_count": 51,
   "outputs": [
    {
     "data": {
      "text/plain": "               date_time  max_temp  min_temp  precip\n8906 2016-01-08 02:00:00       4.4       3.3     0.0\n8917 2016-01-07 13:00:00       2.2       1.1     0.0\n8919 2016-01-07 15:00:00       4.4       3.9     0.0\n8923 2016-01-07 19:00:00       7.2       7.2     0.0\n8925 2016-01-07 21:00:00       7.2       6.7     0.0",
      "text/html": "<div>\n<style scoped>\n    .dataframe tbody tr th:only-of-type {\n        vertical-align: middle;\n    }\n\n    .dataframe tbody tr th {\n        vertical-align: top;\n    }\n\n    .dataframe thead th {\n        text-align: right;\n    }\n</style>\n<table border=\"1\" class=\"dataframe\">\n  <thead>\n    <tr style=\"text-align: right;\">\n      <th></th>\n      <th>date_time</th>\n      <th>max_temp</th>\n      <th>min_temp</th>\n      <th>precip</th>\n    </tr>\n  </thead>\n  <tbody>\n    <tr>\n      <th>8906</th>\n      <td>2016-01-08 02:00:00</td>\n      <td>4.4</td>\n      <td>3.3</td>\n      <td>0.0</td>\n    </tr>\n    <tr>\n      <th>8917</th>\n      <td>2016-01-07 13:00:00</td>\n      <td>2.2</td>\n      <td>1.1</td>\n      <td>0.0</td>\n    </tr>\n    <tr>\n      <th>8919</th>\n      <td>2016-01-07 15:00:00</td>\n      <td>4.4</td>\n      <td>3.9</td>\n      <td>0.0</td>\n    </tr>\n    <tr>\n      <th>8923</th>\n      <td>2016-01-07 19:00:00</td>\n      <td>7.2</td>\n      <td>7.2</td>\n      <td>0.0</td>\n    </tr>\n    <tr>\n      <th>8925</th>\n      <td>2016-01-07 21:00:00</td>\n      <td>7.2</td>\n      <td>6.7</td>\n      <td>0.0</td>\n    </tr>\n  </tbody>\n</table>\n</div>"
     },
     "execution_count": 51,
     "metadata": {},
     "output_type": "execute_result"
    }
   ],
   "source": [
    "# check whether there are duplicate entries\n",
    "df_weather[df_weather.duplicated('date_time') ].sort_index().head()"
   ],
   "metadata": {
    "collapsed": false,
    "pycharm": {
     "name": "#%%\n"
    }
   }
  },
  {
   "cell_type": "code",
   "execution_count": 52,
   "outputs": [],
   "source": [
    "df_weather = df_weather.groupby('date_time').agg({'max_temp': 'mean', 'min_temp': 'mean', 'precip': 'max'})"
   ],
   "metadata": {
    "collapsed": false,
    "pycharm": {
     "name": "#%%\n"
    }
   }
  },
  {
   "cell_type": "code",
   "execution_count": 53,
   "outputs": [],
   "source": [
    "df_weather.to_parquet(\"../../data/weather_hourly_philadelphia_cleaned.parquet\")"
   ],
   "metadata": {
    "collapsed": false,
    "pycharm": {
     "name": "#%%\n"
    }
   }
  },
  {
   "cell_type": "code",
   "execution_count": 53,
   "outputs": [],
   "source": [],
   "metadata": {
    "collapsed": false,
    "pycharm": {
     "name": "#%%\n"
    }
   }
  }
 ],
 "metadata": {
  "kernelspec": {
   "display_name": "Python 3",
   "language": "python",
   "name": "python3"
  },
  "language_info": {
   "codemirror_mode": {
    "name": "ipython",
    "version": 2
   },
   "file_extension": ".py",
   "mimetype": "text/x-python",
   "name": "python",
   "nbconvert_exporter": "python",
   "pygments_lexer": "ipython2",
   "version": "2.7.6"
  }
 },
 "nbformat": 4,
 "nbformat_minor": 0
}