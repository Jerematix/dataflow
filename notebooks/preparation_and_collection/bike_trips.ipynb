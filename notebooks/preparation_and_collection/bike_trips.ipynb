{
 "cells": [
  {
   "cell_type": "code",
   "execution_count": 40,
   "metadata": {
    "pycharm": {
     "name": "#%%\n"
    }
   },
   "outputs": [],
   "source": [
    "import pandas as pd\n",
    "import numpy as np\n",
    "import fastparquet\n",
    "import geopandas as gpd\n",
    "from shapely.geometry import Point"
   ]
  },
  {
   "cell_type": "code",
   "execution_count": 41,
   "metadata": {
    "pycharm": {
     "name": "#%%\n"
    }
   },
   "outputs": [],
   "source": [
    "df_raw = pd.read_csv(\"../../data/philadelphia_2016.csv\")"
   ]
  },
  {
   "cell_type": "code",
   "execution_count": 42,
   "metadata": {
    "pycharm": {
     "name": "#%%\n"
    }
   },
   "outputs": [
    {
     "name": "stdout",
     "output_type": "stream",
     "text": [
      "<class 'pandas.core.frame.DataFrame'>\n",
      "RangeIndex: 655058 entries, 0 to 655057\n",
      "Data columns (total 8 columns):\n",
      " #   Column              Non-Null Count   Dtype  \n",
      "---  ------              --------------   -----  \n",
      " 0   start_time          655058 non-null  object \n",
      " 1   end_time            655058 non-null  object \n",
      " 2   start_station_id    655048 non-null  float64\n",
      " 3   end_station_id      655058 non-null  int64  \n",
      " 4   bike_id             655058 non-null  int64  \n",
      " 5   user_type           655058 non-null  object \n",
      " 6   end_station_name    655058 non-null  object \n",
      " 7   start_station_name  655048 non-null  object \n",
      "dtypes: float64(1), int64(2), object(5)\n",
      "memory usage: 40.0+ MB\n"
     ]
    }
   ],
   "source": [
    "df_raw.info()"
   ]
  },
  {
   "cell_type": "markdown",
   "metadata": {
    "pycharm": {
     "name": "#%% md\n"
    }
   },
   "source": [
    "You can see from the df_raw.info(), that for start and end station id and name there are 10 missing rows, otherwise there aren't any, in addition the that start_station_id is a float when in reality it should be int, due to having no decimal place.\n",
    "Also the times are not formatted in the proper datetime format."
   ]
  },
  {
   "cell_type": "code",
   "execution_count": 43,
   "metadata": {
    "pycharm": {
     "name": "#%%\n"
    }
   },
   "outputs": [],
   "source": [
    "#Only take the rows that are not na in name or id\n",
    "df = df_raw[df_raw['start_station_id'].notna() & df_raw['start_station_name'].notna()].copy()\n",
    "df['start_station_id'] = df['start_station_id'].astype('int64')\n",
    "\n",
    "#Format to Datetime\n",
    "df['start_time'] = pd.to_datetime(df['start_time'])\n",
    "df['end_time'] = pd.to_datetime(df['end_time'])"
   ]
  },
  {
   "cell_type": "code",
   "execution_count": 44,
   "metadata": {
    "pycharm": {
     "name": "#%%\n"
    }
   },
   "outputs": [
    {
     "name": "stdout",
     "output_type": "stream",
     "text": [
      "<class 'pandas.core.frame.DataFrame'>\n",
      "Int64Index: 655048 entries, 0 to 655057\n",
      "Data columns (total 8 columns):\n",
      " #   Column              Non-Null Count   Dtype         \n",
      "---  ------              --------------   -----         \n",
      " 0   start_time          655048 non-null  datetime64[ns]\n",
      " 1   end_time            655048 non-null  datetime64[ns]\n",
      " 2   start_station_id    655048 non-null  int64         \n",
      " 3   end_station_id      655048 non-null  int64         \n",
      " 4   bike_id             655048 non-null  int64         \n",
      " 5   user_type           655048 non-null  object        \n",
      " 6   end_station_name    655048 non-null  object        \n",
      " 7   start_station_name  655048 non-null  object        \n",
      "dtypes: datetime64[ns](2), int64(3), object(3)\n",
      "memory usage: 45.0+ MB\n"
     ]
    }
   ],
   "source": [
    "df.info()"
   ]
  },
  {
   "cell_type": "markdown",
   "metadata": {
    "pycharm": {
     "name": "#%% md\n"
    }
   },
   "source": [
    "You can see now, that there are no null values and everything is formatted correctly"
   ]
  },
  {
   "cell_type": "code",
   "execution_count": 45,
   "metadata": {
    "pycharm": {
     "name": "#%%# add new column duration and determine its minimum and maximum values\n"
    }
   },
   "outputs": [
    {
     "name": "stdout",
     "output_type": "stream",
     "text": [
      "Shortest: -1 days +23:04:00\n",
      "Longest: 19 days 00:59:00\n"
     ]
    }
   ],
   "source": [
    "df['duration'] = (df['end_time'] - df['start_time'])\n",
    "\n",
    "print(f\"Shortest: {df['duration'].min()}\")\n",
    "print(f\"Longest: {df['duration'].max()}\")"
   ]
  },
  {
   "cell_type": "code",
   "execution_count": 46,
   "metadata": {
    "pycharm": {
     "name": "#%%\n"
    }
   },
   "outputs": [],
   "source": [
    "#Remove all the invalid times\n",
    "df = df[(df['duration'] <= pd.Timedelta(\"1d\")) & (df['duration'] >= pd.Timedelta(\"1m\")) | ((df['duration'] <= pd.Timedelta(\"5m\")) & (df['start_station_id'] == df['end_station_id']))]\n",
    "#Also Remove Station 3000 Called \"Virtual Station\" supposedly for Test Trips\n",
    "df = df[(df['start_station_id'] != 3000) & (df['end_station_id'] != 3000)]"
   ]
  },
  {
   "cell_type": "code",
   "execution_count": 47,
   "metadata": {
    "pycharm": {
     "name": "#%%\n"
    }
   },
   "outputs": [
    {
     "data": {
      "text/plain": [
       "array(['Indego30', 'Walk-up', 'IndegoFlex'], dtype=object)"
      ]
     },
     "execution_count": 47,
     "metadata": {},
     "output_type": "execute_result"
    }
   ],
   "source": [
    "#Look at different Types\n",
    "df['user_type'].unique()"
   ]
  },
  {
   "cell_type": "code",
   "execution_count": 48,
   "metadata": {
    "pycharm": {
     "name": "#%%\n"
    }
   },
   "outputs": [],
   "source": [
    "df_stations = pd.read_parquet('../../data/stations.parquet')\n",
    "del df_stations['name']"
   ]
  },
  {
   "cell_type": "markdown",
   "metadata": {
    "pycharm": {
     "name": "#%% md\n"
    }
   },
   "source": [
    "Merge Station data into the dataframe"
   ]
  },
  {
   "cell_type": "code",
   "execution_count": 49,
   "metadata": {
    "pycharm": {
     "name": "#%%\n"
    }
   },
   "outputs": [],
   "source": [
    "df = df.merge(df_stations, left_on='start_station_id', right_on='id')\n",
    "del df['id']\n",
    "df['start_lat'] = df['lat']\n",
    "del df['lat']\n",
    "df['start_lon'] = df['lon']\n",
    "del df['lon']\n",
    "\n",
    "df = df.merge(df_stations, left_on='end_station_id', right_on='id')\n",
    "del df['id']\n",
    "df['end_lat'] = df['lat']\n",
    "del df['lat']\n",
    "df['end_lon'] = df['lon']\n",
    "del df['lon']\n"
   ]
  },
  {
   "cell_type": "markdown",
   "metadata": {
    "pycharm": {
     "name": "#%% md\n"
    }
   },
   "source": [
    "Use Haversine function to calculate dist, between two GPS points"
   ]
  },
  {
   "cell_type": "code",
   "execution_count": 50,
   "metadata": {
    "pycharm": {
     "name": "#%%\n"
    }
   },
   "outputs": [],
   "source": [
    "# https://stackoverflow.com/questions/4913349/haversine-formula-in-python-bearing-and-distance-between-two-gps-points\n",
    "def haversine(lon1, lat1, lon2, lat2):\n",
    "    lon1, lat1, lon2, lat2 = map(np.radians, [lon1, lat1, lon2, lat2])\n",
    "\n",
    "    dlon = lon2 - lon1\n",
    "    dlat = lat2 - lat1\n",
    "\n",
    "    a = np.sin(dlat/2.0)**2 + np.cos(lat1) * np.cos(lat2) * np.sin(dlon/2.0)**2\n",
    "\n",
    "    c = 2 * np.arcsin(np.sqrt(a))\n",
    "    km = 6367 * c\n",
    "    return km"
   ]
  },
  {
   "cell_type": "code",
   "execution_count": 51,
   "metadata": {
    "pycharm": {
     "name": "#%%\n"
    }
   },
   "outputs": [
    {
     "name": "stdout",
     "output_type": "stream",
     "text": [
      "Smallest distance: 0.0 km\n",
      "Greatest distance: 15.114165029636501 km\n"
     ]
    }
   ],
   "source": [
    "df[\"distance\"] = haversine(\n",
    "    df[\"start_lat\"],\n",
    "    df[\"start_lon\"],\n",
    "    df[\"end_lat\"],\n",
    "    df[\"end_lon\"],\n",
    ")\n",
    "\n",
    "print(f\"Smallest distance: {df['distance'].min()} km\")\n",
    "print(f\"Greatest distance: {df['distance'].max()} km\")"
   ]
  },
  {
   "cell_type": "markdown",
   "metadata": {
    "pycharm": {
     "name": "#%% md\n"
    }
   },
   "source": [
    "Calculate Speed to filter out unrealistic values. The maximum allowed speed of an ebike in the US is 20 mph, assuming the person has done no stops and as we are calculating the airline, these trips are almost certain to be faulty"
   ]
  },
  {
   "cell_type": "code",
   "execution_count": 52,
   "metadata": {
    "pycharm": {
     "name": "#%%\n"
    }
   },
   "outputs": [],
   "source": [
    "df[\"speed\"] = df[\"distance\"] / df[\"duration\"].apply(\n",
    "    lambda duration: duration.total_seconds() / (60 * 60)\n",
    ")\n",
    "\n",
    "max_allowed_kmh = 20 * 1.60934 # 20mp/h in km/h\n",
    "\n",
    "df = df[df['speed'] < max_allowed_kmh]"
   ]
  },
  {
   "cell_type": "markdown",
   "metadata": {
    "pycharm": {
     "name": "#%% md\n"
    }
   },
   "source": [
    "Calculate the \"average timepoint\" of every ride, this is a simplification to not have to juggle start and end time all the time"
   ]
  },
  {
   "cell_type": "code",
   "execution_count": 53,
   "metadata": {
    "pycharm": {
     "name": "#%%\n"
    }
   },
   "outputs": [],
   "source": [
    "df['average_time'] = df['end_time'] - (df['duration'] / 2)"
   ]
  },
  {
   "cell_type": "markdown",
   "metadata": {
    "pycharm": {
     "name": "#%% md\n"
    }
   },
   "source": [
    "Because there are weather datapoints missing, merge to the nearest, with pd.merge_asof"
   ]
  },
  {
   "cell_type": "code",
   "execution_count": 54,
   "metadata": {
    "pycharm": {
     "name": "#%%\n"
    }
   },
   "outputs": [],
   "source": [
    "df_weather = pd.read_parquet(\"../../data/weather_hourly_philadelphia_cleaned.parquet\")\n",
    "\n",
    "df_weather= df_weather.reset_index()\n",
    "df_weather.head()\n",
    "\n",
    "df = df.sort_values('average_time')\n",
    "df_weather_and_trips = pd.merge_asof(df, df_weather, left_on='average_time', right_on='date_time', direction='nearest')\n",
    "del df['average_time']\n",
    "df_weather_and_trips.to_parquet('../../data/bike_trips_cleaned.parquet')"
   ]
  },
  {
   "cell_type": "code",
   "execution_count": 55,
   "metadata": {},
   "outputs": [],
   "source": [
    "## Neighborhood Feature"
   ]
  },
  {
   "cell_type": "code",
   "execution_count": 56,
   "metadata": {},
   "outputs": [
    {
     "data": {
      "text/html": [
       "<div>\n",
       "<style scoped>\n",
       "    .dataframe tbody tr th:only-of-type {\n",
       "        vertical-align: middle;\n",
       "    }\n",
       "\n",
       "    .dataframe tbody tr th {\n",
       "        vertical-align: top;\n",
       "    }\n",
       "\n",
       "    .dataframe thead th {\n",
       "        text-align: right;\n",
       "    }\n",
       "</style>\n",
       "<table border=\"1\" class=\"dataframe\">\n",
       "  <thead>\n",
       "    <tr style=\"text-align: right;\">\n",
       "      <th></th>\n",
       "      <th>start_time</th>\n",
       "      <th>end_time</th>\n",
       "      <th>start_station_id</th>\n",
       "      <th>end_station_id</th>\n",
       "      <th>bike_id</th>\n",
       "      <th>user_type</th>\n",
       "      <th>end_station_name</th>\n",
       "      <th>start_station_name</th>\n",
       "      <th>duration</th>\n",
       "      <th>start_lat</th>\n",
       "      <th>start_lon</th>\n",
       "      <th>end_lat</th>\n",
       "      <th>end_lon</th>\n",
       "      <th>distance</th>\n",
       "      <th>speed</th>\n",
       "      <th>average_time</th>\n",
       "      <th>date_time</th>\n",
       "      <th>max_temp</th>\n",
       "      <th>min_temp</th>\n",
       "      <th>precip</th>\n",
       "    </tr>\n",
       "  </thead>\n",
       "  <tbody>\n",
       "    <tr>\n",
       "      <th>0</th>\n",
       "      <td>2016-01-01 00:04:00</td>\n",
       "      <td>2016-01-01 00:14:00</td>\n",
       "      <td>3046</td>\n",
       "      <td>3041</td>\n",
       "      <td>3564</td>\n",
       "      <td>Indego30</td>\n",
       "      <td>Girard Station, MFL</td>\n",
       "      <td>2nd &amp; Market</td>\n",
       "      <td>0 days 00:10:00</td>\n",
       "      <td>39.949895</td>\n",
       "      <td>-75.143749</td>\n",
       "      <td>39.969241</td>\n",
       "      <td>-75.136180</td>\n",
       "      <td>1.005648</td>\n",
       "      <td>6.033888</td>\n",
       "      <td>2016-01-01 00:09:00</td>\n",
       "      <td>2016-01-01 00:00:00</td>\n",
       "      <td>6.7</td>\n",
       "      <td>6.7</td>\n",
       "      <td>0.0</td>\n",
       "    </tr>\n",
       "    <tr>\n",
       "      <th>1</th>\n",
       "      <td>2016-01-01 00:07:00</td>\n",
       "      <td>2016-01-01 00:29:00</td>\n",
       "      <td>3028</td>\n",
       "      <td>3019</td>\n",
       "      <td>2629</td>\n",
       "      <td>Indego30</td>\n",
       "      <td>6th &amp; Race</td>\n",
       "      <td>4th &amp; Bainbridge</td>\n",
       "      <td>0 days 00:22:00</td>\n",
       "      <td>39.940735</td>\n",
       "      <td>-75.149370</td>\n",
       "      <td>39.954694</td>\n",
       "      <td>-75.149496</td>\n",
       "      <td>0.397798</td>\n",
       "      <td>1.084905</td>\n",
       "      <td>2016-01-01 00:18:00</td>\n",
       "      <td>2016-01-01 00:00:00</td>\n",
       "      <td>6.7</td>\n",
       "      <td>6.7</td>\n",
       "      <td>0.0</td>\n",
       "    </tr>\n",
       "    <tr>\n",
       "      <th>2</th>\n",
       "      <td>2016-01-01 00:14:00</td>\n",
       "      <td>2016-01-01 00:27:00</td>\n",
       "      <td>3007</td>\n",
       "      <td>3066</td>\n",
       "      <td>3430</td>\n",
       "      <td>Indego30</td>\n",
       "      <td>19th &amp; Lombard</td>\n",
       "      <td>11th &amp; Pine, Kahn Park</td>\n",
       "      <td>0 days 00:13:00</td>\n",
       "      <td>39.945123</td>\n",
       "      <td>-75.159952</td>\n",
       "      <td>39.945664</td>\n",
       "      <td>-75.173272</td>\n",
       "      <td>1.480278</td>\n",
       "      <td>6.832050</td>\n",
       "      <td>2016-01-01 00:20:30</td>\n",
       "      <td>2016-01-01 00:00:00</td>\n",
       "      <td>6.7</td>\n",
       "      <td>6.7</td>\n",
       "      <td>0.0</td>\n",
       "    </tr>\n",
       "    <tr>\n",
       "      <th>3</th>\n",
       "      <td>2016-01-01 00:20:00</td>\n",
       "      <td>2016-01-01 00:30:00</td>\n",
       "      <td>3045</td>\n",
       "      <td>3028</td>\n",
       "      <td>3715</td>\n",
       "      <td>Indego30</td>\n",
       "      <td>4th &amp; Bainbridge</td>\n",
       "      <td>13th &amp; Locust</td>\n",
       "      <td>0 days 00:10:00</td>\n",
       "      <td>39.947947</td>\n",
       "      <td>-75.162361</td>\n",
       "      <td>39.940735</td>\n",
       "      <td>-75.149370</td>\n",
       "      <td>1.458133</td>\n",
       "      <td>8.748797</td>\n",
       "      <td>2016-01-01 00:25:00</td>\n",
       "      <td>2016-01-01 00:00:00</td>\n",
       "      <td>6.7</td>\n",
       "      <td>6.7</td>\n",
       "      <td>0.0</td>\n",
       "    </tr>\n",
       "    <tr>\n",
       "      <th>4</th>\n",
       "      <td>2016-01-01 00:20:00</td>\n",
       "      <td>2016-01-01 00:42:00</td>\n",
       "      <td>3005</td>\n",
       "      <td>3064</td>\n",
       "      <td>3351</td>\n",
       "      <td>Walk-up</td>\n",
       "      <td>18th &amp; Washington, Chew Playground</td>\n",
       "      <td>Welcome Park, NPS</td>\n",
       "      <td>0 days 00:22:00</td>\n",
       "      <td>39.947383</td>\n",
       "      <td>-75.144145</td>\n",
       "      <td>39.938280</td>\n",
       "      <td>-75.173873</td>\n",
       "      <td>3.313616</td>\n",
       "      <td>9.037136</td>\n",
       "      <td>2016-01-01 00:31:00</td>\n",
       "      <td>2016-01-01 01:00:00</td>\n",
       "      <td>7.2</td>\n",
       "      <td>7.2</td>\n",
       "      <td>0.0</td>\n",
       "    </tr>\n",
       "  </tbody>\n",
       "</table>\n",
       "</div>"
      ],
      "text/plain": [
       "           start_time            end_time  start_station_id  end_station_id  \\\n",
       "0 2016-01-01 00:04:00 2016-01-01 00:14:00              3046            3041   \n",
       "1 2016-01-01 00:07:00 2016-01-01 00:29:00              3028            3019   \n",
       "2 2016-01-01 00:14:00 2016-01-01 00:27:00              3007            3066   \n",
       "3 2016-01-01 00:20:00 2016-01-01 00:30:00              3045            3028   \n",
       "4 2016-01-01 00:20:00 2016-01-01 00:42:00              3005            3064   \n",
       "\n",
       "   bike_id user_type                    end_station_name  \\\n",
       "0     3564  Indego30                 Girard Station, MFL   \n",
       "1     2629  Indego30                          6th & Race   \n",
       "2     3430  Indego30                      19th & Lombard   \n",
       "3     3715  Indego30                    4th & Bainbridge   \n",
       "4     3351   Walk-up  18th & Washington, Chew Playground   \n",
       "\n",
       "       start_station_name        duration  start_lat  start_lon    end_lat  \\\n",
       "0            2nd & Market 0 days 00:10:00  39.949895 -75.143749  39.969241   \n",
       "1        4th & Bainbridge 0 days 00:22:00  39.940735 -75.149370  39.954694   \n",
       "2  11th & Pine, Kahn Park 0 days 00:13:00  39.945123 -75.159952  39.945664   \n",
       "3           13th & Locust 0 days 00:10:00  39.947947 -75.162361  39.940735   \n",
       "4       Welcome Park, NPS 0 days 00:22:00  39.947383 -75.144145  39.938280   \n",
       "\n",
       "     end_lon  distance     speed        average_time           date_time  \\\n",
       "0 -75.136180  1.005648  6.033888 2016-01-01 00:09:00 2016-01-01 00:00:00   \n",
       "1 -75.149496  0.397798  1.084905 2016-01-01 00:18:00 2016-01-01 00:00:00   \n",
       "2 -75.173272  1.480278  6.832050 2016-01-01 00:20:30 2016-01-01 00:00:00   \n",
       "3 -75.149370  1.458133  8.748797 2016-01-01 00:25:00 2016-01-01 00:00:00   \n",
       "4 -75.173873  3.313616  9.037136 2016-01-01 00:31:00 2016-01-01 01:00:00   \n",
       "\n",
       "   max_temp  min_temp  precip  \n",
       "0       6.7       6.7     0.0  \n",
       "1       6.7       6.7     0.0  \n",
       "2       6.7       6.7     0.0  \n",
       "3       6.7       6.7     0.0  \n",
       "4       7.2       7.2     0.0  "
      ]
     },
     "execution_count": 56,
     "metadata": {},
     "output_type": "execute_result"
    }
   ],
   "source": [
    "df_bike_trips = df_weather_and_trips\n",
    "df_bike_trips.head()"
   ]
  },
  {
   "cell_type": "code",
   "execution_count": 57,
   "metadata": {},
   "outputs": [],
   "source": [
    "# von github? find source\n",
    "neighborhoods= gpd.read_file('../../data/Neighborhoods_Philadelphia.geojson')\n"
   ]
  },
  {
   "cell_type": "code",
   "execution_count": 58,
   "metadata": {},
   "outputs": [],
   "source": [
    "neighborhoods = neighborhoods.reset_index()"
   ]
  },
  {
   "cell_type": "code",
   "execution_count": 59,
   "metadata": {},
   "outputs": [
    {
     "name": "stdout",
     "output_type": "stream",
     "text": [
      "{'Pennypack Park': 0, 'Overbrook': 1, 'Germantown, Southwest': 2, 'East Parkside': 3, 'Germany Hill': 4, 'Mount Airy, East': 5, 'Mechanicsville': 6, 'Dearnley Park': 7, 'Wissahickon Hills': 8, 'Wissinoming': 9, 'Bella Vista': 10, 'Allegheny West': 11, 'Glenwood': 12, 'Greenwich': 13, 'Francisville': 14, 'Penrose': 15, 'Powelton': 16, 'Garden Court': 17, 'Belmont': 18, 'Normandy Village': 19, 'Pennsport': 20, 'Stanton': 21, 'West Oak Lane': 22, 'Winchester Park': 23, 'Burholme': 24, 'Fern Rock': 25, 'Dunlap': 26, 'Melrose Park Gardens': 27, 'Franklinville': 28, 'Hawthorne': 29, 'Bartram Village': 30, 'East Poplar': 31, 'Bustleton': 32, 'Cedarbrook': 33, 'Ludlow': 34, 'Bridesburg': 35, 'East Falls': 36, 'North Central': 37, 'Port Richmond': 38, 'Grays Ferry': 39, 'Frankford': 40, 'Chestnut Hill': 41, 'Olney': 42, 'Mount Airy, West': 43, 'Somerton': 44, 'Mantua': 45, 'Northeast Phila Airport': 46, 'Modena': 47, 'Roxborough Park': 48, 'Wissahickon Park': 49, 'Morrell Park': 50, 'Riverfront': 51, 'Pennypack': 52, 'Byberry': 53, 'West Torresdale': 54, 'Yorktown': 55, 'Parkwood Manor': 56, 'Aston-Woodbridge': 57, 'Franklin Mills': 58, 'Pennypack Woods': 59, 'Millbrook': 60, 'Crestmont Farms': 61, 'Academy Gardens': 62, 'Torresdale': 63, 'Lexington Park': 64, 'Rhawnhurst': 65, 'Fox Chase': 66, 'Oxford Circle': 67, 'Summerdale': 68, 'Crescentville': 69, 'Lawndale': 70, 'Sharswood': 71, 'Passyunk Square': 72, 'Northwood': 73, 'Holmesburg': 74, 'Mayfair': 75, 'Tacony': 76, 'Hartranft': 77, 'Andorra': 78, 'Manayunk': 79, 'Upper Roxborough': 80, 'Roxborough': 81, 'Nicetown': 82, 'Wissahickon': 83, 'Dickinson Narrows': 84, 'Germantown, East': 85, 'Germantown, Morton': 86, 'Kensington, Old': 87, 'Germantown, West Central': 88, 'Germantown, Penn Knox': 89, 'Germantown, Westside': 90, 'Ogontz': 91, 'Wister': 92, 'Tioga': 93, 'East Oak Lane': 94, 'Feltonville': 95, 'Fairhill': 96, 'Richmond': 97, 'Hunting Park': 98, 'Juniata Park': 99, 'Brewerytown': 100, 'Harrowgate': 101, 'Upper Kensington': 102, 'McGuire': 103, 'Kensington, West': 104, 'Fishtown - Lower Kensington': 105, 'Northern Liberties': 106, 'Logan': 107, 'Society Hill': 108, 'Old City': 109, 'Chinatown': 110, 'Center City East': 111, 'Washington Square West': 112, 'Fairmount': 113, 'Spring Garden': 114, 'Logan Square': 115, 'Rittenhouse': 116, 'Fitler Square': 117, 'Graduate Hospital': 118, 'Point Breeze': 119, 'Queen Village': 120, 'Lower Moyamensing': 121, 'Whitman': 122, 'Industrial': 123, 'Southwest Schuylkill': 124, 'Clearview': 125, 'West Parkside': 126, 'Mill Creek': 127, 'Airport': 128, 'Paschall': 129, 'Spruce Hill': 130, 'West Powelton': 131, 'Kingsessing': 132, 'University City': 133, 'Haddington': 134, 'Carroll Park': 135, 'Haverford North': 136, 'Wynnefield Heights': 137, 'Cobbs Creek': 138, 'Walnut Hill': 139, 'Cedar Park': 140, 'Woodland Terrace': 141, 'Callowhill': 142, 'West Poplar': 143, 'Strawberry Mansion': 144, 'Packer Park': 145, 'East Park': 146, 'Wynnefield': 147, 'West Passyunk': 148, 'East Passyunk': 149, 'Newbold': 150, 'West Park': 151, 'Stadium District': 152, 'Navy Yard': 153, 'East Kensington': 154, 'Elmwood': 155, 'Girard Estates': 156, 'Eastwick': 157, 'None': 158}\n",
      "Stored 'neighborhood_map' (dict)\n"
     ]
    }
   ],
   "source": [
    "# create an empty dictionary to store the mapping\n",
    "neighborhood_map = {}\n",
    "\n",
    "\n",
    "# iterate over the rows of the DataFrame\n",
    "for index, row in neighborhoods.iterrows():\n",
    "    neighborhood_index = row['index']\n",
    "    neighborhood_name = row['listname']\n",
    "    # add the mapping to the dictionary\n",
    "    neighborhood_map[neighborhood_name] = neighborhood_index\n",
    "\n",
    "neighborhood_map[\"None\"]=158\n",
    "print(neighborhood_map)\n",
    "%store neighborhood_map"
   ]
  },
  {
   "cell_type": "code",
   "execution_count": 60,
   "metadata": {},
   "outputs": [
    {
     "name": "stderr",
     "output_type": "stream",
     "text": [
      "C:\\Users\\novem\\anaconda3\\lib\\site-packages\\pandas\\core\\dtypes\\cast.py:122: ShapelyDeprecationWarning: The array interface is deprecated and will no longer work in Shapely 2.0. Convert the '.coords' to a numpy array instead.\n",
      "  arr = construct_1d_object_array_from_listlike(values)\n"
     ]
    }
   ],
   "source": [
    "# add columns for geojson \n",
    "df_bike_trips['start_geometry'] = df_bike_trips.apply(lambda row: Point(np.array([row['start_lon'], row['start_lat']])), axis=1)\n",
    "# df_bike_trips['end_geometry'] = df_bike_trips.apply(lambda row: Point(np.array([row['end_lon'], row['end_lat']])), axis=1)"
   ]
  },
  {
   "cell_type": "code",
   "execution_count": 61,
   "metadata": {},
   "outputs": [
    {
     "name": "stdout",
     "output_type": "stream",
     "text": [
      "epsg:4326\n",
      "epsg:4326\n"
     ]
    }
   ],
   "source": [
    "# adjust crs of df_bike_trips to prepare for merge\n",
    "gdf = gpd.GeoDataFrame(df_bike_trips, geometry='start_geometry')\n",
    "gdf.crs = 'epsg:4326'\n",
    "print(neighborhoods.crs)\n",
    "print(gdf.crs)"
   ]
  },
  {
   "cell_type": "code",
   "execution_count": 62,
   "metadata": {},
   "outputs": [],
   "source": [
    "merged = gpd.sjoin(gdf, neighborhoods, op='within')"
   ]
  },
  {
   "cell_type": "code",
   "execution_count": 63,
   "metadata": {},
   "outputs": [
    {
     "data": {
      "text/html": [
       "<div>\n",
       "<style scoped>\n",
       "    .dataframe tbody tr th:only-of-type {\n",
       "        vertical-align: middle;\n",
       "    }\n",
       "\n",
       "    .dataframe tbody tr th {\n",
       "        vertical-align: top;\n",
       "    }\n",
       "\n",
       "    .dataframe thead th {\n",
       "        text-align: right;\n",
       "    }\n",
       "</style>\n",
       "<table border=\"1\" class=\"dataframe\">\n",
       "  <thead>\n",
       "    <tr style=\"text-align: right;\">\n",
       "      <th></th>\n",
       "      <th>start_time</th>\n",
       "      <th>end_time</th>\n",
       "      <th>start_station_id</th>\n",
       "      <th>end_station_id</th>\n",
       "      <th>bike_id</th>\n",
       "      <th>user_type</th>\n",
       "      <th>end_station_name</th>\n",
       "      <th>start_station_name</th>\n",
       "      <th>duration</th>\n",
       "      <th>start_lat</th>\n",
       "      <th>...</th>\n",
       "      <th>index_right</th>\n",
       "      <th>index</th>\n",
       "      <th>name</th>\n",
       "      <th>listname</th>\n",
       "      <th>mapname</th>\n",
       "      <th>shape_leng</th>\n",
       "      <th>shape_area</th>\n",
       "      <th>cartodb_id</th>\n",
       "      <th>created_at</th>\n",
       "      <th>updated_at</th>\n",
       "    </tr>\n",
       "  </thead>\n",
       "  <tbody>\n",
       "    <tr>\n",
       "      <th>644034</th>\n",
       "      <td>2016-12-28 09:42:00</td>\n",
       "      <td>2016-12-28 10:07:00</td>\n",
       "      <td>3117</td>\n",
       "      <td>3119</td>\n",
       "      <td>2633</td>\n",
       "      <td>Indego30</td>\n",
       "      <td>42nd &amp; Lancaster</td>\n",
       "      <td>ParkWest Town Center</td>\n",
       "      <td>0 days 00:25:00</td>\n",
       "      <td>39.978087</td>\n",
       "      <td>...</td>\n",
       "      <td>126</td>\n",
       "      <td>126</td>\n",
       "      <td>WEST_PARKSIDE</td>\n",
       "      <td>West Parkside</td>\n",
       "      <td>West Parkside</td>\n",
       "      <td>11392.249332</td>\n",
       "      <td>7.502885e+06</td>\n",
       "      <td>132</td>\n",
       "      <td>2013-03-19T17:41:50</td>\n",
       "      <td>2013-03-19T17:41:50</td>\n",
       "    </tr>\n",
       "    <tr>\n",
       "      <th>644861</th>\n",
       "      <td>2016-12-29 05:04:00</td>\n",
       "      <td>2016-12-29 05:24:00</td>\n",
       "      <td>3117</td>\n",
       "      <td>3020</td>\n",
       "      <td>2502</td>\n",
       "      <td>Indego30</td>\n",
       "      <td>University City Station</td>\n",
       "      <td>ParkWest Town Center</td>\n",
       "      <td>0 days 00:20:00</td>\n",
       "      <td>39.978087</td>\n",
       "      <td>...</td>\n",
       "      <td>126</td>\n",
       "      <td>126</td>\n",
       "      <td>WEST_PARKSIDE</td>\n",
       "      <td>West Parkside</td>\n",
       "      <td>West Parkside</td>\n",
       "      <td>11392.249332</td>\n",
       "      <td>7.502885e+06</td>\n",
       "      <td>132</td>\n",
       "      <td>2013-03-19T17:41:50</td>\n",
       "      <td>2013-03-19T17:41:50</td>\n",
       "    </tr>\n",
       "    <tr>\n",
       "      <th>645108</th>\n",
       "      <td>2016-12-29 15:29:00</td>\n",
       "      <td>2016-12-29 16:04:00</td>\n",
       "      <td>3117</td>\n",
       "      <td>3056</td>\n",
       "      <td>3279</td>\n",
       "      <td>Indego30</td>\n",
       "      <td>Broad &amp; Oxford</td>\n",
       "      <td>ParkWest Town Center</td>\n",
       "      <td>0 days 00:35:00</td>\n",
       "      <td>39.978087</td>\n",
       "      <td>...</td>\n",
       "      <td>126</td>\n",
       "      <td>126</td>\n",
       "      <td>WEST_PARKSIDE</td>\n",
       "      <td>West Parkside</td>\n",
       "      <td>West Parkside</td>\n",
       "      <td>11392.249332</td>\n",
       "      <td>7.502885e+06</td>\n",
       "      <td>132</td>\n",
       "      <td>2013-03-19T17:41:50</td>\n",
       "      <td>2013-03-19T17:41:50</td>\n",
       "    </tr>\n",
       "    <tr>\n",
       "      <th>646038</th>\n",
       "      <td>2016-12-30 15:24:00</td>\n",
       "      <td>2016-12-30 15:34:00</td>\n",
       "      <td>3117</td>\n",
       "      <td>3111</td>\n",
       "      <td>2611</td>\n",
       "      <td>Indego30</td>\n",
       "      <td>Parkside &amp; Belmont, Case Building</td>\n",
       "      <td>ParkWest Town Center</td>\n",
       "      <td>0 days 00:10:00</td>\n",
       "      <td>39.978087</td>\n",
       "      <td>...</td>\n",
       "      <td>126</td>\n",
       "      <td>126</td>\n",
       "      <td>WEST_PARKSIDE</td>\n",
       "      <td>West Parkside</td>\n",
       "      <td>West Parkside</td>\n",
       "      <td>11392.249332</td>\n",
       "      <td>7.502885e+06</td>\n",
       "      <td>132</td>\n",
       "      <td>2013-03-19T17:41:50</td>\n",
       "      <td>2013-03-19T17:41:50</td>\n",
       "    </tr>\n",
       "    <tr>\n",
       "      <th>646374</th>\n",
       "      <td>2016-12-30 22:44:00</td>\n",
       "      <td>2016-12-30 23:08:00</td>\n",
       "      <td>3117</td>\n",
       "      <td>3078</td>\n",
       "      <td>11004</td>\n",
       "      <td>Indego30</td>\n",
       "      <td>19th &amp; Market</td>\n",
       "      <td>ParkWest Town Center</td>\n",
       "      <td>0 days 00:24:00</td>\n",
       "      <td>39.978087</td>\n",
       "      <td>...</td>\n",
       "      <td>126</td>\n",
       "      <td>126</td>\n",
       "      <td>WEST_PARKSIDE</td>\n",
       "      <td>West Parkside</td>\n",
       "      <td>West Parkside</td>\n",
       "      <td>11392.249332</td>\n",
       "      <td>7.502885e+06</td>\n",
       "      <td>132</td>\n",
       "      <td>2013-03-19T17:41:50</td>\n",
       "      <td>2013-03-19T17:41:50</td>\n",
       "    </tr>\n",
       "  </tbody>\n",
       "</table>\n",
       "<p>5 rows × 31 columns</p>\n",
       "</div>"
      ],
      "text/plain": [
       "                start_time            end_time  start_station_id  \\\n",
       "644034 2016-12-28 09:42:00 2016-12-28 10:07:00              3117   \n",
       "644861 2016-12-29 05:04:00 2016-12-29 05:24:00              3117   \n",
       "645108 2016-12-29 15:29:00 2016-12-29 16:04:00              3117   \n",
       "646038 2016-12-30 15:24:00 2016-12-30 15:34:00              3117   \n",
       "646374 2016-12-30 22:44:00 2016-12-30 23:08:00              3117   \n",
       "\n",
       "        end_station_id  bike_id user_type                   end_station_name  \\\n",
       "644034            3119     2633  Indego30                   42nd & Lancaster   \n",
       "644861            3020     2502  Indego30            University City Station   \n",
       "645108            3056     3279  Indego30                     Broad & Oxford   \n",
       "646038            3111     2611  Indego30  Parkside & Belmont, Case Building   \n",
       "646374            3078    11004  Indego30                      19th & Market   \n",
       "\n",
       "          start_station_name        duration  start_lat  ...  index_right  \\\n",
       "644034  ParkWest Town Center 0 days 00:25:00  39.978087  ...          126   \n",
       "644861  ParkWest Town Center 0 days 00:20:00  39.978087  ...          126   \n",
       "645108  ParkWest Town Center 0 days 00:35:00  39.978087  ...          126   \n",
       "646038  ParkWest Town Center 0 days 00:10:00  39.978087  ...          126   \n",
       "646374  ParkWest Town Center 0 days 00:24:00  39.978087  ...          126   \n",
       "\n",
       "        index           name       listname        mapname    shape_leng  \\\n",
       "644034    126  WEST_PARKSIDE  West Parkside  West Parkside  11392.249332   \n",
       "644861    126  WEST_PARKSIDE  West Parkside  West Parkside  11392.249332   \n",
       "645108    126  WEST_PARKSIDE  West Parkside  West Parkside  11392.249332   \n",
       "646038    126  WEST_PARKSIDE  West Parkside  West Parkside  11392.249332   \n",
       "646374    126  WEST_PARKSIDE  West Parkside  West Parkside  11392.249332   \n",
       "\n",
       "          shape_area  cartodb_id           created_at           updated_at  \n",
       "644034  7.502885e+06         132  2013-03-19T17:41:50  2013-03-19T17:41:50  \n",
       "644861  7.502885e+06         132  2013-03-19T17:41:50  2013-03-19T17:41:50  \n",
       "645108  7.502885e+06         132  2013-03-19T17:41:50  2013-03-19T17:41:50  \n",
       "646038  7.502885e+06         132  2013-03-19T17:41:50  2013-03-19T17:41:50  \n",
       "646374  7.502885e+06         132  2013-03-19T17:41:50  2013-03-19T17:41:50  \n",
       "\n",
       "[5 rows x 31 columns]"
      ]
     },
     "execution_count": 63,
     "metadata": {},
     "output_type": "execute_result"
    }
   ],
   "source": [
    "merged.tail()"
   ]
  },
  {
   "cell_type": "code",
   "execution_count": 64,
   "metadata": {},
   "outputs": [],
   "source": [
    "most_common_listname = merged.groupby(df_bike_trips['start_time'].dt.floor('H'))['listname'].agg(lambda x:x.value_counts().index[0])\n",
    "# most_common_listname = merged.groupby(df_bike_trips['start_time'].dt.floor('H'))['name'].agg(lambda x:x.value_counts().index[0])"
   ]
  },
  {
   "cell_type": "code",
   "execution_count": 65,
   "metadata": {},
   "outputs": [
    {
     "name": "stdout",
     "output_type": "stream",
     "text": [
      "8534\n"
     ]
    }
   ],
   "source": [
    "print(len(most_common_listname))"
   ]
  },
  {
   "cell_type": "code",
   "execution_count": 66,
   "metadata": {},
   "outputs": [
    {
     "data": {
      "text/plain": [
       "0"
      ]
     },
     "execution_count": 66,
     "metadata": {},
     "output_type": "execute_result"
    }
   ],
   "source": [
    "# most_common_listname.head()\n",
    "most_common_listname.isna().sum()"
   ]
  },
  {
   "cell_type": "code",
   "execution_count": 67,
   "metadata": {},
   "outputs": [],
   "source": [
    "# most_common_listname.head()\n",
    "most_common_listname = most_common_listname.to_frame()\n",
    "most_common_listname.to_parquet('../../data/most_common_starting_neighborhoods.parquet')\n"
   ]
  },
  {
   "cell_type": "code",
   "execution_count": null,
   "metadata": {},
   "outputs": [],
   "source": []
  }
 ],
 "metadata": {
  "kernelspec": {
   "display_name": "Python 3 (ipykernel)",
   "language": "python",
   "name": "python3"
  },
  "language_info": {
   "codemirror_mode": {
    "name": "ipython",
    "version": 3
   },
   "file_extension": ".py",
   "mimetype": "text/x-python",
   "name": "python",
   "nbconvert_exporter": "python",
   "pygments_lexer": "ipython3",
   "version": "3.9.13"
  }
 },
 "nbformat": 4,
 "nbformat_minor": 1
}
