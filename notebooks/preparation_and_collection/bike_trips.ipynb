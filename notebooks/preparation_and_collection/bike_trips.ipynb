{
 "cells": [
  {
   "cell_type": "code",
   "execution_count": 218,
   "metadata": {
    "pycharm": {
     "name": "#%%\n"
    }
   },
   "outputs": [],
   "source": [
    "import pandas as pd\n",
    "import numpy as np\n",
    "import fastparquet"
   ]
  },
  {
   "cell_type": "code",
   "execution_count": 219,
   "metadata": {
    "pycharm": {
     "name": "#%%\n"
    }
   },
   "outputs": [],
   "source": [
    "df_raw = pd.read_csv(\"../../data/philadelphia_2016.csv\")"
   ]
  },
  {
   "cell_type": "code",
   "execution_count": 1,
   "outputs": [
    {
     "ename": "NameError",
     "evalue": "name 'df_raw' is not defined",
     "output_type": "error",
     "traceback": [
      "\u001B[1;31m---------------------------------------------------------------------------\u001B[0m",
      "\u001B[1;31mNameError\u001B[0m                                 Traceback (most recent call last)",
      "Cell \u001B[1;32mIn[1], line 1\u001B[0m\n\u001B[1;32m----> 1\u001B[0m \u001B[43mdf_raw\u001B[49m\u001B[38;5;241m.\u001B[39minfo()\n",
      "\u001B[1;31mNameError\u001B[0m: name 'df_raw' is not defined"
     ]
    }
   ],
   "source": [
    "df_raw.info()"
   ],
   "metadata": {
    "collapsed": false,
    "pycharm": {
     "name": "#%%\n"
    }
   }
  },
  {
   "cell_type": "markdown",
   "metadata": {
    "pycharm": {
     "name": "#%% md\n"
    }
   },
   "source": [
    "You can see from the df_raw.info(), that for start and end station id and name there are 10 missing rows, otherwise there aren't any, in addition the that start_station_id is a float when in reality it should be int, due to having no decimal place.\n",
    "Also the times are not formatted in the proper datetime format."
   ]
  },
  {
   "cell_type": "code",
   "execution_count": 221,
   "metadata": {
    "pycharm": {
     "name": "#%%\n"
    }
   },
   "outputs": [],
   "source": [
    "#Only take the rows that are not na in name or id\n",
    "df = df_raw[df_raw['start_station_id'].notna() & df_raw['start_station_name'].notna()].copy()\n",
    "df['start_station_id'] = df['start_station_id'].astype('int64')\n",
    "\n",
    "#Format to Datetime\n",
    "df['start_time'] = pd.to_datetime(df['start_time'])\n",
    "df['end_time'] = pd.to_datetime(df['end_time'])"
   ]
  },
  {
   "cell_type": "code",
   "execution_count": 222,
   "metadata": {
    "pycharm": {
     "name": "#%%\n"
    }
   },
   "outputs": [
    {
     "name": "stdout",
     "output_type": "stream",
     "text": [
      "<class 'pandas.core.frame.DataFrame'>\n",
      "Int64Index: 655048 entries, 0 to 655057\n",
      "Data columns (total 8 columns):\n",
      " #   Column              Non-Null Count   Dtype         \n",
      "---  ------              --------------   -----         \n",
      " 0   start_time          655048 non-null  datetime64[ns]\n",
      " 1   end_time            655048 non-null  datetime64[ns]\n",
      " 2   start_station_id    655048 non-null  int64         \n",
      " 3   end_station_id      655048 non-null  int64         \n",
      " 4   bike_id             655048 non-null  int64         \n",
      " 5   user_type           655048 non-null  object        \n",
      " 6   end_station_name    655048 non-null  object        \n",
      " 7   start_station_name  655048 non-null  object        \n",
      "dtypes: datetime64[ns](2), int64(3), object(3)\n",
      "memory usage: 45.0+ MB\n"
     ]
    }
   ],
   "source": [
    "df.info()"
   ]
  },
  {
   "cell_type": "markdown",
   "metadata": {
    "pycharm": {
     "name": "#%% md\n"
    }
   },
   "source": [
    "You can see now, that there are no null values and everything is formatted correctly"
   ]
  },
  {
   "cell_type": "code",
   "execution_count": 223,
   "metadata": {
    "pycharm": {
     "name": "#%%# add new column duration and determine its minimum and maximum values\n"
    }
   },
   "outputs": [
    {
     "name": "stdout",
     "output_type": "stream",
     "text": [
      "Shortest trip: -1 days +23:04:00\n",
      "Longest trip: 19 days 00:59:00\n"
     ]
    }
   ],
   "source": [
    "df['duration'] = (df['end_time'] - df['start_time'])\n",
    "\n",
    "print(f\"Shortest: {df['duration'].min()}\")\n",
    "print(f\"Longest: {df['duration'].max()}\")"
   ]
  },
  {
   "cell_type": "code",
   "execution_count": 224,
   "metadata": {
    "pycharm": {
     "name": "#%%\n"
    }
   },
   "outputs": [],
   "source": [
    "#Remove all the invalid times\n",
    "df = df[(df['duration'] <= pd.Timedelta(\"1d\")) & (df['duration'] >= pd.Timedelta(\"1m\")) | ((df['duration'] <= pd.Timedelta(\"5m\")) & (df['start_station_id'] == df['end_station_id']))]\n",
    "#Also Remove Station 3000 Called \"Virtual Station\" supposedly for Test Trips\n",
    "df = df[(df['start_station_id'] != 3000) & (df['end_station_id'] != 3000)]"
   ]
  },
  {
   "cell_type": "code",
   "execution_count": 225,
   "metadata": {
    "pycharm": {
     "name": "#%%\n"
    }
   },
   "outputs": [
    {
     "data": {
      "text/plain": [
       "array(['Indego30', 'Walk-up', 'IndegoFlex'], dtype=object)"
      ]
     },
     "execution_count": 225,
     "metadata": {},
     "output_type": "execute_result"
    }
   ],
   "source": [
    "#Look at different Types\n",
    "df['user_type'].unique()"
   ]
  },
  {
   "cell_type": "code",
   "execution_count": 226,
   "metadata": {
    "pycharm": {
     "name": "#%%\n"
    }
   },
   "outputs": [],
   "source": [
    "df_stations = pd.read_parquet('../../data/stations.parquet')\n",
    "del df_stations['name']"
   ]
  },
  {
   "cell_type": "markdown",
   "source": [
    "Merge Station data into the dataframe"
   ],
   "metadata": {
    "collapsed": false,
    "pycharm": {
     "name": "#%% md\n"
    }
   }
  },
  {
   "cell_type": "code",
   "execution_count": 227,
   "metadata": {
    "pycharm": {
     "name": "#%%\n"
    }
   },
   "outputs": [],
   "source": [
    "df = df.merge(df_stations, left_on='start_station_id', right_on='id')\n",
    "del df['id']\n",
    "df['start_lat'] = df['lat']\n",
    "del df['lat']\n",
    "df['start_lon'] = df['lon']\n",
    "del df['lon']\n",
    "\n",
    "df = df.merge(df_stations, left_on='end_station_id', right_on='id')\n",
    "del df['id']\n",
    "df['end_lat'] = df['lat']\n",
    "del df['lat']\n",
    "df['end_lon'] = df['lon']\n",
    "del df['lon']\n"
   ]
  },
  {
   "cell_type": "markdown",
   "source": [
    "Use Haversine function to calculate dist, between two GPS points"
   ],
   "metadata": {
    "collapsed": false,
    "pycharm": {
     "name": "#%% md\n"
    }
   }
  },
  {
   "cell_type": "code",
   "execution_count": null,
   "outputs": [],
   "source": [
    "# https://stackoverflow.com/questions/4913349/haversine-formula-in-python-bearing-and-distance-between-two-gps-points\n",
    "def haversine(lon1, lat1, lon2, lat2):\n",
    "    lon1, lat1, lon2, lat2 = map(np.radians, [lon1, lat1, lon2, lat2])\n",
    "\n",
    "    dlon = lon2 - lon1\n",
    "    dlat = lat2 - lat1\n",
    "\n",
    "    a = np.sin(dlat/2.0)**2 + np.cos(lat1) * np.cos(lat2) * np.sin(dlon/2.0)**2\n",
    "\n",
    "    c = 2 * np.arcsin(np.sqrt(a))\n",
    "    km = 6367 * c\n",
    "    return km"
   ],
   "metadata": {
    "collapsed": false,
    "pycharm": {
     "name": "#%%\n"
    }
   }
  },
  {
   "cell_type": "code",
   "execution_count": 229,
   "metadata": {
    "pycharm": {
     "name": "#%%\n"
    }
   },
   "outputs": [
    {
     "name": "stdout",
     "output_type": "stream",
     "text": [
      "Smallest distance: 0.0 km\n",
      "Greatest distance: 15.114165029636501 km\n"
     ]
    }
   ],
   "source": [
    "df[\"distance\"] = haversine(\n",
    "    df[\"start_lat\"],\n",
    "    df[\"start_lon\"],\n",
    "    df[\"end_lat\"],\n",
    "    df[\"end_lon\"],\n",
    ")\n",
    "\n",
    "print(f\"Smallest distance: {df['distance'].min()} km\")\n",
    "print(f\"Greatest distance: {df['distance'].max()} km\")"
   ]
  },
  {
   "cell_type": "markdown",
   "metadata": {
    "pycharm": {
     "name": "#%% md\n"
    }
   },
   "source": [
    "Calculate Speed to filter out unrealistic values. The maximum allowed speed of an ebike in the US is 20 mph, assuming the person has done no stops and as we are calculating the airline, these trips are almost certain to be faulty"
   ]
  },
  {
   "cell_type": "code",
   "execution_count": 230,
   "metadata": {
    "pycharm": {
     "name": "#%%\n"
    }
   },
   "outputs": [],
   "source": [
    "df[\"speed\"] = df[\"distance\"] / df[\"duration\"].apply(\n",
    "    lambda duration: duration.total_seconds() / (60 * 60)\n",
    ")\n",
    "\n",
    "max_allowed_kmh = 20 * 1.60934 # 20mp/h in km/h\n",
    "\n",
    "df = df[df['speed'] < max_allowed_kmh]"
   ]
  },
  {
   "cell_type": "markdown",
   "source": [
    "Calculate the \"average timepoint\" of every ride, this is a simplification to not have to juggle start and end time all the time"
   ],
   "metadata": {
    "collapsed": false,
    "pycharm": {
     "name": "#%% md\n"
    }
   }
  },
  {
   "cell_type": "code",
   "execution_count": 231,
   "metadata": {
    "pycharm": {
     "name": "#%%\n"
    }
   },
   "outputs": [],
   "source": [
    "df['average_time'] = df['end_time'] - (df['duration'] / 2)"
   ]
  },
  {
   "cell_type": "markdown",
   "source": [
    "Because there are weather datapoints missing, merge to the nearest, with pd.merge_asof"
   ],
   "metadata": {
    "collapsed": false,
    "pycharm": {
     "name": "#%% md\n"
    }
   }
  },
  {
   "cell_type": "code",
   "execution_count": 232,
   "metadata": {
    "pycharm": {
     "name": "#%%\n"
    }
   },
   "outputs": [],
   "source": [
    "df_weather = pd.read_parquet(\"../../data/weather_hourly_philadelphia_cleaned.parquet\")\n",
    "\n",
    "df_weather= df_weather.reset_index()\n",
    "df_weather.head()\n",
    "\n",
    "df = df.sort_values('average_time')\n",
    "df_weather_and_trips = pd.merge_asof(df, df_weather, left_on='average_time', right_on='date_time', direction='nearest')\n",
    "del df['average_time']\n",
    "df_weather_and_trips.to_parquet('../../data/bike_trips_cleaned.parquet')"
   ]
  }
 ],
 "metadata": {
  "kernelspec": {
   "display_name": "Python 3 (ipykernel)",
   "language": "python",
   "name": "python3"
  },
  "language_info": {
   "codemirror_mode": {
    "name": "ipython",
    "version": 3
   },
   "file_extension": ".py",
   "mimetype": "text/x-python",
   "name": "python",
   "nbconvert_exporter": "python",
   "pygments_lexer": "ipython3",
   "version": "3.9.13"
  }
 },
 "nbformat": 4,
 "nbformat_minor": 1
}